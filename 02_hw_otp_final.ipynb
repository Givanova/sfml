{
 "cells": [
  {
   "cell_type": "code",
   "execution_count": 1,
   "metadata": {
    "collapsed": true
   },
   "outputs": [],
   "source": [
    "import pandas as pd"
   ]
  },
  {
   "cell_type": "code",
   "execution_count": 2,
   "metadata": {
    "collapsed": true
   },
   "outputs": [],
   "source": [
    "# считаем описание данных\n",
    "df = pd.read_csv('02_otp_desc.csv', sep=';').loc[:,'ПОЛЕ':'ОПИСАНИЕ']"
   ]
  },
  {
   "cell_type": "code",
   "execution_count": 3,
   "metadata": {},
   "outputs": [
    {
     "data": {
      "text/html": [
       "<div>\n",
       "<style>\n",
       "    .dataframe thead tr:only-child th {\n",
       "        text-align: right;\n",
       "    }\n",
       "\n",
       "    .dataframe thead th {\n",
       "        text-align: left;\n",
       "    }\n",
       "\n",
       "    .dataframe tbody tr th {\n",
       "        vertical-align: top;\n",
       "    }\n",
       "</style>\n",
       "<table border=\"1\" class=\"dataframe\">\n",
       "  <thead>\n",
       "    <tr style=\"text-align: right;\">\n",
       "      <th></th>\n",
       "      <th>ПОЛЕ</th>\n",
       "      <th>ОПИСАНИЕ</th>\n",
       "    </tr>\n",
       "  </thead>\n",
       "  <tbody>\n",
       "    <tr>\n",
       "      <th>0</th>\n",
       "      <td>AGREEMENT_RK</td>\n",
       "      <td>уникальный идентификатор объекта в выборке</td>\n",
       "    </tr>\n",
       "    <tr>\n",
       "      <th>1</th>\n",
       "      <td>TARGET</td>\n",
       "      <td>целевая переменная:отклик на маркетинговую кам...</td>\n",
       "    </tr>\n",
       "    <tr>\n",
       "      <th>2</th>\n",
       "      <td>AGE</td>\n",
       "      <td>возраст клиента</td>\n",
       "    </tr>\n",
       "    <tr>\n",
       "      <th>3</th>\n",
       "      <td>SOCSTATUS_WORK_FL</td>\n",
       "      <td>социальный статус клиента относительно работы ...</td>\n",
       "    </tr>\n",
       "    <tr>\n",
       "      <th>4</th>\n",
       "      <td>SOCSTATUS_PENS_FL</td>\n",
       "      <td>социальный статус клиента относительно пенсии ...</td>\n",
       "    </tr>\n",
       "    <tr>\n",
       "      <th>5</th>\n",
       "      <td>GENDER</td>\n",
       "      <td>пол клиента</td>\n",
       "    </tr>\n",
       "    <tr>\n",
       "      <th>6</th>\n",
       "      <td>CHILD_TOTAL</td>\n",
       "      <td>количество детей клиента</td>\n",
       "    </tr>\n",
       "    <tr>\n",
       "      <th>7</th>\n",
       "      <td>DEPENDANTS</td>\n",
       "      <td>количество иждивенцев клиента</td>\n",
       "    </tr>\n",
       "    <tr>\n",
       "      <th>8</th>\n",
       "      <td>EDUCATION</td>\n",
       "      <td>образование</td>\n",
       "    </tr>\n",
       "    <tr>\n",
       "      <th>9</th>\n",
       "      <td>MARITAL_STATUS</td>\n",
       "      <td>семейное положение</td>\n",
       "    </tr>\n",
       "    <tr>\n",
       "      <th>10</th>\n",
       "      <td>GEN_INDUSTRY</td>\n",
       "      <td>отрасль работы клиента</td>\n",
       "    </tr>\n",
       "    <tr>\n",
       "      <th>11</th>\n",
       "      <td>GEN_TITLE</td>\n",
       "      <td>должность</td>\n",
       "    </tr>\n",
       "    <tr>\n",
       "      <th>12</th>\n",
       "      <td>ORG_TP_STATE</td>\n",
       "      <td>форма собственности компании</td>\n",
       "    </tr>\n",
       "    <tr>\n",
       "      <th>13</th>\n",
       "      <td>ORG_TP_FCAPITAL</td>\n",
       "      <td>отношение к иностранному капиталу</td>\n",
       "    </tr>\n",
       "    <tr>\n",
       "      <th>14</th>\n",
       "      <td>JOB_DIR</td>\n",
       "      <td>направление деятельности в нутри компании</td>\n",
       "    </tr>\n",
       "    <tr>\n",
       "      <th>15</th>\n",
       "      <td>FAMILY_INCOME</td>\n",
       "      <td>семейный доход (несколько категорий)</td>\n",
       "    </tr>\n",
       "    <tr>\n",
       "      <th>16</th>\n",
       "      <td>PERSONAL_INCOME</td>\n",
       "      <td>личный доход клиента (в рублях)</td>\n",
       "    </tr>\n",
       "    <tr>\n",
       "      <th>17</th>\n",
       "      <td>REG_ADDRESS_PROVINCE</td>\n",
       "      <td>область регистрации клиента</td>\n",
       "    </tr>\n",
       "    <tr>\n",
       "      <th>18</th>\n",
       "      <td>FACT_ADDRESS_PROVINCE</td>\n",
       "      <td>область фактического пребывания клиента</td>\n",
       "    </tr>\n",
       "    <tr>\n",
       "      <th>19</th>\n",
       "      <td>POSTAL_ADDRESS_PROVINCE</td>\n",
       "      <td>почтовый адрес область</td>\n",
       "    </tr>\n",
       "    <tr>\n",
       "      <th>20</th>\n",
       "      <td>TP_PROVINCE</td>\n",
       "      <td>область торговой точки, где клиент брал послед...</td>\n",
       "    </tr>\n",
       "    <tr>\n",
       "      <th>21</th>\n",
       "      <td>REGION_NM</td>\n",
       "      <td>регион РФ</td>\n",
       "    </tr>\n",
       "    <tr>\n",
       "      <th>22</th>\n",
       "      <td>REG_FACT_FL</td>\n",
       "      <td>адрес регистрации и адрес фактического пребыва...</td>\n",
       "    </tr>\n",
       "    <tr>\n",
       "      <th>23</th>\n",
       "      <td>FACT_POST_FL</td>\n",
       "      <td>адрес фактического пребывания клиента и его по...</td>\n",
       "    </tr>\n",
       "    <tr>\n",
       "      <th>24</th>\n",
       "      <td>REG_POST_FL</td>\n",
       "      <td>адрес регистрации клиента и его почтовый адрес...</td>\n",
       "    </tr>\n",
       "    <tr>\n",
       "      <th>25</th>\n",
       "      <td>REG_FACT_POST_FL</td>\n",
       "      <td>почтовый, фактический и адрес регистрации совп...</td>\n",
       "    </tr>\n",
       "    <tr>\n",
       "      <th>26</th>\n",
       "      <td>REG_FACT_POST_TP_FL</td>\n",
       "      <td>область регистрации, фактического пребывания, ...</td>\n",
       "    </tr>\n",
       "    <tr>\n",
       "      <th>27</th>\n",
       "      <td>FL_PRESENCE_FL</td>\n",
       "      <td>наличие в собственности квартиры (1 - есть, 0 ...</td>\n",
       "    </tr>\n",
       "    <tr>\n",
       "      <th>28</th>\n",
       "      <td>OWN_AUTO</td>\n",
       "      <td>кол-во автомобилей в собственности</td>\n",
       "    </tr>\n",
       "    <tr>\n",
       "      <th>29</th>\n",
       "      <td>AUTO_RUS_FL</td>\n",
       "      <td>наличие в собственности автомобиля российского...</td>\n",
       "    </tr>\n",
       "    <tr>\n",
       "      <th>30</th>\n",
       "      <td>HS_PRESENCE_FL</td>\n",
       "      <td>наличие в собственности загородного дома (1 - ...</td>\n",
       "    </tr>\n",
       "    <tr>\n",
       "      <th>31</th>\n",
       "      <td>COT_PRESENCE_FL</td>\n",
       "      <td>наличие в собственности котеджа (1 - есть, 0 -...</td>\n",
       "    </tr>\n",
       "    <tr>\n",
       "      <th>32</th>\n",
       "      <td>GAR_PRESENCE_FL</td>\n",
       "      <td>наличие в собственности гаража (1 - есть, 0 - ...</td>\n",
       "    </tr>\n",
       "    <tr>\n",
       "      <th>33</th>\n",
       "      <td>LAND_PRESENCE_FL</td>\n",
       "      <td>наличие в собственности земельного участка (1 ...</td>\n",
       "    </tr>\n",
       "    <tr>\n",
       "      <th>34</th>\n",
       "      <td>CREDIT</td>\n",
       "      <td>сумма последнего кредита клиента (в рублях)</td>\n",
       "    </tr>\n",
       "    <tr>\n",
       "      <th>35</th>\n",
       "      <td>TERM</td>\n",
       "      <td>срок кредита</td>\n",
       "    </tr>\n",
       "    <tr>\n",
       "      <th>36</th>\n",
       "      <td>FST_PAYMENT</td>\n",
       "      <td>первоначальный взнос (в рублях)</td>\n",
       "    </tr>\n",
       "    <tr>\n",
       "      <th>37</th>\n",
       "      <td>DL_DOCUMENT_FL</td>\n",
       "      <td>в анкете клиент указал водительское удостовере...</td>\n",
       "    </tr>\n",
       "    <tr>\n",
       "      <th>38</th>\n",
       "      <td>GPF_DOCUMENT_FL</td>\n",
       "      <td>в анкете клиен указал ГПФ (1 - указал, 0 - не ...</td>\n",
       "    </tr>\n",
       "    <tr>\n",
       "      <th>39</th>\n",
       "      <td>FACT_LIVING_TERM</td>\n",
       "      <td>количество месяцев проживания по месту фактиче...</td>\n",
       "    </tr>\n",
       "    <tr>\n",
       "      <th>40</th>\n",
       "      <td>WORK_TIME</td>\n",
       "      <td>время работы на текущем месте (в месяцах)</td>\n",
       "    </tr>\n",
       "    <tr>\n",
       "      <th>41</th>\n",
       "      <td>FACT_PHONE_FL</td>\n",
       "      <td>наличие в заявке телефона по фактическому мест...</td>\n",
       "    </tr>\n",
       "    <tr>\n",
       "      <th>42</th>\n",
       "      <td>REG_PHONE_FL</td>\n",
       "      <td>наличие в заявке телефона по месту регистрации</td>\n",
       "    </tr>\n",
       "    <tr>\n",
       "      <th>43</th>\n",
       "      <td>GEN_PHONE_FL</td>\n",
       "      <td>наличие в заявке рабочего телефона</td>\n",
       "    </tr>\n",
       "    <tr>\n",
       "      <th>44</th>\n",
       "      <td>LOAN_NUM_TOTAL</td>\n",
       "      <td>количество ссуд клиента</td>\n",
       "    </tr>\n",
       "    <tr>\n",
       "      <th>45</th>\n",
       "      <td>LOAN_NUM_CLOSED</td>\n",
       "      <td>количество погашенных ссуд клиента</td>\n",
       "    </tr>\n",
       "    <tr>\n",
       "      <th>46</th>\n",
       "      <td>LOAN_NUM_PAYM</td>\n",
       "      <td>количество платежей, которые сделал клиент</td>\n",
       "    </tr>\n",
       "    <tr>\n",
       "      <th>47</th>\n",
       "      <td>LOAN_DLQ_NUM</td>\n",
       "      <td>количество просрочек, допущенных клиентом</td>\n",
       "    </tr>\n",
       "    <tr>\n",
       "      <th>48</th>\n",
       "      <td>LOAN_MAX_DLQ</td>\n",
       "      <td>номер максимальной просрочки, допущенной клиентом</td>\n",
       "    </tr>\n",
       "    <tr>\n",
       "      <th>49</th>\n",
       "      <td>LOAN_AVG_DLQ_AMT</td>\n",
       "      <td>средняя сумма просрочки (в рублях)</td>\n",
       "    </tr>\n",
       "    <tr>\n",
       "      <th>50</th>\n",
       "      <td>LOAN_MAX_DLQ_AMT</td>\n",
       "      <td>максимальная сумма просрочки (в рублях)</td>\n",
       "    </tr>\n",
       "    <tr>\n",
       "      <th>51</th>\n",
       "      <td>PREVIOUS_CARD_NUM_UTILIZED</td>\n",
       "      <td>количество уже утилизированных карт ( если пус...</td>\n",
       "    </tr>\n",
       "  </tbody>\n",
       "</table>\n",
       "</div>"
      ],
      "text/plain": [
       "                          ПОЛЕ  \\\n",
       "0                 AGREEMENT_RK   \n",
       "1                       TARGET   \n",
       "2                          AGE   \n",
       "3            SOCSTATUS_WORK_FL   \n",
       "4            SOCSTATUS_PENS_FL   \n",
       "5                       GENDER   \n",
       "6                  CHILD_TOTAL   \n",
       "7                   DEPENDANTS   \n",
       "8                    EDUCATION   \n",
       "9               MARITAL_STATUS   \n",
       "10                GEN_INDUSTRY   \n",
       "11                   GEN_TITLE   \n",
       "12                ORG_TP_STATE   \n",
       "13             ORG_TP_FCAPITAL   \n",
       "14                     JOB_DIR   \n",
       "15               FAMILY_INCOME   \n",
       "16             PERSONAL_INCOME   \n",
       "17        REG_ADDRESS_PROVINCE   \n",
       "18       FACT_ADDRESS_PROVINCE   \n",
       "19     POSTAL_ADDRESS_PROVINCE   \n",
       "20                 TP_PROVINCE   \n",
       "21                   REGION_NM   \n",
       "22                 REG_FACT_FL   \n",
       "23                FACT_POST_FL   \n",
       "24                 REG_POST_FL   \n",
       "25            REG_FACT_POST_FL   \n",
       "26         REG_FACT_POST_TP_FL   \n",
       "27              FL_PRESENCE_FL   \n",
       "28                    OWN_AUTO   \n",
       "29                 AUTO_RUS_FL   \n",
       "30              HS_PRESENCE_FL   \n",
       "31             COT_PRESENCE_FL   \n",
       "32             GAR_PRESENCE_FL   \n",
       "33            LAND_PRESENCE_FL   \n",
       "34                      CREDIT   \n",
       "35                        TERM   \n",
       "36                 FST_PAYMENT   \n",
       "37              DL_DOCUMENT_FL   \n",
       "38             GPF_DOCUMENT_FL   \n",
       "39            FACT_LIVING_TERM   \n",
       "40                   WORK_TIME   \n",
       "41               FACT_PHONE_FL   \n",
       "42                REG_PHONE_FL   \n",
       "43                GEN_PHONE_FL   \n",
       "44              LOAN_NUM_TOTAL   \n",
       "45             LOAN_NUM_CLOSED   \n",
       "46               LOAN_NUM_PAYM   \n",
       "47                LOAN_DLQ_NUM   \n",
       "48                LOAN_MAX_DLQ   \n",
       "49            LOAN_AVG_DLQ_AMT   \n",
       "50            LOAN_MAX_DLQ_AMT   \n",
       "51  PREVIOUS_CARD_NUM_UTILIZED   \n",
       "\n",
       "                                             ОПИСАНИЕ  \n",
       "0          уникальный идентификатор объекта в выборке  \n",
       "1   целевая переменная:отклик на маркетинговую кам...  \n",
       "2                                     возраст клиента  \n",
       "3   социальный статус клиента относительно работы ...  \n",
       "4   социальный статус клиента относительно пенсии ...  \n",
       "5                                         пол клиента  \n",
       "6                            количество детей клиента  \n",
       "7                       количество иждивенцев клиента  \n",
       "8                                         образование  \n",
       "9                                  семейное положение  \n",
       "10                             отрасль работы клиента  \n",
       "11                                          должность  \n",
       "12                       форма собственности компании  \n",
       "13                  отношение к иностранному капиталу  \n",
       "14          направление деятельности в нутри компании  \n",
       "15               семейный доход (несколько категорий)  \n",
       "16                    личный доход клиента (в рублях)  \n",
       "17                        область регистрации клиента  \n",
       "18            область фактического пребывания клиента  \n",
       "19                             почтовый адрес область  \n",
       "20  область торговой точки, где клиент брал послед...  \n",
       "21                                          регион РФ  \n",
       "22  адрес регистрации и адрес фактического пребыва...  \n",
       "23  адрес фактического пребывания клиента и его по...  \n",
       "24  адрес регистрации клиента и его почтовый адрес...  \n",
       "25  почтовый, фактический и адрес регистрации совп...  \n",
       "26  область регистрации, фактического пребывания, ...  \n",
       "27  наличие в собственности квартиры (1 - есть, 0 ...  \n",
       "28                кол-во автомобилей в собственности   \n",
       "29  наличие в собственности автомобиля российского...  \n",
       "30  наличие в собственности загородного дома (1 - ...  \n",
       "31  наличие в собственности котеджа (1 - есть, 0 -...  \n",
       "32  наличие в собственности гаража (1 - есть, 0 - ...  \n",
       "33  наличие в собственности земельного участка (1 ...  \n",
       "34        сумма последнего кредита клиента (в рублях)  \n",
       "35                                       срок кредита  \n",
       "36                    первоначальный взнос (в рублях)  \n",
       "37  в анкете клиент указал водительское удостовере...  \n",
       "38  в анкете клиен указал ГПФ (1 - указал, 0 - не ...  \n",
       "39  количество месяцев проживания по месту фактиче...  \n",
       "40          время работы на текущем месте (в месяцах)  \n",
       "41  наличие в заявке телефона по фактическому мест...  \n",
       "42     наличие в заявке телефона по месту регистрации  \n",
       "43                 наличие в заявке рабочего телефона  \n",
       "44                            количество ссуд клиента  \n",
       "45                 количество погашенных ссуд клиента  \n",
       "46         количество платежей, которые сделал клиент  \n",
       "47          количество просрочек, допущенных клиентом  \n",
       "48  номер максимальной просрочки, допущенной клиентом  \n",
       "49                 средняя сумма просрочки (в рублях)  \n",
       "50            максимальная сумма просрочки (в рублях)  \n",
       "51  количество уже утилизированных карт ( если пус...  "
      ]
     },
     "execution_count": 3,
     "metadata": {},
     "output_type": "execute_result"
    }
   ],
   "source": [
    "df"
   ]
  },
  {
   "cell_type": "code",
   "execution_count": 4,
   "metadata": {
    "collapsed": true,
    "scrolled": true
   },
   "outputs": [],
   "source": [
    "# считаем все-все данные"
   ]
  },
  {
   "cell_type": "code",
   "execution_count": 5,
   "metadata": {
    "collapsed": true
   },
   "outputs": [],
   "source": [
    "train = pd.read_csv('02_otp_train.csv', sep=';')"
   ]
  },
  {
   "cell_type": "code",
   "execution_count": 6,
   "metadata": {},
   "outputs": [
    {
     "data": {
      "text/plain": [
       "(15223, 52)"
      ]
     },
     "execution_count": 6,
     "metadata": {},
     "output_type": "execute_result"
    }
   ],
   "source": [
    "train.shape"
   ]
  },
  {
   "cell_type": "code",
   "execution_count": 7,
   "metadata": {},
   "outputs": [
    {
     "data": {
      "text/html": [
       "<div>\n",
       "<style>\n",
       "    .dataframe thead tr:only-child th {\n",
       "        text-align: right;\n",
       "    }\n",
       "\n",
       "    .dataframe thead th {\n",
       "        text-align: left;\n",
       "    }\n",
       "\n",
       "    .dataframe tbody tr th {\n",
       "        vertical-align: top;\n",
       "    }\n",
       "</style>\n",
       "<table border=\"1\" class=\"dataframe\">\n",
       "  <thead>\n",
       "    <tr style=\"text-align: right;\">\n",
       "      <th></th>\n",
       "      <th>AGREEMENT_RK</th>\n",
       "      <th>TARGET</th>\n",
       "      <th>AGE</th>\n",
       "      <th>SOCSTATUS_WORK_FL</th>\n",
       "      <th>SOCSTATUS_PENS_FL</th>\n",
       "      <th>GENDER</th>\n",
       "      <th>CHILD_TOTAL</th>\n",
       "      <th>DEPENDANTS</th>\n",
       "      <th>EDUCATION</th>\n",
       "      <th>MARITAL_STATUS</th>\n",
       "      <th>...</th>\n",
       "      <th>REG_PHONE_FL</th>\n",
       "      <th>GEN_PHONE_FL</th>\n",
       "      <th>LOAN_NUM_TOTAL</th>\n",
       "      <th>LOAN_NUM_CLOSED</th>\n",
       "      <th>LOAN_NUM_PAYM</th>\n",
       "      <th>LOAN_DLQ_NUM</th>\n",
       "      <th>LOAN_MAX_DLQ</th>\n",
       "      <th>LOAN_AVG_DLQ_AMT</th>\n",
       "      <th>LOAN_MAX_DLQ_AMT</th>\n",
       "      <th>PREVIOUS_CARD_NUM_UTILIZED</th>\n",
       "    </tr>\n",
       "  </thead>\n",
       "  <tbody>\n",
       "    <tr>\n",
       "      <th>0</th>\n",
       "      <td>59910150</td>\n",
       "      <td>0</td>\n",
       "      <td>49</td>\n",
       "      <td>1</td>\n",
       "      <td>0</td>\n",
       "      <td>1</td>\n",
       "      <td>2</td>\n",
       "      <td>1</td>\n",
       "      <td>Среднее специальное</td>\n",
       "      <td>Состою в браке</td>\n",
       "      <td>...</td>\n",
       "      <td>0</td>\n",
       "      <td>1</td>\n",
       "      <td>1</td>\n",
       "      <td>1</td>\n",
       "      <td>6</td>\n",
       "      <td>2</td>\n",
       "      <td>1</td>\n",
       "      <td>1580</td>\n",
       "      <td>1580</td>\n",
       "      <td>NaN</td>\n",
       "    </tr>\n",
       "    <tr>\n",
       "      <th>1</th>\n",
       "      <td>59910230</td>\n",
       "      <td>0</td>\n",
       "      <td>32</td>\n",
       "      <td>1</td>\n",
       "      <td>0</td>\n",
       "      <td>1</td>\n",
       "      <td>3</td>\n",
       "      <td>3</td>\n",
       "      <td>Среднее</td>\n",
       "      <td>Состою в браке</td>\n",
       "      <td>...</td>\n",
       "      <td>0</td>\n",
       "      <td>1</td>\n",
       "      <td>1</td>\n",
       "      <td>1</td>\n",
       "      <td>6</td>\n",
       "      <td>1</td>\n",
       "      <td>1</td>\n",
       "      <td>4020</td>\n",
       "      <td>4020</td>\n",
       "      <td>NaN</td>\n",
       "    </tr>\n",
       "    <tr>\n",
       "      <th>2</th>\n",
       "      <td>59910525</td>\n",
       "      <td>0</td>\n",
       "      <td>52</td>\n",
       "      <td>1</td>\n",
       "      <td>0</td>\n",
       "      <td>1</td>\n",
       "      <td>4</td>\n",
       "      <td>0</td>\n",
       "      <td>Неполное среднее</td>\n",
       "      <td>Состою в браке</td>\n",
       "      <td>...</td>\n",
       "      <td>0</td>\n",
       "      <td>1</td>\n",
       "      <td>2</td>\n",
       "      <td>1</td>\n",
       "      <td>11</td>\n",
       "      <td>0</td>\n",
       "      <td>0</td>\n",
       "      <td>0</td>\n",
       "      <td>0</td>\n",
       "      <td>NaN</td>\n",
       "    </tr>\n",
       "    <tr>\n",
       "      <th>3</th>\n",
       "      <td>59910803</td>\n",
       "      <td>0</td>\n",
       "      <td>39</td>\n",
       "      <td>1</td>\n",
       "      <td>0</td>\n",
       "      <td>1</td>\n",
       "      <td>1</td>\n",
       "      <td>1</td>\n",
       "      <td>Высшее</td>\n",
       "      <td>Состою в браке</td>\n",
       "      <td>...</td>\n",
       "      <td>1</td>\n",
       "      <td>1</td>\n",
       "      <td>1</td>\n",
       "      <td>1</td>\n",
       "      <td>6</td>\n",
       "      <td>3</td>\n",
       "      <td>1</td>\n",
       "      <td>1589,92333333333</td>\n",
       "      <td>1590</td>\n",
       "      <td>NaN</td>\n",
       "    </tr>\n",
       "    <tr>\n",
       "      <th>4</th>\n",
       "      <td>59911781</td>\n",
       "      <td>0</td>\n",
       "      <td>30</td>\n",
       "      <td>1</td>\n",
       "      <td>0</td>\n",
       "      <td>0</td>\n",
       "      <td>0</td>\n",
       "      <td>0</td>\n",
       "      <td>Среднее</td>\n",
       "      <td>Состою в браке</td>\n",
       "      <td>...</td>\n",
       "      <td>0</td>\n",
       "      <td>1</td>\n",
       "      <td>2</td>\n",
       "      <td>1</td>\n",
       "      <td>16</td>\n",
       "      <td>2</td>\n",
       "      <td>1</td>\n",
       "      <td>1152,15</td>\n",
       "      <td>2230</td>\n",
       "      <td>NaN</td>\n",
       "    </tr>\n",
       "  </tbody>\n",
       "</table>\n",
       "<p>5 rows × 52 columns</p>\n",
       "</div>"
      ],
      "text/plain": [
       "   AGREEMENT_RK  TARGET  AGE  SOCSTATUS_WORK_FL  SOCSTATUS_PENS_FL  GENDER  \\\n",
       "0      59910150       0   49                  1                  0       1   \n",
       "1      59910230       0   32                  1                  0       1   \n",
       "2      59910525       0   52                  1                  0       1   \n",
       "3      59910803       0   39                  1                  0       1   \n",
       "4      59911781       0   30                  1                  0       0   \n",
       "\n",
       "   CHILD_TOTAL  DEPENDANTS            EDUCATION  MARITAL_STATUS  \\\n",
       "0            2           1  Среднее специальное  Состою в браке   \n",
       "1            3           3              Среднее  Состою в браке   \n",
       "2            4           0     Неполное среднее  Состою в браке   \n",
       "3            1           1               Высшее  Состою в браке   \n",
       "4            0           0              Среднее  Состою в браке   \n",
       "\n",
       "             ...             REG_PHONE_FL GEN_PHONE_FL LOAN_NUM_TOTAL  \\\n",
       "0            ...                        0            1              1   \n",
       "1            ...                        0            1              1   \n",
       "2            ...                        0            1              2   \n",
       "3            ...                        1            1              1   \n",
       "4            ...                        0            1              2   \n",
       "\n",
       "  LOAN_NUM_CLOSED LOAN_NUM_PAYM LOAN_DLQ_NUM LOAN_MAX_DLQ  LOAN_AVG_DLQ_AMT  \\\n",
       "0               1             6            2            1              1580   \n",
       "1               1             6            1            1              4020   \n",
       "2               1            11            0            0                 0   \n",
       "3               1             6            3            1  1589,92333333333   \n",
       "4               1            16            2            1           1152,15   \n",
       "\n",
       "  LOAN_MAX_DLQ_AMT PREVIOUS_CARD_NUM_UTILIZED  \n",
       "0             1580                        NaN  \n",
       "1             4020                        NaN  \n",
       "2                0                        NaN  \n",
       "3             1590                        NaN  \n",
       "4             2230                        NaN  \n",
       "\n",
       "[5 rows x 52 columns]"
      ]
     },
     "execution_count": 7,
     "metadata": {},
     "output_type": "execute_result"
    }
   ],
   "source": [
    "train.head()"
   ]
  },
  {
   "cell_type": "code",
   "execution_count": 8,
   "metadata": {
    "collapsed": true
   },
   "outputs": [],
   "source": [
    "test = pd.read_csv('02_otp_test.csv', sep=';')"
   ]
  },
  {
   "cell_type": "code",
   "execution_count": 9,
   "metadata": {},
   "outputs": [
    {
     "data": {
      "text/plain": [
       "(14910, 51)"
      ]
     },
     "execution_count": 9,
     "metadata": {},
     "output_type": "execute_result"
    }
   ],
   "source": [
    "test.shape"
   ]
  },
  {
   "cell_type": "code",
   "execution_count": 10,
   "metadata": {},
   "outputs": [
    {
     "data": {
      "text/html": [
       "<div>\n",
       "<style>\n",
       "    .dataframe thead tr:only-child th {\n",
       "        text-align: right;\n",
       "    }\n",
       "\n",
       "    .dataframe thead th {\n",
       "        text-align: left;\n",
       "    }\n",
       "\n",
       "    .dataframe tbody tr th {\n",
       "        vertical-align: top;\n",
       "    }\n",
       "</style>\n",
       "<table border=\"1\" class=\"dataframe\">\n",
       "  <thead>\n",
       "    <tr style=\"text-align: right;\">\n",
       "      <th></th>\n",
       "      <th>AGREEMENT_RK</th>\n",
       "      <th>AGE</th>\n",
       "      <th>SOCSTATUS_WORK_FL</th>\n",
       "      <th>SOCSTATUS_PENS_FL</th>\n",
       "      <th>GENDER</th>\n",
       "      <th>CHILD_TOTAL</th>\n",
       "      <th>DEPENDANTS</th>\n",
       "      <th>EDUCATION</th>\n",
       "      <th>MARITAL_STATUS</th>\n",
       "      <th>GEN_INDUSTRY</th>\n",
       "      <th>...</th>\n",
       "      <th>REG_PHONE_FL</th>\n",
       "      <th>GEN_PHONE_FL</th>\n",
       "      <th>LOAN_NUM_TOTAL</th>\n",
       "      <th>LOAN_NUM_CLOSED</th>\n",
       "      <th>LOAN_NUM_PAYM</th>\n",
       "      <th>LOAN_DLQ_NUM</th>\n",
       "      <th>LOAN_MAX_DLQ</th>\n",
       "      <th>LOAN_AVG_DLQ_AMT</th>\n",
       "      <th>LOAN_MAX_DLQ_AMT</th>\n",
       "      <th>PREVIOUS_CARD_NUM_UTILIZED</th>\n",
       "    </tr>\n",
       "  </thead>\n",
       "  <tbody>\n",
       "    <tr>\n",
       "      <th>0</th>\n",
       "      <td>59909969</td>\n",
       "      <td>30</td>\n",
       "      <td>1</td>\n",
       "      <td>0</td>\n",
       "      <td>1</td>\n",
       "      <td>1</td>\n",
       "      <td>1</td>\n",
       "      <td>Среднее специальное</td>\n",
       "      <td>Не состоял в браке</td>\n",
       "      <td>Образование</td>\n",
       "      <td>...</td>\n",
       "      <td>0</td>\n",
       "      <td>1</td>\n",
       "      <td>2</td>\n",
       "      <td>2</td>\n",
       "      <td>8</td>\n",
       "      <td>0</td>\n",
       "      <td>0</td>\n",
       "      <td>0</td>\n",
       "      <td>0</td>\n",
       "      <td>NaN</td>\n",
       "    </tr>\n",
       "    <tr>\n",
       "      <th>1</th>\n",
       "      <td>59910420</td>\n",
       "      <td>48</td>\n",
       "      <td>0</td>\n",
       "      <td>1</td>\n",
       "      <td>1</td>\n",
       "      <td>0</td>\n",
       "      <td>0</td>\n",
       "      <td>Среднее</td>\n",
       "      <td>Состою в браке</td>\n",
       "      <td>NaN</td>\n",
       "      <td>...</td>\n",
       "      <td>0</td>\n",
       "      <td>0</td>\n",
       "      <td>2</td>\n",
       "      <td>1</td>\n",
       "      <td>15</td>\n",
       "      <td>0</td>\n",
       "      <td>0</td>\n",
       "      <td>0</td>\n",
       "      <td>0</td>\n",
       "      <td>NaN</td>\n",
       "    </tr>\n",
       "    <tr>\n",
       "      <th>2</th>\n",
       "      <td>59911223</td>\n",
       "      <td>35</td>\n",
       "      <td>1</td>\n",
       "      <td>0</td>\n",
       "      <td>0</td>\n",
       "      <td>1</td>\n",
       "      <td>0</td>\n",
       "      <td>Среднее</td>\n",
       "      <td>Не состоял в браке</td>\n",
       "      <td>Металлургия/Промышленность/Машиностроение</td>\n",
       "      <td>...</td>\n",
       "      <td>0</td>\n",
       "      <td>1</td>\n",
       "      <td>1</td>\n",
       "      <td>1</td>\n",
       "      <td>1</td>\n",
       "      <td>0</td>\n",
       "      <td>0</td>\n",
       "      <td>0</td>\n",
       "      <td>0</td>\n",
       "      <td>NaN</td>\n",
       "    </tr>\n",
       "    <tr>\n",
       "      <th>3</th>\n",
       "      <td>59911322</td>\n",
       "      <td>22</td>\n",
       "      <td>1</td>\n",
       "      <td>0</td>\n",
       "      <td>0</td>\n",
       "      <td>0</td>\n",
       "      <td>0</td>\n",
       "      <td>Среднее</td>\n",
       "      <td>Не состоял в браке</td>\n",
       "      <td>Другие сферы</td>\n",
       "      <td>...</td>\n",
       "      <td>0</td>\n",
       "      <td>1</td>\n",
       "      <td>3</td>\n",
       "      <td>2</td>\n",
       "      <td>9</td>\n",
       "      <td>0</td>\n",
       "      <td>0</td>\n",
       "      <td>0</td>\n",
       "      <td>0</td>\n",
       "      <td>NaN</td>\n",
       "    </tr>\n",
       "    <tr>\n",
       "      <th>4</th>\n",
       "      <td>59911438</td>\n",
       "      <td>27</td>\n",
       "      <td>1</td>\n",
       "      <td>0</td>\n",
       "      <td>1</td>\n",
       "      <td>2</td>\n",
       "      <td>2</td>\n",
       "      <td>Высшее</td>\n",
       "      <td>Состою в браке</td>\n",
       "      <td>Образование</td>\n",
       "      <td>...</td>\n",
       "      <td>0</td>\n",
       "      <td>1</td>\n",
       "      <td>1</td>\n",
       "      <td>1</td>\n",
       "      <td>5</td>\n",
       "      <td>0</td>\n",
       "      <td>0</td>\n",
       "      <td>0</td>\n",
       "      <td>0</td>\n",
       "      <td>NaN</td>\n",
       "    </tr>\n",
       "  </tbody>\n",
       "</table>\n",
       "<p>5 rows × 51 columns</p>\n",
       "</div>"
      ],
      "text/plain": [
       "   AGREEMENT_RK  AGE  SOCSTATUS_WORK_FL  SOCSTATUS_PENS_FL  GENDER  \\\n",
       "0      59909969   30                  1                  0       1   \n",
       "1      59910420   48                  0                  1       1   \n",
       "2      59911223   35                  1                  0       0   \n",
       "3      59911322   22                  1                  0       0   \n",
       "4      59911438   27                  1                  0       1   \n",
       "\n",
       "   CHILD_TOTAL  DEPENDANTS            EDUCATION      MARITAL_STATUS  \\\n",
       "0            1           1  Среднее специальное  Не состоял в браке   \n",
       "1            0           0              Среднее      Состою в браке   \n",
       "2            1           0              Среднее  Не состоял в браке   \n",
       "3            0           0              Среднее  Не состоял в браке   \n",
       "4            2           2               Высшее      Состою в браке   \n",
       "\n",
       "                                GEN_INDUSTRY            ...              \\\n",
       "0                                Образование            ...               \n",
       "1                                        NaN            ...               \n",
       "2  Металлургия/Промышленность/Машиностроение            ...               \n",
       "3                               Другие сферы            ...               \n",
       "4                                Образование            ...               \n",
       "\n",
       "  REG_PHONE_FL GEN_PHONE_FL LOAN_NUM_TOTAL LOAN_NUM_CLOSED LOAN_NUM_PAYM  \\\n",
       "0            0            1              2               2             8   \n",
       "1            0            0              2               1            15   \n",
       "2            0            1              1               1             1   \n",
       "3            0            1              3               2             9   \n",
       "4            0            1              1               1             5   \n",
       "\n",
       "  LOAN_DLQ_NUM LOAN_MAX_DLQ LOAN_AVG_DLQ_AMT LOAN_MAX_DLQ_AMT  \\\n",
       "0            0            0                0                0   \n",
       "1            0            0                0                0   \n",
       "2            0            0                0                0   \n",
       "3            0            0                0                0   \n",
       "4            0            0                0                0   \n",
       "\n",
       "  PREVIOUS_CARD_NUM_UTILIZED  \n",
       "0                        NaN  \n",
       "1                        NaN  \n",
       "2                        NaN  \n",
       "3                        NaN  \n",
       "4                        NaN  \n",
       "\n",
       "[5 rows x 51 columns]"
      ]
     },
     "execution_count": 10,
     "metadata": {},
     "output_type": "execute_result"
    }
   ],
   "source": [
    "test.head()"
   ]
  },
  {
   "cell_type": "code",
   "execution_count": 11,
   "metadata": {
    "collapsed": true
   },
   "outputs": [],
   "source": [
    "# отделим таргет от TRAIN-а"
   ]
  },
  {
   "cell_type": "code",
   "execution_count": 12,
   "metadata": {
    "collapsed": true
   },
   "outputs": [],
   "source": [
    "y = train['TARGET']"
   ]
  },
  {
   "cell_type": "code",
   "execution_count": 13,
   "metadata": {
    "collapsed": true
   },
   "outputs": [],
   "source": [
    "train = train.drop('TARGET', axis=1)"
   ]
  },
  {
   "cell_type": "code",
   "execution_count": 14,
   "metadata": {
    "collapsed": true
   },
   "outputs": [],
   "source": [
    "# соеденим train и test "
   ]
  },
  {
   "cell_type": "code",
   "execution_count": 15,
   "metadata": {
    "collapsed": true
   },
   "outputs": [],
   "source": [
    "all_data = pd.concat([train, test])"
   ]
  },
  {
   "cell_type": "code",
   "execution_count": 16,
   "metadata": {
    "collapsed": true
   },
   "outputs": [],
   "source": [
    "# необходимо удалить индекс, \n",
    "# у нас есть 0-строка в train и 0-строка в test (и так далее 1,2,3,4)\n",
    "# если мы просто объеденим - у нас сохранятся индексы\n",
    "# мы же просто уберем индекс и автоматически создастся новый индекс, сквозной и уникальный\n",
    "all_data = all_data.reset_index(drop=True)"
   ]
  },
  {
   "cell_type": "code",
   "execution_count": 17,
   "metadata": {
    "scrolled": false
   },
   "outputs": [
    {
     "name": "stdout",
     "output_type": "stream",
     "text": [
      "<class 'pandas.core.frame.DataFrame'>\n",
      "RangeIndex: 30133 entries, 0 to 30132\n",
      "Data columns (total 51 columns):\n",
      "AGREEMENT_RK                  30133 non-null int64\n",
      "AGE                           30133 non-null int64\n",
      "SOCSTATUS_WORK_FL             30133 non-null int64\n",
      "SOCSTATUS_PENS_FL             30133 non-null int64\n",
      "GENDER                        30133 non-null int64\n",
      "CHILD_TOTAL                   30133 non-null int64\n",
      "DEPENDANTS                    30133 non-null int64\n",
      "EDUCATION                     30133 non-null object\n",
      "MARITAL_STATUS                30133 non-null object\n",
      "GEN_INDUSTRY                  27420 non-null object\n",
      "GEN_TITLE                     27420 non-null object\n",
      "ORG_TP_STATE                  27420 non-null object\n",
      "ORG_TP_FCAPITAL               27425 non-null object\n",
      "JOB_DIR                       27420 non-null object\n",
      "FAMILY_INCOME                 30133 non-null object\n",
      "PERSONAL_INCOME               30133 non-null object\n",
      "REG_ADDRESS_PROVINCE          30133 non-null object\n",
      "FACT_ADDRESS_PROVINCE         30133 non-null object\n",
      "POSTAL_ADDRESS_PROVINCE       30133 non-null object\n",
      "TP_PROVINCE                   29543 non-null object\n",
      "REGION_NM                     30131 non-null object\n",
      "REG_FACT_FL                   30133 non-null int64\n",
      "FACT_POST_FL                  30133 non-null int64\n",
      "REG_POST_FL                   30133 non-null int64\n",
      "REG_FACT_POST_FL              30133 non-null int64\n",
      "REG_FACT_POST_TP_FL           30133 non-null int64\n",
      "FL_PRESENCE_FL                30133 non-null int64\n",
      "OWN_AUTO                      30133 non-null int64\n",
      "AUTO_RUS_FL                   30133 non-null int64\n",
      "HS_PRESENCE_FL                30133 non-null int64\n",
      "COT_PRESENCE_FL               30133 non-null int64\n",
      "GAR_PRESENCE_FL               30133 non-null int64\n",
      "LAND_PRESENCE_FL              30133 non-null int64\n",
      "CREDIT                        30133 non-null object\n",
      "TERM                          30133 non-null int64\n",
      "FST_PAYMENT                   30133 non-null object\n",
      "DL_DOCUMENT_FL                30133 non-null int64\n",
      "GPF_DOCUMENT_FL               30133 non-null int64\n",
      "FACT_LIVING_TERM              30133 non-null int64\n",
      "WORK_TIME                     27416 non-null float64\n",
      "FACT_PHONE_FL                 30133 non-null int64\n",
      "REG_PHONE_FL                  30133 non-null int64\n",
      "GEN_PHONE_FL                  30133 non-null int64\n",
      "LOAN_NUM_TOTAL                30133 non-null int64\n",
      "LOAN_NUM_CLOSED               30133 non-null int64\n",
      "LOAN_NUM_PAYM                 30133 non-null int64\n",
      "LOAN_DLQ_NUM                  30133 non-null int64\n",
      "LOAN_MAX_DLQ                  30133 non-null int64\n",
      "LOAN_AVG_DLQ_AMT              30133 non-null object\n",
      "LOAN_MAX_DLQ_AMT              30133 non-null object\n",
      "PREVIOUS_CARD_NUM_UTILIZED    600 non-null float64\n",
      "dtypes: float64(2), int64(31), object(18)\n",
      "memory usage: 11.7+ MB\n"
     ]
    }
   ],
   "source": [
    "all_data.info()"
   ]
  },
  {
   "cell_type": "code",
   "execution_count": 18,
   "metadata": {
    "collapsed": true
   },
   "outputs": [],
   "source": [
    "# Видим, что часть данных - object, скорее всего строки.\n",
    "# Давайте выведем эти значения для каждого столбца"
   ]
  },
  {
   "cell_type": "code",
   "execution_count": 21,
   "metadata": {},
   "outputs": [
    {
     "name": "stdout",
     "output_type": "stream",
     "text": [
      "EDUCATION\n",
      "{'Неоконченное высшее', 'Ученая степень', 'Высшее', 'Два и более высших образования', 'Среднее специальное', 'Неполное среднее', 'Среднее'}\n",
      "\n",
      "MARITAL_STATUS\n",
      "{'Гражданский брак', 'Вдовец/Вдова', 'Состою в браке', 'Не состоял в браке', 'Разведен(а)'}\n",
      "\n",
      "GEN_INDUSTRY\n",
      "{nan, 'Недвижимость', 'Другие сферы', 'Энергетика', 'Туризм', 'Коммунальное хоз-во/Дорожные службы', 'Банк/Финансы', 'Информационные технологии', 'Информационные услуги', 'Государственная служба', 'Металлургия/Промышленность/Машиностроение', 'Ресторанный бизнес/Общественное питание', 'Строительство', 'СМИ/Реклама/PR-агенства', 'Маркетинг', 'Химия/Парфюмерия/Фармацевтика', 'Салоны красоты и здоровья', 'Логистика', 'Управляющая компания', 'Подбор персонала', 'Нефтегазовая промышленность', 'Торговля', 'Образование', 'Юридические услуги/нотариальные услуги', 'Развлечения/Искусство', 'Наука', 'Здравоохранение', 'ЧОП/Детективная д-ть', 'Сборочные производства', 'Транспорт', 'Страхование', 'Сельское хозяйство'}\n",
      "\n",
      "GEN_TITLE\n",
      "{nan, 'Индивидуальный предприниматель', 'Специалист', 'Руководитель среднего звена', 'Военнослужащий по контракту', 'Высококвалифиц. специалист', 'Руководитель низшего звена', 'Работник сферы услуг', 'Руководитель высшего звена', 'Рабочий', 'Другое', 'Партнер', 'Служащий'}\n",
      "\n",
      "ORG_TP_STATE\n",
      "{nan, 'Индивидуальный предприниматель', 'Частная компания', 'Частная ком. с инос. капиталом', 'Государственная комп./учреж.', 'Некоммерческая организация'}\n",
      "\n",
      "ORG_TP_FCAPITAL\n",
      "{nan, 'С участием', 'Без участия'}\n",
      "\n",
      "JOB_DIR\n",
      "{nan, 'Бухгалтерия, финансы, планир.', 'Служба безопасности', 'Снабжение и сбыт', 'Реклама и маркетинг', 'Пр-техн. обесп. и телеком.', 'Юридическая служба', 'Участие в основ. деятельности', 'Вспомогательный техперсонал', 'Кадровая служба и секретариат', 'Адм-хоз. и трансп. службы'}\n",
      "\n",
      "FAMILY_INCOME\n",
      "{'свыше 50000 руб.', 'от 10000 до 20000 руб.', 'до 5000 руб.', 'от 20000 до 50000 руб.', 'от 5000 до 10000 руб.'}\n",
      "\n",
      "PERSONAL_INCOME\n",
      "{'7850', '44000', '15300', '80000', '3600', '16800', '5790', '10000', '150000', '14600', '9000', '13300', '5425', '5400', '8030', '6700', '24500', '14200', '4600', '19700', '5582', '9700', '4680', '14000', '5380', '18700', '9330', '38600', '13100', '9300', '15560', '7550', '1950', '4900', '22000', '41900', '11900', '4000', '10100', '16000', '3800', '16100', '42500', '6300', '16500', '100000', '51000', '7050', '7340', '13400', '26800', '5200', '13160', '11400', '4515', '65000', '110000', '15400', '40000', '3300', '32500', '8250', '6825', '8800', '15200', '10800', '13500', '75000', '9500', '6000', '8066', '21000', '230000', '5050', '5280', '38000', '29500', '31000', '8350', '27300', '47000', '13600', '15500', '12600', '16300', '7780', '18200', '13700', '7400', '9900', '9640', '8000', '11700', '28000', '28300', '9800', '16700', '26500', '18500', '8300', '25800', '16600', '8075', '7640', '5450', '20880', '41000', '5600', '92000', '6900', '17800', '4950', '9860', '20500', '5339', '5890', '42000', '8700', '9628', '4550', '4500', '13000', '5173', '9100', '23800', '11500', '13150', '14120', '13900', '4590', '7330', '60000', '4887', '34500', '7460', '45900', '15939', '17300', '8200', '3400', '17500', '54000', '27200', '29400', '35000', '14300', '9400', '17700', '18600', '94000', '4750', '21800', '18300', '6200', '5085', '7600', '6600', '7260', '11640', '4704', '12450', '16107,47', '5460', '6670', '14900', '7220', '130000', '24000', '20600', '17600', '14358', '12300', '4250', '8600', '22955', '3500', '50000', '17400', '10900', '5860', '158000', '4850', '21300', '4800', '15750', '5300', '16200', '13650', '12800', '4100', '13800', '19200', '9200', '5120', '9240', '19300', '7300', '7650', '12650', '5100', '57000', '67700', '29000', '6524', '2776', '11300', '17404', '24400', '17900', '2800', '5700', '6350', '68000', '4760', '13200', '12900', '7000', '12700', '14500', '8100', '34000', '2300', '16900', '8750', '7170,08', '23500', '70000', '4700', '35500', '8060', '8500', '5350', '12100', '22120', '6650', '90000', '46000', '9340', '4360', '18250', '9750', '27000', '6359', '22500', '14700', '5750', '10400', '5360', '67000', '39000', '30000', '5230', '5500', '6100', '15380', '17000', '20646,16', '2500', '4300', '8726', '3100', '24800', '8400', '4480', '22180', '23100', '6608', '29800', '10700', '3700', '37000', '17200', '9600', '15600', '7380', '3200', '7101', '22565', '2000', '7251', '170000', '3000', '5088', '77000', '21500', '16050', '48000', '6800', '6500', '15800', '10200', '23000', '5966', '28470', '24', '25000', '19500', '220000', '18000', '45000', '15700', '25500', '33000', '7700', '7250', '43000', '5680', '7200', '12200', '4200', '42145', '13450', '58640', '14800', '7830', '32000', '4330', '20000', '30600', '7100', '13000000', '200000', '11800', '19800', '8900', '15000', '10300', '6270', '7500', '3900', '6400', '7350', '6299,19', '7082', '55000', '19600', '160000', '19000', '2100', '12400', '4530', '26000', '2680', '250000', '52000', '6780', '4860', '7800', '7900', '11200', '36000', '12500', '5900', '11600', '32640', '4340', '53500', '6180', '56000', '11000', '18800', '10600', '120000', '10500', '5446', '18100', '49000', '15900', '5000', '53000', '4400', '12000', '5800'}\n",
      "\n",
      "REG_ADDRESS_PROVINCE\n",
      "{'Калужская область', 'Ростовская область', 'Волгоградская область', 'Татарстан', 'Курганская область', 'Марийская республика', 'Московская область', 'Усть-Ордынский Бурятский АО', 'Якутия', 'Пензенская область', 'Ульяновская область', 'Рязанская область', 'Белгородская область', 'Бурятия', 'Оренбургская область', 'Тульская область', 'Санкт-Петербург', 'Читинская область', 'Адыгея', 'Новосибирская область', 'Хабаровский край', 'Хакасия', 'Алтайский край', 'Тверская область', 'Камчатская область', 'Мордовская республика', 'Нижегородская область', 'Кировская область', 'Калининградская область', 'Карачаево-Черкесия', 'Ленинградская область', 'Владимирская область', 'Северная Осетия', 'Эвенкийский АО', 'Новгородская область', 'Коми', 'Смоленская область', 'Сахалинская область', 'Москва', 'Кабардино-Балкария', 'Ивановская область', 'Вологодская область', 'Омская область', 'Брянская область', 'Удмуртия', 'Саратовская область', 'Чувашия', 'Костромская область', 'Горный Алтай', 'Башкирия', 'Ханты-Мансийский АО', 'Челябинская область', 'Дагестан', 'Свердловская область', 'Карелия', 'Астраханская область', 'Тюменская область', 'Ямало-Ненецкий АО', 'Приморский край', 'Агинский Бурятский АО', 'Коми-Пермяцкий АО', 'Краснодарский край', 'Кемеровская область', 'Ставропольский край', 'Калмыкия', 'Тамбовская область', 'Красноярский край', 'Архангельская область', 'Псковская область', 'Орловская область', 'Самарская область', 'Магаданская область', 'Мурманская область', 'Ярославская область', 'Воронежская область', 'Курская область', 'Иркутская область', 'Пермская область', 'Томская область', 'Еврейская АО', 'Липецкая область', 'Амурская область'}\n",
      "\n",
      "FACT_ADDRESS_PROVINCE\n",
      "{'Калужская область', 'Ростовская область', 'Волгоградская область', 'Татарстан', 'Курганская область', 'Марийская республика', 'Московская область', 'Усть-Ордынский Бурятский АО', 'Якутия', 'Пензенская область', 'Ульяновская область', 'Рязанская область', 'Белгородская область', 'Бурятия', 'Оренбургская область', 'Дагестан', 'Тульская область', 'Санкт-Петербург', 'Читинская область', 'Адыгея', 'Новосибирская область', 'Хабаровский край', 'Хакасия', 'Алтайский край', 'Тверская область', 'Камчатская область', 'Мордовская республика', 'Нижегородская область', 'Кировская область', 'Калининградская область', 'Карачаево-Черкесия', 'Ленинградская область', 'Владимирская область', 'Эвенкийский АО', 'Новгородская область', 'Коми', 'Смоленская область', 'Сахалинская область', 'Москва', 'Кабардино-Балкария', 'Ивановская область', 'Вологодская область', 'Омская область', 'Брянская область', 'Удмуртия', 'Саратовская область', 'Чувашия', 'Костромская область', 'Горный Алтай', 'Башкирия', 'Ханты-Мансийский АО', 'Челябинская область', 'Северная Осетия', 'Свердловская область', 'Карелия', 'Астраханская область', 'Тюменская область', 'Ямало-Ненецкий АО', 'Приморский край', 'Агинский Бурятский АО', 'Коми-Пермяцкий АО', 'Краснодарский край', 'Кемеровская область', 'Ставропольский край', 'Калмыкия', 'Тамбовская область', 'Чечня', 'Красноярский край', 'Архангельская область', 'Псковская область', 'Орловская область', 'Самарская область', 'Магаданская область', 'Мурманская область', 'Ярославская область', 'Воронежская область', 'Курская область', 'Иркутская область', 'Пермская область', 'Томская область', 'Еврейская АО', 'Липецкая область', 'Амурская область'}\n",
      "\n",
      "POSTAL_ADDRESS_PROVINCE\n",
      "{'Калужская область', 'Ростовская область', 'Волгоградская область', 'Татарстан', 'Курганская область', 'Марийская республика', 'Московская область', 'Усть-Ордынский Бурятский АО', 'Якутия', 'Пензенская область', 'Ульяновская область', 'Рязанская область', 'Белгородская область', 'Бурятия', 'Оренбургская область', 'Дагестан', 'Тульская область', 'Санкт-Петербург', 'Читинская область', 'Адыгея', 'Новосибирская область', 'Хабаровский край', 'Хакасия', 'Алтайский край', 'Тверская область', 'Камчатская область', 'Мордовская республика', 'Нижегородская область', 'Кировская область', 'Калининградская область', 'Карачаево-Черкесия', 'Ленинградская область', 'Владимирская область', 'Эвенкийский АО', 'Новгородская область', 'Коми', 'Смоленская область', 'Сахалинская область', 'Москва', 'Кабардино-Балкария', 'Ивановская область', 'Вологодская область', 'Омская область', 'Брянская область', 'Удмуртия', 'Саратовская область', 'Чувашия', 'Костромская область', 'Горный Алтай', 'Башкирия', 'Ханты-Мансийский АО', 'Челябинская область', 'Северная Осетия', 'Свердловская область', 'Карелия', 'Астраханская область', 'Тюменская область', 'Ямало-Ненецкий АО', 'Приморский край', 'Агинский Бурятский АО', 'Коми-Пермяцкий АО', 'Краснодарский край', 'Кемеровская область', 'Ставропольский край', 'Калмыкия', 'Тамбовская область', 'Красноярский край', 'Архангельская область', 'Псковская область', 'Орловская область', 'Самарская область', 'Магаданская область', 'Мурманская область', 'Ярославская область', 'Воронежская область', 'Курская область', 'Иркутская область', 'Пермская область', 'Томская область', 'Еврейская АО', 'Липецкая область', 'Амурская область'}\n",
      "\n",
      "TP_PROVINCE\n",
      "{'Калужская область', 'Ростовская область', 'Волгоградская область', nan, 'Татарстан', 'Курганская область', 'Марийская республика', 'Якутия', 'Пензенская область', 'Ульяновская область', 'Рязанская область', 'Белгородская область', 'Бурятия', 'Оренбургская область', 'Санкт-Петербург', 'Тульская область', 'Читинская область', 'Адыгея', 'Новосибирская область', 'Хабаровский край', 'Нижегородская область', 'Алтайский край', 'Тверская область', 'Камчатская область', 'Мордовская республика', 'Калининградская область', 'Кировская область', 'Владимирская область', 'Новгородская область', 'Коми', 'Смоленская область', 'Сахалинская область', 'Москва', 'Ивановская область', 'Горный Алтай', 'Вологодская область', 'Омская область', 'Брянская область', 'Удмуртия', 'Саратовская область', 'Чувашия', 'Костромская область', 'Кабардино-Балкария', 'Башкирия', 'Ханты-Мансийский АО', 'Челябинская область', 'Свердловская область', 'Карелия', 'Астраханская область', 'Тюменская область', 'Приморский край', 'Краснодарский край', 'Кемеровская область', 'Ставропольский край', 'Тамбовская область', 'Красноярский край', 'Архангельская область', 'Псковская область', 'Орловская область', 'Самарская область', 'Магаданская область', 'Мурманская область', 'Ярославская область', 'Воронежская область', 'Курская область', 'Иркутская область', 'Пермская область', 'Томская область', 'Еврейская АО', 'Липецкая область', 'Амурская область'}\n",
      "\n",
      "REGION_NM\n",
      "{'ЦЕНТРАЛЬНЫЙ ОФИС', nan, 'ЦЕНТРАЛЬНЫЙ 1', 'ДАЛЬНЕВОСТОЧНЫЙ', 'ПОВОЛЖСКИЙ', 'ЦЕНТРАЛЬНЫЙ 2', 'ЮЖНЫЙ', 'УРАЛЬСКИЙ', 'ЗАПАДНО-СИБИРСКИЙ', 'СЕВЕРО-ЗАПАДНЫЙ', 'ВОСТОЧНО-СИБИРСКИЙ', 'ПРИВОЛЖСКИЙ'}\n",
      "\n",
      "CREDIT\n",
      "{'4891', '6894', '39400', '2996', '30206', '6750', '3876', '2930', '16980', '11140', '26640', '3858', '14025', '4048', '29219,46', '11576', '20802', '15293', '27541', '4827', '13191', '33010', '16149', '8775', '5710', '7582', '6569,5', '14189', '11935', '31398', '40500', '13492', '15865,65', '9072', '21910,8', '5620', '20550', '16097', '17170', '5746', '5845', '8030', '30500', '3883', '4583,7', '5712', '40521', '28991', '26022', '4339', '45898', '13176', '27052', '23121', '3098', '6118', '13239', '17770,4', '5718', '9270', '14000', '11724', '16418', '17910', '18700', '63200', '5872', '4786', '26875', '9300', '22192', '19897', '13112', '4378', '3839', '30330', '6004', '13889', '67944', '3537,5', '71243', '6096', '16100', '9004', '21246', '7516', '5612', '16990', '9931', '19745', '67800', '32494,48', '4315', '23977', '20698', '15789', '25758', '8107', '14450', '18589', '11392', '7083', '12343,5', '4239', '11363,99', '7340', '14393', '4744', '6419,78', '50898', '13950', '26711', '5987', '6250', '32892', '14866', '7366', '6040', '8812', '17949', '11653', '30196', '20007', '5661', '6490', '13012', '18857', '18967,83', '79200', '12382', '4050', '39160', '23044', '19885', '14470', '13640', '10233', '28930', '8464', '20998', '8059', '27905', '41170', '17921', '19169', '11660', '11445', '2759', '13456,82', '7280', '44778', '28425', '14430', '10460', '8210', '13355', '2910', '91760', '12581,89', '14974', '11589', '12593,7', '13510', '9414', '3557', '20133', '11040', '3337', '20125', '9878', '17650', '6000', '12411', '5341', '26310', '20390,94', '28247', '17840', '18807', '8520', '9574', '5050', '9578', '11604,74', '8723', '6342', '10619', '9422', '8429', '59625', '19545', '3268', '6845', '2968', '26070', '37500', '20820,2', '2769,1', '20498,1', '20202', '16042,7', '24985', '2039', '24204', '15128,1', '44050', '13269', '11659,85', '9770', '15670', '2679', '14331', '21980', '7088', '8000', '17854', '10015', '16112', '26396', '4752', '7633', '35130', '21382', '6733', '23104', '2099', '28430', '7045,2', '21450', '7219', '20431', '4290', '56600', '21783', '44789', '9518', '27135', '32970', '10103,2', '29607', '3310', '10793', '12077', '10687', '3809', '18006', '21561', '11210', '9902', '17510', '21685', '6018,39', '34396', '10650', '21473', '14472', '5178', '11288', '71600', '11842', '60300', '6864', '47520', '17134', '23304,6', '33250', '6110', '8435', '46170', '3549', '15100', '14781', '11429', '7123', '10719', '4945', '3539', '29580', '19375', '18550', '4483,51', '9027', '26930', '17330', '29493', '20103,82', '3692', '12645', '3321', '13130', '22543', '28919', '28275', '17730', '15236', '30897', '19150', '8560', '30078,4', '7595', '33680', '28810', '3350', '22910', '5562', '5157', '26540', '8200', '8580', '27392', '16081', '26379', '6953', '15210', '7575,1', '8530', '84800', '25515', '4204', '40691', '3489', '5353', '35369', '9598', '7116', '3860', '10657', '15226', '18600', '41200', '3190', '24768', '28197,84', '16587', '12366', '9097', '15319', '98136', '5085', '6202', '31500', '3817', '18458', '5925,1', '3095', '28360', '13254', '19358', '3025', '18797', '13918', '10960', '11640', '4704', '15084', '23499', '53162', '4290,91', '13592', '20897', '19197', '6281', '27602', '9882', '27434', '25998', '16688', '3832', '19129', '5333,4', '17549', '5300,9', '3185', '9357', '17033', '6590', '5139', '31588', '12220', '9030', '7730,1', '8988', '10620', '12741', '30370', '19748', '7755', '9945', '52509', '4484', '11330', '25115', '5370', '14040', '25260', '10782', '38898', '3570', '25624', '15220', '20977', '16220', '4249', '27634', '6865', '2239', '27960', '30550', '18242', '2224,9', '12197', '24059,83', '8844', '15206', '7300', '5292', '22037', '18839', '5785', '11310', '3560', '75090', '12599,9', '12820', '29950', '27298', '51651,1', '8529', '48370', '8489', '8010', '15766', '3604', '18718', '30726', '14449', '24134', '10024', '29830', '15744', '20250', '85270', '14947', '7630', '27680', '25756', '11323', '7922', '23876', '21690', '26410', '21460', '2919', '6922', '21490', '11833', '6518', '16629', '8343', '3396', '30158', '17996,1', '3314', '3231', '2745', '6574', '19008', '10374', '17615', '16650', '14854', '6291', '18855', '19341', '15079,91', '11769', '16189', '12840', '6087', '21850', '32940', '17323', '16530', '42436', '31278', '15279', '14092', '15237,1', '35900', '7404', '12057', '19448', '32992', '21930', '26907', '9670', '31450', '18830', '17146', '16150', '18380', '16743', '4180', '14071', '18582', '6569', '12646', '18862', '19597', '6197', '4014', '18232', '24660', '4699', '13099', '23347', '8130', '5750', '5025', '17240', '43990', '27430', '10486', '19920', '23188', '6609', '4658', '22391', '32976', '11989', '18217', '11488', '4261', '17963', '12860', '6768,1', '9907,2', '6165', '11660,93', '18027', '6584', '24389', '29239', '7551', '13330', '27518', '18648', '4300', '6899', '24745', '20583', '32398', '22388', '7090', '6941', '7972,6', '22266', '22860', '7147', '2669', '14298', '4983', '27257', '13265', '14065', '18612', '10686', '5295', '14206', '14481', '34905', '16320', '20290', '6447', '14398', '6050', '14548', '64350', '17922', '17860', '19240', '13920', '4083', '29707', '6103', '11396', '21510', '26928', '31100', '9735', '7038', '27080', '30750', '33290', '3200', '17198', '16180', '5482,3', '27066', '13522', '17373', '22881', '26480', '5818,5', '16618', '28172', '20943', '12325', '3640', '11558', '2711', '4835', '13001', '14940', '6703', '4290,9', '9094', '31990', '4649', '47740', '24933', '11230', '93400', '3156', '27102,5', '23960', '8262', '28599', '3380', '12040', '14445', '29790', '3357', '11810', '12631', '13118', '2864', '26380', '57625', '4411,43', '11510', '25485', '12967', '39003', '13326', '19900', '4072', '14750', '13654', '4925', '19298', '9815', '17040', '16730', '10424,6', '22384', '4527', '2985', '19999', '17439', '5415', '19230', '15700', '29471', '6652', '29948', '7856,9', '99289', '17948', '13010,94', '10441', '2199', '4099,9', '33881', '22960', '6379', '2398', '29230', '36976', '3002', '11830', '21919', '23089', '8379', '31502', '6323,33', '8929', '25385', '6409', '20374', '23787', '2399', '15655', '26959', '19489,91', '11114', '7100', '60829', '14082', '5995,46', '16789,98', '27449', '25870', '13915', '45630', '4652', '17694', '5643', '31646', '6875', '15647', '6255,15', '19021', '8487', '7867', '24990', '17144', '4726', '9035', '24531,06', '5509', '23440', '7632', '16489,9', '20659', '33725', '21700', '4262', '4489', '4914', '21470', '56518', '28894', '17080', '13748', '25490', '17193', '13577', '13994', '11093', '10938', '13671', '12097', '15912', '32444', '9009', '73996', '22763', '11319', '15575', '21087', '25343', '14670', '3110', '16814', '12915', '11600', '10140', '25983', '93947', '32907,5', '12575', '16874,4', '8756', '11648,1', '9894', '26960', '16160', '4175', '31014', '10616,4', '6689', '4754', '33821', '20317', '23677', '14198', '18895', '24470', '15345', '39200', '3034', '25749', '19477', '5810', '8497,4', '3339', '2299', '2094', '49223', '11309', '22479', '6364', '15127,38', '18296', '14978', '18050', '15267', '15975', '22947', '21220', '14150', '22160', '3619', '5790', '27637', '15569', '13848', '49798,1', '10540', '7899', '28890', '25615', '4021,92', '13995', '11304', '37752', '14469', '4131', '3281', '24905', '7541', '42135', '3795', '4689,2', '16063', '5377', '5764', '6130', '14488', '74319', '23238,79', '17320', '8698', '31833', '22509', '16470', '15889', '12106', '13785', '10539', '11960,94', '41929', '7431', '15017', '7376', '17324', '8794', '31897', '19331', '9890', '16890', '30756', '15069', '50927', '28098', '3750', '22000', '7440', '9399', '20505', '6876', '17050', '9443', '51777', '43984', '26642', '16199,1', '10838', '20610', '13228', '10318', '10759', '6089', '24298', '4590,2', '17150', '21634', '12255', '3661,01', '10854', '19581', '49750', '3093', '7676', '25960', '4446', '17051', '8020', '15418', '8221', '16791', '22645', '2835', '7191', '35529', '12189', '26152', '28237', '31650', '12150', '10354', '2104', '7144', '19886', '7618', '10995', '9452,97', '32265', '21312', '3284', '20699', '12970', '30920', '8685', '27472', '12399', '32500', '17292', '12342', '9110', '14796', '8268', '14885', '5431,2', '6763', '6561', '20541', '8963', '31850', '17712', '9728', '23370', '22790', '8755,6', '10550', '12790', '40375', '16408,1', '5975', '79820', '9042', '18730', '7703,1', '7926,4', '15390', '14081', '9876', '5912', '48460', '34720', '11750,31', '25961,42', '4464', '8102,08', '2635', '5335', '11796', '11764', '38000', '13541', '12099,1', '12910', '12742', '9031', '25584', '12654', '7549,89', '6386,4', '5871', '29997,24', '72090', '25068,94', '30700', '19342', '34806', '12288', '34335', '4474', '19254', '8040', '3718', '9472', '2313', '21780', '14917', '7780', '5249', '13975', '5765', '12755', '5989,5', '26819', '3301', '13459,95', '4270', '6551', '12687', '32449', '13199', '13448', '61832', '4792,3', '4815', '19507', '36480', '12427,1', '16364', '13488', '30154', '11377', '3987', '7621', '11752', '51875', '13797', '5228', '21120', '3387', '16600', '10708', '14413', '10499', '17596', '9835', '9009,91', '4990', '4155', '16371', '17598', '11156', '41000', '3423', '4109', '26489', '16400', '18873', '18970', '3255', '15921', '21596', '97026', '4550', '42400', '23148', '10189', '28400', '5193', '8149', '13599,3', '26588', '8589', '2555', '15530', '29382', '27970', '23661', '19589', '6462', '18456,2', '18357', '7336,3', '8648', '29299', '39830', '13698', '10435', '35990,92', '6604', '4592', '6361', '5652', '30422', '11870', '17347', '81450', '20197', '6537', '11268', '23406', '24085', '2860', '29998', '24346', '2686', '46540', '12340', '21696', '69188', '38312,5', '16917', '7486', '25713', '17399,2', '10404', '30064,83', '19593', '5989', '35145', '11896', '5806', '4041', '17635', '5003', '11526', '21295', '15590', '17932', '4899', '7872', '20774', '17405', '9335', '5365', '18643', '16880,91', '25802', '12447', '28390', '5084', '2992', '2190,2', '22116', '33210', '21915', '17029', '5268', '27360', '2781', '26115', '11629', '8228', '18720', '17560', '10889', '8009', '33344', '29345', '9415,98', '16690', '12209,5', '23992', '20392', '17140', '11749', '16452', '7357,9', '26538', '15665', '19839', '3849', '20072', '5472', '10639', '5305', '18392,91', '27617,1', '14527', '91168', '3257', '3389', '7099', '27070', '18654', '6777', '5340,92', '9545', '4759', '12848', '19983', '24035,5', '3496', '9530', '32240', '9908', '18455', '17789,2', '17570', '10529', '17139', '10238,82', '5835', '16550', '5770', '17780', '19993', '45820', '8619', '12024', '3902', '3923', '91520', '13710', '6909', '8188,04', '16634,5', '2224,8', '8360', '8381', '21479', '29668', '17577', '29052', '32479,99', '94358', '23647', '5198', '23251', '9240', '17610', '7125', '7163', '45160', '27900', '6115', '7132', '22900', '17981,9', '20502', '21624', '25491,5', '4777', '5036', '22925', '12251', '13301', '13138', '13430', '2785', '39600', '4689,94', '21540', '8909', '16785', '3690,92', '24400', '6136', '24590', '20322', '10262,2', '44260', '17906', '6230', '13140', '15999', '10699', '21900', '42669', '12548', '4828,7', '30954,64', '8088', '11514', '5888', '17361,76', '3020', '4217', '15252', '5379', '16823', '27850', '3528', '17750', '20059', '6504', '6140', '6532', '10531', '2732,63', '19530', '5350', '15039', '11855', '10586,1', '3779', '30340', '24569', '9342', '28200', '25633', '22310', '13558', '16268', '29040', '24886', '10860', '19738', '16999', '13009', '22427', '14880', '7277,1', '13648', '2031', '6228', '13469', '96000', '5077', '16272', '21526', '5240', '12191', '9298', '20300', '28900', '24159', '3028', '25145,79', '8476', '25426', '7622', '29721', '10880', '20385', '20090', '15026', '6030', '16732', '17110', '5290', '4360,5', '6048', '16998', '4246', '23399', '22920', '30900', '23025', '19680', '11933', '7593,48', '20695', '20525', '98030', '52200', '15442', '16740', '20031', '17693', '9445', '31150', '18496', '5730', '35316', '19030', '16045,2', '32750', '46800', '5994', '29699', '14891,92', '11699', '11910', '76300', '22714', '7230', '3128', '9986', '12729', '3485', '36170', '5029', '8472', '13344', '21487', '4395', '14460', '8441', '25625', '7578', '36308', '8340', '7380', '25597', '14570,01', '50098', '6513', '2552', '8745', '4996,8', '11705', '31806', '5097', '15696', '9719', '3348', '7078', '17997', '5950', '19250', '10439,1', '28752', '3033,9', '26490', '27369', '8445', '18949', '8789', '9610', '10340', '6629', '3890', '15354', '9570', '6264', '10625', '17888', '31702', '9526', '4203', '8003', '24711', '34190', '23690,91', '52870', '20005', '2850', '23519', '9573,1', '9730', '16245', '4572', '18560', '31135', '63332', '23256', '12616', '92951', '18175', '11412', '41907', '19235', '5889', '6411,72', '14044', '86900', '14006', '2745,9', '28990,91', '10492', '29297', '12549,07', '24047', '9096', '2659', '4170', '40110', '28242', '25500', '20338', '2043', '7525', '6457', '21076', '6459', '7250', '14050', '6605', '11893,5', '9840', '7779', '38640', '22692,96', '18178', '9538,9', '36840', '14849', '6097,5', '8970', '20421', '5830', '30702', '20179,3', '7888', '6783', '8240', '3703', '24275', '43285', '2198', '26555', '18361', '4254,12', '22203', '15943', '11522', '22290', '11217', '18945', '13507', '46350', '10950', '3682', '18784', '35790', '47829', '9326', '59398,2', '5168', '7918', '7115', '6792', '22050', '11450', '11487', '5080', '12140,92', '16240', '8654,1', '26082', '38764', '26938', '7319', '24405,4', '31610', '2524,5', '2061', '24777', '16583', '20896', '31350', '10706', '3674', '29428', '29396', '7231', '28530', '4908', '11906', '25626', '4523', '8498', '21726', '15291', '13408', '116360', '17720', '3599', '2680', '26219', '20960', '35940', '15364', '8964', '16833', '20869', '21484', '16185', '12990', '42762', '32348', '31498,2', '3959', '21060', '3490', '8917', '2041', '21645', '4844', '15010', '11645', '10114', '9010', '13859', '17250', '24540', '17998', '11057', '4545', '6538', '8215', '3823', '26941', '7420', '9176', '30544', '5786', '5126', '58947', '5534', '4400', '10768', '15315', '29722', '9977', '14168', '42881', '21118', '21049', '2322', '19156', '2070', '3608', '6294', '24881', '7649', '6926', '19390', '14387', '2004', '7270', '19976', '34493', '3168', '23095', '5328', '73300', '35744', '13835', '3448,8', '11575', '18471', '21805', '7614', '11335', '22098', '37768', '7386,75', '10748', '21631', '7281,94', '8090', '7588', '20783', '13780', '16858', '20095', '9330', '15946', '19015', '38830', '2240,95', '6007', '28473', '15691', '19080', '2830,5', '7581', '5605', '14270', '21204', '26397', '4900', '11545', '10348,2', '8699', '16794', '21586', '45482', '6830', '5996', '5921', '17988', '13257', '8292', '12060', '40357', '7856', '11860', '13366,2', '27895', '5596', '27398', '4773', '23790', '6594', '17047', '60080', '10713', '18025', '3676', '4438', '20220', '28730', '30590', '6990', '26547,3', '15192,73', '15745', '24570', '20237', '22550', '38650', '32085,4', '13087', '27289', '13115,6', '31991', '6731', '3327', '34641', '14927,83', '2829', '42740', '16498', '6237,03', '9669', '47700', '13141', '19645', '10665', '9412', '21123', '23108', '32706', '8164,56', '22905', '20575', '9536', '5035', '3580', '15856', '7985', '11080', '10057', '12502', '12792', '6940,25', '15985', '20313', '18356', '19542', '12289', '4325', '5898', '2119', '11391', '20720', '11175', '3801', '3260', '9398', '18068', '8793', '4430', '72500', '11383', '47529,91', '35721', '99000', '75000', '35522', '25940', '4097', '14666', '19177', '2438', '13380,56', '10528,3', '4288', '8034,2', '13849', '31580', '12711', '26188', '6245', '7609', '22640', '27922', '20653', '4671', '14489,2', '31000', '9199', '14140', '23390,91', '27588', '6539', '19528', '39300', '18410', '31604', '12095', '38491', '25256,89', '10769', '17769', '24300', '36136', '37424', '5013', '15499', '44933', '12960', '30697', '18918', '23704', '13110', '26889', '7473', '17258', '16995', '27012', '10073', '7950', '33100', '10474,1', '20561', '19982,92', '10548', '26500', '17681,6', '10790', '6360', '5589', '5112', '43400', '23830', '20086', '12599', '17538', '13230', '6978', '24360', '31015', '3114', '25080', '22864', '22330', '17220', '7787', '3898', '22047', '11202,3', '4194', '11250', '27499', '4745', '3502', '3798', '3286', '19439', '6256,8', '3510', '3550', '23530', '2673', '21660', '3235', '14598', '9153', '11569', '13245,02', '13999,92', '17704', '5202,9', '18630', '10734', '2225', '14747,1', '11395', '12213', '19068', '18882', '23595,97', '13122', '11797', '4949', '22195', '11615', '22061', '29487', '9306', '16960', '7729', '6503', '9951', '21090', '11016', '12222', '22962', '5701', '6189,3', '7857', '24945', '19598', '3360', '27600', '12028', '18170', '34766', '34422', '6579', '35000', '24220', '11297', '4044,3', '64794', '3210', '71500', '4290,95', '17453', '18067', '14766', '19828', '47900', '9460', '27658,82', '46881', '40320', '2253', '4750', '20995', '6987', '18495', '27440', '8547', '37350', '16457', '27750', '3460', '10421,5', '17098,2', '10315', '4125,6', '23989', '8180', '9927', '29742', '20091', '9221', '12290,9', '14998', '20304', '13018,1', '7891', '26850', '24428', '4667', '5634', '7136', '12992', '7179', '2862', '25290', '5865', '25785', '14231', '24833', '4852', '7220', '37360', '6440', '9370', '15523', '22477', '31060', '9390', '23557', '19330', '16357', '22955', '16010', '5724,2', '7353', '15130', '20253', '29860', '17400', '22400', '19819', '16603', '14271', '34990,92', '30420', '16182', '10158', '4049', '8171', '2050', '16141', '4186', '3711', '18747', '26379,91', '5020', '22299', '22410', '13383', '17815', '16601', '10215', '5970', '78120', '29877,3', '29295', '6375', '12520', '16696', '16783', '10646,2', '2362', '22048', '3501', '3961', '27880', '13120', '23033', '7035', '41837', '30220', '37100', '10155', '11672', '17946,2', '4252', '15410', '4450', '29000', '10576,2', '11642,3', '10925', '17900', '41845', '32400', '4475', '17999', '28230', '6549,83', '21670', '22692', '9938', '28970', '13490', '11795', '20609', '21704', '30841', '27259', '9940', '22420', '8459', '6136,58', '36500', '2999', '7796', '11212,06', '23280', '10857', '23920', '24200', '30686', '5297', '23500', '25632', '19844', '6283', '22100', '18696', '12397', '21482', '11021', '11078', '21630', '7790', '2775', '3346', '27065', '13370', '7815', '10738,5', '20850,92', '6358', '21240', '2219', '9468', '18680', '10509', '19478', '6433,65', '3690,82', '8786', '7751', '10515', '25740', '24010', '3748', '17581,86', '33423', '6269', '7698', '37508', '42281', '17962', '13955', '13610', '22428', '23297', '8211', '24667', '6359', '12835', '4143,58', '33510', '7249', '10991', '9823', '36490', '28294', '9287', '10400', '11477', '6096,13', '10113', '5360', '11744', '10647', '15352', '6347', '6351', '8049', '4311', '14966', '17462', '8345', '7040', '9036', '24046', '18840', '23580', '4510', '33405', '6732', '12789,91', '17613', '22670', '12250', '17448', '11610', '8307', '30980', '20601', '20143', '3712', '29461,34', '16760', '7717', '20063', '25650', '9159', '13302,83', '6192', '23201', '11930', '9223', '12559', '22225', '10823', '16263', '4576,5', '13195', '6398', '27283', '8128', '18236,55', '26440', '32819', '5099', '3051', '11325', '2797,95', '9190', '79380', '13201,44', '5068', '19687,5', '6998', '3045', '56673', '20245', '2800,85', '56277', '11471', '18074', '18135', '3103,2', '21985', '5580', '6685', '29388', '21500', '24752', '20206', '11409', '100500', '29430', '22495', '4918', '39996', '9920', '14999', '4985', '14446,3', '11998', '20397', '8549,9', '11751', '4470', '10498', '15547', '29680', '3547', '23728', '5940', '15883', '13769,2', '15085', '3015,2', '7498', '5208', '2796', '19029', '5427', '34695', '3305', '33000', '37456', '18450', '63600', '10009,6', '18615', '3077', '3535', '2310', '33653', '12231', '7157', '12678', '6806', '10815,1', '26300', '12816', '90590', '8690', '12474', '12747', '20833', '5361', '7160', '20435', '7063', '6824,7', '14698', '25727', '67950', '12010', '24130', '18463', '31431', '14800', '40970', '17990,91', '22284', '9934', '11147', '6297', '33978,63', '16264', '16080', '22133', '5017,3', '27098', '18799', '31950', '20305', '8557', '16379', '4697', '11458', '11990,91', '21653', '3497', '20085', '27124', '14656,5', '91546', '11010', '35430', '25447', '16416', '10760', '8991', '14980', '7092', '13841', '19000', '13630', '8134', '4675', '3865', '24950', '12710', '10917', '59000', '12509', '24340', '4242', '28680', '14397', '23310', '28820', '32846', '81500', '69730', '28132', '20428', '31900', '8872', '31282', '33192', '47783,85', '6939', '9170', '29450', '25850', '3415', '6424', '4679', '12480', '8167,5', '5488', '5575', '6333', '11887', '16476', '18777', '61540', '15524', '11949', '14976', '31748', '9044', '27500', '25195', '12636', '13748,5', '20277', '11063', '23620', '18376', '17541', '5630', '20079', '21362', '26353', '20324,92', '14848', '20910', '15309', '10939', '3359', '23302', '18687', '4160', '29599', '5218', '26164', '4642,65', '11204', '6746', '10162', '7840', '15897', '3545', '80000', '10612', '75600', '17580', '6128', '18805', '9712', '25406', '26845', '4346', '46729', '14629', '3196', '11205', '24729', '30400', '10323', '26689', '14931', '150000', '8239', '6081', '3080', '7632,92', '30799', '23820', '25989', '25461', '22741', '42742', '21880', '24357', '8715', '32710', '35140', '65520', '25508', '7345', '15902', '5959', '3575', '14316', '21187', '15420,3', '14563', '5820', '26468', '2290,7', '6692', '33670', '6969', '9651', '47789', '29384', '6739', '3590', '6539,91', '10248,2', '16064', '19168', '22906', '17082', '16701', '24889', '13050', '14321', '2773', '29536', '6481,8', '4035,2', '38500', '44030', '26990', '9173,88', '22457', '3752,9', '4820', '26800', '6120', '10447', '14147', '23630', '12130', '9217', '11489', '4819', '45290', '7849', '7524', '11692', '8658', '6966', '20225', '24600', '10058,5', '49743', '21051', '19184', '11778', '15181', '22302', '3354', '28476', '3300', '7074', '11600,6', '19991', '2430', '12884', '4371', '10890', '5448', '15629', '16260', '8840', '5364', '17475', '10953', '23949', '5285', '28770', '5048', '2372', '6553', '3195', '13879', '12260', '14147,1', '5304', '5064', '8065', '5610', '35610', '16425', '7639', '12854', '16279', '7189,6', '22945', '8731,47', '22091', '13030', '16456', '14918', '10596', '20904', '17966', '9184', '3444', '23910', '29075', '8350', '6467', '3323', '15914', '29006', '6983', '8035', '4380', '8456', '6325', '87786', '2245', '12928', '6679', '11006', '34390', '18115', '7885', '73308', '18450,8', '23124', '4610', '12290', '17501', '26997', '33960', '28300', '5210', '27088', '17670', '27501', '9621', '6155', '5494', '7978', '7820', '11211', '5290,91', '40450', '20210', '3179', '21588', '40829,55', '25506,19', '25278,14', '14396', '26113', '9901', '13227,7', '8076', '15299,9', '21619', '3474,9', '16298', '24870', '20880', '33730', '15735', '44750', '4962', '3899', '20296', '6247', '9499', '8780', '18215', '19278', '8700', '23971', '9278', '14795', '7504', '4920', '25695', '19799', '18058', '23723', '25920', '8491,5', '15070', '6785', '17091,9', '7958', '25158', '19945,35', '36400', '13489', '8420', '34148', '3072', '27448', '10971', '17702', '16070', '4710,6', '46820', '8067', '13059', '32900', '25029,9', '3645', '59750', '18440', '14758', '11560', '5559', '26935,28', '22124', '14494', '45900', '16488', '3400', '4634', '7155', '2881', '8398', '7859', '27200', '99308', '11428', '9359', '11730', '17545', '20174', '3390', '12850', '17681,81', '10983', '13375', '22154', '30309', '32790,9', '14930', '14107', '4910', '6168', '26020', '20893', '5899', '11420', '16399', '16002', '8416', '16547,3', '7897', '5408', '10478', '17697', '33570', '5911', '7816', '26776,1', '20706', '26280', '20209', '21673', '2007', '24923,39', '5616,15', '5539', '7920', '13173', '4731', '17901', '2998', '11298', '15021', '18201', '8951', '27769', '24112', '6959', '11455', '11225', '2421,9', '3105', '9439', '17451', '10850', '13897', '6496,1', '3000,91', '25439,4', '24105,21', '23689', '9433', '15756', '5143,5', '27648,2', '5298,1', '32335', '11978', '6102,19', '29030', '10671', '9087', '5021', '3874', '10390,92', '16031', '21286', '50000', '6999,3', '4008,32', '24114', '15040', '22263', '14097', '18358', '24773,2', '23382', '24598', '10948', '41125,88', '17340', '12309', '10382', '31433', '3170', '5301', '13650', '77982', '15501', '23389', '28080', '5629', '6421', '3681', '24816', '4935', '10286', '14840', '10990,2', '17716', '4611', '4942', '30390', '27990,91', '4020', '3527', '7563', '16510', '18845', '14410', '26259', '11840', '23795', '27205', '90200', '3149', '13780,82', '35100', '12253', '26440,91', '6657', '6997', '13296', '6221', '15291,92', '11460', '22872', '3399', '11434', '21472,86', '21984,55', '4191', '16398', '6705', '13166', '14091', '27130', '13790', '14205', '22020', '11892', '56340', '6182', '27857', '16838', '15739', '8137', '7190', '17360', '3821', '6310', '20950', '5646', '5486', '16630', '11787', '42468', '18838', '4275', '80440', '15229', '42620', '9540', '9973', '27686,2', '6070', '23351', '19890', '17335', '15839', '24272', '85742,8', '16900', '13350', '24250', '27099', '16490', '55995', '5708', '14340', '5936', '6407,5', '21998', '50177', '6613', '8989', '14786', '4607', '5330', '19460', '18578', '18569,9', '15363', '4370', '16983', '13249', '4241', '2995', '28350', '23598', '21265', '23579', '17690', '2075', '11049', '22440', '7334', '44400', '15201', '14089', '8319', '3816', '18425', '21762', '22213', '22233', '5672', '13476', '6653', '40098', '98000', '13774', '10373', '25590', '12092', '9991', '32644', '11203', '21870', '13432', '23780', '11364', '4741', '38401', '15036', '42928', '17161', '31252', '48721', '20381', '17490,92', '6247,8', '3158', '44179', '21730', '12925,2', '3777', '29386', '4322', '7994', '5230', '3174', '8721', '15030', '18240,91', '10170', '9489,92', '3386', '9707,4', '17342', '8386', '18045', '11199', '7449', '4705', '5435', '10214', '8369', '17630', '5879', '6741', '2610', '10440', '21231', '9515', '7048', '8070', '7279', '5670', '20862', '10883', '32540', '80250', '26457', '45952', '7927', '16551', '6093', '9989', '18762', '17200', '6166', '7677', '11280', '26668', '10628', '15570', '10080', '51200', '17058', '3263,8', '2489', '13590', '11753', '7229', '13010', '6299,2', '4328,1', '17605', '14659,2', '4013', '10566', '4077', '4140,2', '70047', '13921,52', '6069', '30597', '24198', '23793', '7810', '26560', '10021,5', '6266', '12823,2', '8641', '15806,5', '23451', '15403', '46471', '19635', '5103', '31496', '13457', '18477', '6800', '3646', '28338', '11750', '15831', '16561', '5698', '17850', '5616', '38718', '48594,31', '11520', '14406', '20746', '6960', '38700', '5294', '18185', '12318', '17561,8', '10216,1', '18790', '25100', '12572', '3794', '11160', '12589', '8757', '20530', '21381,12', '5542', '12372', '30313', '7797,6', '12639', '19128,41', '70410', '16994', '11601', '8398,1', '11689', '5857', '15372', '34313,4', '11720', '20987', '8747', '3411', '8719', '13250', '6399', '9396', '15595', '10151', '7342', '82650', '20784', '4360,91', '5592', '4978', '20877', '6098', '18328,6', '24449', '14992', '15181,8', '8482', '19570', '13624', '11570', '24007', '26461,91', '10804', '14574', '6498', '23410', '18574', '37996', '26980', '20701', '25350', '22057', '2877,9', '23377', '33760', '12726', '10076', '32320', '6530', '3049', '12059,1', '19800', '6550', '13771', '3009', '6366', '8570', '13949', '8604', '13719', '38244', '24160', '33862', '34125', '19968', '11960', '16868', '7350', '14530', '12276', '20475', '17670,6', '22888', '13846', '19600', '7288', '9120', '12371', '17173', '22398', '5279', '24460', '11394', '5540', '21797', '31990,6', '4290,92', '15775', '12705', '5778', '25780', '4390,91', '10071', '19474', '8320', '14513', '16205', '8490', '13063', '4452,91', '26955', '14010', '26467', '3220', '4761', '5526', '17640', '13345', '8189', '7391', '5936,81', '17998,2', '16395,78', '10359', '26871', '29234', '33721', '32499', '3675', '18900', '2495', '9395', '31643', '2200', '22747,4', '18800', '11811', '7910', '12810', '8549', '15093,9', '10500', '6695', '4922', '9606', '19124', '11099', '8948', '22558', '3930,81', '4879,8', '5267', '37280,9', '13695', '15320', '36865', '19055', '21938', '9296', '5817', '18472', '12454', '15024', '11695', '5396', '16800', '11249', '6669', '4076', '26365,6', '22147', '10238', '93890', '18423', '6589', '9498', '46173', '3952', '5679', '2210,4', '5560', '8532', '14600', '20925', '45495', '21999', '8559', '5400', '6543', '2691', '12499', '34821', '9690', '3026', '5876', '19700', '12298', '26550', '3690', '3290', '9647', '19640', '25038', '39980', '11136', '13100', '16565,65', '18575,2', '18650', '6813', '12780', '32175', '10496', '6593', '37780', '8068', '17795', '8297', '24605', '24651', '10690', '12061', '21078', '3888', '28060', '10780', '2638', '16072', '11345', '17398,2', '13113', '16769', '24845', '8610', '7514', '7047', '4698', '9067', '5827', '9215', '2928', '13887,68', '13489,91', '5665', '35960', '28016', '9431', '4837', '18549', '3877', '20796', '22185', '7527', '21243', '12166', '4727', '24081', '7602', '11518', '38850', '45110', '17649', '43500', '26915', '5529', '7290', '20573', '97000', '4059', '13916', '6696', '26478', '4580,92', '5277', '5057', '4535', '8091', '18692', '4044,6', '4090', '15870', '5489', '13979', '17598,9', '15165', '24658', '18321', '9278,1', '6619', '8550', '10428', '30102', '11305', '8348', '18517,1', '41720', '26390', '16203', '12405', '15446', '20297', '9702', '39900', '7663', '6273', '2340', '24995', '29719', '9849', '13598', '15340', '7150', '34800', '6754', '6870', '79770', '22480', '10702', '4243', '10147', '8495', '5588', '29691', '37608,91', '19481', '42746', '29650', '16859', '21050', '19968,92', '23842', '4319', '17208', '8160', '14725', '4640', '7197', '26302', '25397', '23896', '27300', '4660', '16591', '9053', '16300', '10680', '7749', '22561,6', '28727', '9410', '5595', '20009', '46835,75', '10342', '20985,62', '23737', '3613', '28000', '12657', '20356', '17609', '19315', '5207', '21838', '16265', '23390', '10990', '23738', '3491', '10338', '4439', '90645', '4657', '3023,58', '11590,92', '8235', '26970,6', '8883', '9698', '3636', '4575', '13843', '10970', '18445', '14338', '4508', '24362', '19187', '20520', '17388', '22896', '4770', '12440,1', '3222', '25453', '9837', '5333', '14095', '20461', '20360', '9100', '27706', '7893', '5751', '15360', '20800', '24059', '18510', '8126', '7180', '11901,78', '22372', '13284', '24499', '28120', '7344', '4326', '36900', '12236', '18572', '3358', '4064', '6577', '3311', '26904', '29209', '7438', '11381', '17550', '26455', '16438', '17300', '23649', '47195,92', '18863', '11150', '13944', '41490', '21598', '15298', '48572', '10186', '28950', '23009,1', '20400', '3016', '15245', '9760', '29400', '4318,2', '18693', '33400', '2975', '8339', '25390,94', '27925', '7130', '11615,4', '9813', '7439', '14646', '22360', '20826', '56768', '11990,95', '90747,9', '21800', '27347', '14755', '30960', '9533', '19224', '20370', '7260', '4602', '24690', '4212', '36086', '19083', '15487', '5345', '9681,5', '19195', '29290', '23218', '13645', '28623', '5460', '31290', '8389,91', '14900', '27175', '71740', '2633', '12421', '2420', '34187', '2080', '23558', '3498', '8888', '19210', '3500', '15828', '11047', '61915', '13399', '23945', '12393', '14477', '26981,82', '25631', '6744', '19552', '18048', '24315', '3940', '11996', '28850', '12498', '11255', '10052', '9721', '55110', '15750', '14771', '12420', '4126', '4973', '84629', '13952', '12800', '10060', '4889', '9631', '20398', '6142', '10980', '7586', '17861', '8112', '4555', '12038', '12029', '11398', '12906', '14232', '28402', '20030', '12410', '2873', '2325', '6848', '4812', '15920', '24700', '4060', '19404', '8720', '5288', '7195', '6655', '15675', '33470', '28500', '15475', '43515', '12330', '14215', '15895', '15457', '16999,82', '2690', '15231', '5862', '12398', '26595', '6835', '7961', '12417', '22589', '68000', '19689', '14055', '19106', '12239', '14770', '20882', '4493', '21226', '9274', '3920', '7475', '5005', '14850', '30603', '3584', '2300', '15403,02', '5613', '10672', '2619', '8410', '14644', '37150', '3319', '12195', '24317', '8702', '6962', '11583', '3250', '4921', '11453', '17995', '10670', '31180', '19343', '11997', '26898', '40824', '46197', '9970', '24520', '6719', '15444', '38316', '6088', '4042', '13875', '16501', '15685', '9285', '2047,5', '5681', '65629,5', '29799', '21784', '21238', '19005', '22599', '9150', '7370', '14391', '33392', '4930,95', '12110', '13290', '25298', '6809', '8881', '9350', '30100', '22617', '40509', '16737', '12080', '5479', '21211', '22395', '29370', '12999', '4423', '31695', '2088', '8027', '11508', '8389', '12019', '16450,71', '10419', '18698', '9165', '16358', '15830', '14948', '11050', '8886', '15380', '25978', '25585', '13172', '2804', '4362', '32090', '15115', '20979', '25336', '11965', '12284', '23740', '12514', '9050', '22277', '12598,2', '24717', '12989', '81423', '8159,06', '15888', '4580', '11180', '3407', '15347', '5125', '5487', '25936', '11489,91', '19572,1', '12907', '9630', '17911', '7997', '29800', '20263', '6455', '20054', '18224', '14680', '37000', '17379,99', '25680', '24458', '18649', '15598', '36805', '4491', '5272', '14371', '17897,1', '15600', '18429', '6346', '5611', '8955', '16920', '12830', '10352', '48600', '5841', '15356', '69282', '9389', '18141', '24399', '75548,8', '34325', '30518', '13156', '91500', '9349,92', '15624', '19781', '31696', '11423', '5088', '15813', '9892', '21597,8', '24479', '15970', '30428', '16050', '19205', '3328', '23416', '6024', '27695', '16796', '6760', '12393,91', '6190', '85000', '24528', '6668', '33350', '5829', '11943', '11178', '4730', '30655', '5259', '10993', '35920', '35943', '12598,1', '16099', '14661', '9879', '8617', '26337,6', '42950', '10302', '68990', '17999,9', '24283', '4858,1', '24167', '7317', '11871', '16774', '4775', '2366', '26197', '5017,9', '15247', '30471', '4034', '8394', '15760', '2880', '24166', '16766,1', '10764', '10712', '19997', '5640', '18908,1', '17117', '16324', '40756', '16657', '10469', '12570', '11362', '8038', '3447', '28535', '31090', '20294', '30455', '5840,5', '9850', '27506', '26140', '9820', '48120', '17191', '9260', '19928', '41570', '5105,7', '6779', '13229', '3320', '7183', '19789', '32000', '13165,61', '5658', '3099,9', '15832', '13518', '31221', '6415', '2623', '32525', '29304,3', '22635', '13680', '22240', '2389', '10446', '26631', '11116', '30325', '4476', '13669', '8675', '28241', '7523', '2100', '25560', '15111', '9226', '13221', '9338', '13599', '8846', '6260', '20140', '14332', '19730', '5098', '23380', '19765', '17896', '20272', '3180', '27916', '20179', '5493,04', '7954', '13824,2', '94720', '39388', '8651', '25491', '8357', '47950', '26461', '17437', '3135', '7680,91', '3377', '25440', '8638', '16965', '7799', '26499', '12307', '24844', '27276', '17520', '39690', '38810', '13031', '11637', '12385', '10935', '35090,92', '10035', '23600', '14672', '11563', '9290', '91536', '51250', '19415', '4225', '5886', '4805', '19380', '13397', '2768', '27340', '15596', '9000', '35332', '3186', '27829', '6947', '9520', '3825', '28760', '19134', '72579', '23341', '6056', '23959', '17149', '8669', '35821', '22464', '2428,2', '5740', '12941', '13733', '46156', '11279', '21128', '7152', '17924', '4185', '13869', '7435', '12070', '10890,9', '56700', '39450', '12127', '21012', '19544', '19814', '7619', '6843', '50970', '50300', '8742', '20249', '16519,02', '28651', '11900', '18498', '10368', '3897', '9385', '6890', '29335', '25549', '24138,2', '15255', '31810', '2720', '15555', '34740', '7307', '44697', '6712', '23822', '6390,95', '22600', '6491', '3786', '26824,5', '2924', '5685', '13121', '11349', '2529,61', '40200', '5225', '25558', '3628', '5135', '11400', '10163', '17796', '6766', '3598', '7137', '9979,5', '39250', '19782', '24502', '17145', '70705,96', '33602', '6690', '24210', '10508', '4366', '17485', '10749', '7711', '17090', '21890', '4389', '20686,58', '11372', '18782,2', '9491', '24962', '12360', '10789', '21020', '39276', '8800', '26590', '24850', '15725', '20650', '8285', '21760', '10704', '7991', '5577', '26080', '2569', '19145', '7222', '14240', '3499,9', '19229', '19746', '4228', '15292', '12048', '25296', '2870', '9310', '7709', '21736,2', '9034', '13441', '8438', '11322', '28100', '14315', '87570', '5280', '18090', '4746', '18860', '4117,5', '4302', '35596', '7548', '29180', '53673', '21770', '15704,6', '3159', '47000', '13600', '31875,3', '7417,5', '13395', '19125', '15398', '12600', '58670', '25137', '6032', '89640', '3670', '32938', '15034', '12947,2', '7400', '14165', '5504', '22694', '8491,82', '22618', '19938', '23031', '51140', '16865', '5458', '27387', '3744', '17723', '16359', '7022,7', '17950', '18500', '6035', '15160', '51700,5', '6698,3', '6831', '47309', '13216', '23912', '10180,8', '4118', '17759,27', '36600', '22514', '13768', '18148', '3160', '21856', '23552', '6598', '13267', '12798', '10794', '5339', '19391', '5039', '18740,5', '3850', '29920', '38880', '11407', '24885', '29875', '32312', '11970', '6672', '27020', '14933', '27714', '6086', '14760', '5253', '10128,8', '9158', '47247', '24695,2', '4549,92', '17556', '4036,5', '79679', '24929', '28790', '5118,3', '21865', '4887', '6370', '16991', '11911', '12708', '3001', '18481', '17935', '3388', '32700', '4215', '29334', '17276', '4990,92', '7189', '8910', '18573', '22345', '5636', '28273', '23488', '7039', '37180,5', '15806', '9393', '12591', '54000', '21728', '18647', '6625', '12011', '19999,84', '10019,07', '7505', '27898', '5428,1', '5528', '24772', '24150', '75535,08', '5023', '27420', '4500,95', '16598', '6842', '7486,1', '4533', '13978', '10887', '9129', '23070,6', '25690', '31480', '11989,91', '5949', '19880', '15605', '12328', '15479', '2879', '6321', '19269', '8858,8', '22350', '17996', '25420', '25992', '27228', '9838', '5275', '17460', '16670', '22369', '22555', '24580', '80973', '11659', '41210', '6670', '9749', '5932', '24103', '12588', '23136,3', '6951', '8188', '10969', '18209', '7940', '9098', '27250', '9840,6', '10423', '14159', '31880', '31538', '19496', '9579', '16317', '10779', '20069,33', '16105', '11039', '19324', '21910', '24930', '15780', '6036', '9654', '26339', '9963', '19674', '5423', '9790', '18984', '3188', '4806,9', '21447', '3836', '19734', '30820', '6681', '5366', '10505,5', '16250', '4936', '8399', '21615', '8849', '41180', '25015', '6287', '20244', '11138', '16692', '25790', '13299', '16817', '30830', '6454,8', '21277', '27678', '16882', '40391', '38832', '3819,2', '31933', '5470', '20644', '27945,54', '5999', '9167', '4386', '16697', '22515', '14942', '19220', '10115', '20488', '3152', '23516,84', '5100', '2570', '23994', '9517', '5517', '8095', '24061', '16512', '53662', '13728', '7599', '28966', '8548', '12369', '8406', '36187', '7499', '51441', '9397', '10910', '14991', '3111', '10459', '3658', '15658', '22419', '5312', '12464', '52295', '16579', '13140,88', '5426', '76432', '74700', '23947', '8941', '77800', '8473', '19905', '16310', '7448', '14820', '5760', '29030,6', '18744', '13686', '8852', '16992', '8415', '24127', '14910', '18906', '8170', '15078', '17476', '60280', '6280', '27320', '8889', '3141', '28948', '4495', '25720', '14328', '22140', '3128,4', '12590,95', '6893,7', '10709', '23094', '10611', '6507', '10305', '5128', '26570', '6219', '39110', '7298', '9750', '28186', '14610', '6186,7', '13727', '3376,8', '4022', '22269', '18881', '38498', '18220', '15468', '4139', '2599', '8639', '4218', '19074', '8674', '32894,18', '17586', '13899', '23825', '8047,1', '18572,5', '19072', '23997', '4336', '11212', '52466', '19296', '4522', '29944', '5092', '14243', '11170', '4298', '32292', '14601', '35770', '21717', '21170', '39000', '4114', '6453,9', '2090', '17435', '34162', '13847', '18049', '3606', '13730', '7310', '14229', '6311', '17172', '5739', '19020', '33120', '4463', '22798', '27846', '5707,8', '2415,04', '29440', '28240', '23735', '11982', '36730', '5569', '27971', '22293', '4841', '4153', '30230', '15121', '11266', '7314', '20767', '7695', '28875', '31446', '10205,5', '8400', '19011', '23954', '15238', '16879', '4546', '6517', '3205', '27005', '15989', '4207', '19975', '8887', '9650', '11012', '4620', '5236', '40050', '24490', '9341,5', '30696', '7228', '20648', '9899,92', '6448', '12310', '9972', '19739,84', '9347', '6327', '16441', '4456', '4492', '8605', '2000', '25710', '9995', '35775', '14265', '16644', '15214', '17091', '7032', '4436', '15736', '14938', '8850', '35980', '5673', '13999,2', '22733', '10290', '25179', '13750', '76730', '16977,28', '16635', '22066', '22959', '46921', '10737', '6823', '15033', '7478,2', '5878', '83078', '14222', '6500', '14035', '4868', '16170', '10936', '61250', '8322,77', '54738', '5956', '16795', '10347', '15602', '11738', '34890', '4869,66', '15125', '25738', '29199', '7174,6', '4570', '25000', '7083,05', '7917', '28288', '10175', '33292', '38108', '5832', '3990,92', '19854', '21519', '12784', '18000', '10634', '12468', '8995', '14146', '8185', '5699,25', '7498,9', '4990,94', '4858', '18905', '18885', '4596', '35200', '16751', '14880,07', '6597', '25263', '16378', '6908,4', '5849', '22356', '27248', '11954', '4369', '4070', '4904', '67795', '16048', '22257', '26999,1', '19797,1', '30520', '37305', '19809', '16620', '13275', '29664', '26049', '16063,29', '4520', '6540', '22168', '10438', '37855,6', '10791', '9130', '8655', '7131', '4401', '20540', '29780', '13331', '4458', '43995,3', '7759', '26212', '11690', '5299', '14062', '3689', '19301', '61920', '30796', '6790', '17875', '6990,91', '4408', '6776', '4366,8', '32200', '15346', '13976', '5231', '17075', '13039', '24750', '15110', '13761', '11277', '8785', '19490,6', '16680', '5880', '43732,8', '18413', '29074', '16752', '9061', '6860', '14380', '22085', '24239', '4749', '9429', '24607', '3199,2', '7060', '21590', '8924', '18110', '34779', '3031', '38406', '5647', '49498', '10940', '11499', '23783', '25060', '14436,1', '14245', '6938', '6137', '36000', '2970', '9219', '17248', '4221', '27498', '34739', '6460', '6180', '19082,3', '9686', '10398', '29980', '9037', '9950', '13496', '33588', '10903', '13865', '24017', '23470', '28625,8', '19770', '5689', '81600', '17952', '6033', '11790,91', '4720', '17530', '27016', '7019', '10630', '71000', '9971,3', '8373', '11748', '9819', '13539,2', '4244', '28310', '8771', '14355', '3336', '3490,99', '2726', '3899,2', '4284', '7905', '24403', '19060', '4851', '13905', '32690', '20536', '9256', '51540', '16704', '6060', '24500', '22799', '7129', '3856', '9663', '4641', '10836', '25911', '15250', '4357,1', '32920', '5757', '17671,2', '6917', '6141,75', '25881', '15619', '28715', '5859', '16330', '53208,92', '7668', '7987', '24999', '14385', '15389', '14333', '21876', '5749', '24907', '14495,35', '37069', '2243,7', '6300', '4701,6', '8440', '7331', '18430', '3820', '13386', '33088,5', '21506', '5179', '25362', '14180', '16846', '15750,91', '7381', '3783', '25014', '4080', '37531', '10583', '6799', '30361', '9372', '34391', '21560', '5474', '5255', '7610', '21895', '9227', '13516', '10904', '4032', '6887', '11167', '12560', '11850', '13160', '3769', '20949', '5706', '29094', '11113', '9524', '32843', '10166', '14571', '24125', '32293', '6281,83', '3487', '21750', '6968', '22983', '10606', '23009', '35500,74', '7898', '22338,94', '4057', '19480', '7911', '35331', '73306', '11198', '22438', '5808', '11329,65', '24199', '22453', '19443,5', '41400', '5645', '12088,12', '78550', '23900', '15370', '8984', '17820', '9500', '9565', '4923', '10270', '26462', '17045', '45159', '27390', '14133', '11687,6', '4132,5', '21130', '5789', '3032', '29500', '13567', '11302', '5041', '9205', '5067', '15625', '11958', '3722', '7980', '9525', '13970', '24299', '39327,2', '12592', '8048', '3810', '6698', '20845', '75478', '6220', '4756,5', '23595', '35683', '74466', '23946', '42850', '29900', '23650', '82700,9', '11817', '6889', '9593', '16485', '57706', '9900', '70300', '7373', '11700', '37400', '17379', '6451', '5676', '22483', '2165,16', '10830', '11441', '19949', '12124', '10584', '17367', '15147', '13952,73', '10546', '36082', '12121', '24941', '2351', '3746', '14284', '16219,81', '21881', '13907', '9527', '11529,91', '23828', '20180', '3905', '26125', '13088', '35498,4', '25778', '47899,5', '5250', '19099', '22890', '9576,1', '28110', '25299', '5928,1', '86618', '17770', '5867', '17466', '34920', '9271', '51750', '12993', '3547,42', '8011', '29200', '13455,4', '28517', '15857', '15336', '21011', '4628', '11804', '9470', '14665', '17684', '32114', '22374', '13433', '11876', '17263', '8387', '8483,95', '18964', '4635', '20248', '5353,5', '29852', '27166', '11500', '21146,4', '17060', '45750', '6578', '9430', '34150', '2360', '10497', '8799', '12909', '8233,95', '7860', '4188', '10030', '15650', '45270', '12315', '5839', '13478', '10312', '8762', '5937', '23355', '11853', '8515', '2331', '37840', '3035', '31499', '22265', '99800', '5754', '22482', '6665', '23550', '26157', '20169', '12488,25', '11768', '10088', '19883', '16128', '3990', '10799', '18150', '20989', '36260', '5772', '2498', '10773,9', '78400', '15874', '7291,85', '7580', '21269', '15199', '7474', '8834', '3130', '11348', '60500', '84622,3', '8860', '16254', '15427', '6257', '12560,01', '2704', '4004', '3385', '76550', '17230', '35142', '7075', '9664,5', '24822', '25146', '3630', '21850,94', '5619', '44970', '10279', '6520', '24086', '3237', '13326,5', '9754', '8199', '5016', '32421,5', '20600', '4840', '5610,7', '19790', '26084', '2045', '9979', '8430', '10968', '7041', '26920', '4834', '8600', '10410', '5438', '37437,66', '16443', '9693', '13387', '21040', '13760', '7167', '10900', '14765', '26099', '4642', '11088,5', '7916', '19660', '14250', '47456', '31056', '12670', '6958,92', '23998', '43631', '33075', '3445', '25620', '8483', '23029', '4870', '13278', '3420', '20239', '15582', '25460', '9855', '36063', '8630', '4110', '38919', '3933', '34999', '7389', '23625', '9917', '4865', '11948', '31224', '9933', '17415', '11070', '3349', '25574', '4039', '27645', '4030', '37980', '7786', '5383', '6246', '21209', '76360', '7720', '10245', '33183,4', '10605', '9251', '4615', '30946,29', '15680', '23684', '40581', '21907', '7497', '4018', '5232,2', '5329', '7285', '14490', '11281', '6059', '15954,3', '24914', '10695', '12140', '17449,91', '26432', '2190', '7348,52', '28674', '11490', '26598', '22685', '32330', '9856', '15749', '37490', '78000', '3089', '17480', '6522', '20658,2', '15897,92', '22320', '16780', '3861', '32880', '50678', '6546', '7407', '8890', '4450,5', '34840', '15633', '4999,1', '3725', '4005', '4768', '36177', '9367', '11135', '12160', '5140', '6571', '19924', '4709', '8865', '25301', '7011', '7648', '16570', '9814', '12100', '10898', '19929,91', '21650', '25580', '5022', '9677', '4939', '39638', '6786', '32481,83', '51300', '17688', '2878', '11482', '12795', '27342,5', '43353', '8323', '4134,4', '7973', '6023,7', '26991', '15533', '2590', '35300', '28899', '21365', '6190,92', '34990', '22162', '17184', '72890', '15497', '11670', '15820', '25300', '24461', '20113', '21724', '8227', '4377', '39439', '35060', '8423', '16773', '10995,9', '35580', '2907', '17970', '11454', '26138', '46671', '6868,2', '15910', '34280', '7454', '27428', '17529,91', '10366', '8556', '13277', '14497', '17280', '19996', '20992,78', '14096', '12379', '29101,95', '11899,15', '22275', '12425', '12069', '5755', '13320', '14651', '10021', '7747', '18499', '5340', '17350', '3989', '92600', '38058', '2900', '5990', '2798', '58000', '25546', '2817', '40119,5', '3700', '17890', '27146', '19189', '39350', '18286', '6580', '12229', '10355', '10360', '18953', '22329,67', '29012', '9888', '3150', '12890', '3308', '4890,2', '9002', '7998', '13106', '30814', '13179', '8833', '22987', '3249', '22969', '8436', '13225', '3659,5', '9259', '25999', '19482', '29970', '15496', '14279', '10525,01', '23792', '35557', '3822', '7539', '18105', '11665', '30391', '9655', '11650', '35097,66', '19728', '27116', '13089', '8832', '16214', '20131', '28042', '20699,1', '14170', '7959', '23688', '28791', '19503', '10200', '14622', '11615,1', '26095', '15325', '12304', '13980', '5483', '20752', '19835', '26251', '16005', '65241', '10648', '15759', '8303', '15493', '13815', '5545', '47691', '8298', '8007', '5418', '4769', '6599', '10638', '31916', '10756', '18525', '16389', '46385', '43000', '18727', '12608', '28641', '15246', '9025', '9048', '8271', '4911', '9689', '6640', '19769', '82643', '20679', '7669,8', '19275,91', '4372,2', '22469', '28620', '3269', '19417', '46695', '5189', '13148', '21216', '10322', '8866', '13238', '23391', '24100', '31882', '22672', '18060', '10454', '15998', '13337', '12690', '3258', '33909', '13724', '13583', '7947', '15466', '26975', '6782', '50929,82', '14957,1', '10001', '20388', '12159', '33320', '17251', '21836', '22803', '27275', '67490,94', '21808', '11776', '8978,2', '12329', '11999', '28039', '3148', '29449', '3279', '5828', '6755', '2000,51', '41730', '8036', '78853', '16350', '6279', '16190', '24179', '6878', '19010', '17211', '31317', '7068', '3039', '23260', '14005', '11030', '10555', '3299', '5110', '29817', '8125', '7812', '17804', '4471', '31672', '18299,9', '29046,1', '14814', '16440', '7013', '15053', '25568', '18113', '11986', '9144', '24951', '44879', '9720', '16040', '46100', '30580', '19626', '15435', '5011', '10127,7', '7623', '7620', '10600', '8544', '14288', '10785', '26610', '15269', '16261', '49000', '36432', '23575', '6709,5', '32680', '71400', '6480', '24830', '5515,95', '35990', '20657', '13328', '53000', '7799,2', '14625', '7590', '96200', '9990,92', '17070', '9580', '14220', '7850', '2290', '4961', '25317', '42930', '11723', '44440', '18360', '10560', '5055', '7059', '6161', '3138', '5219', '10310', '25812,5', '11270', '5699,9', '6014', '4647', '17273', '33700', '31510', '23020', '34010', '23999', '3515', '14455', '18216', '19340', '23315', '26276', '17752,8', '12889,91', '19498', '33394', '7258', '26355', '31409', '20147,92', '23399,2', '12434', '22135', '19464', '67500', '28238', '18760,75', '3837', '12423', '20480', '30355', '3735', '8433', '35700', '24280', '18724', '20669', '20227,72', '19644', '29033', '14207,1', '22264', '34618', '18009', '20029', '5131', '4000', '6708', '10100', '81743,87', '22643', '11908,24', '28162', '10575', '23395', '26580', '44700', '2979', '6838', '8253', '13447', '16716', '33459', '5152', '21496', '8275', '16420', '7290,9', '13155', '19611', '16482', '16117', '25211', '23130', '22151', '35600', '30684', '5200', '18008,55', '5585', '34542', '24880', '18584', '9268', '17099', '8892', '18085', '10559', '27198', '8712', '18940', '17383', '31700', '12629', '2559', '18390', '21080', '37016', '28722', '17825', '2730', '17557', '12890,92', '19609,92', '17427,33', '3193', '4455', '12312', '15815', '8581', '5775', '7470', '14690', '34793', '27163', '6989', '37640,77', '8950', '3538', '10526', '23608', '11197', '6656', '12972', '15907', '3561', '40377', '6109,06', '23186', '20758', '13500', '15307,2', '6380,91', '4497', '12508,2', '13310', '26983', '11403', '3756', '18269', '29999', '20112', '25198,2', '15429', '26163', '9461,26', '9250', '24835', '29770', '36897', '14199', '16413,82', '21812', '6323', '77860', '6058,1', '14274', '38625', '3688', '2550', '30974', '33920', '9895', '28598', '2957', '30596', '26641', '3385,92', '33255', '18490,91', '6910', '24555', '4738', '27480', '7228,2', '8284', '26774', '3040', '17009', '23205', '22430', '24027', '14678,63', '9220', '19838', '8649', '5155', '14239', '3680', '19711', '13830', '4280', '19255', '9501', '17422', '4026,55', '24604', '9585', '6662', '15795', '7020', '29120', '8346', '4765', '18745', '32787', '92000', '9047,53', '12648', '12893', '25503', '7715', '26099,1', '41132', '4500', '18030', '23930', '8730', '24480', '84000', '5146', '28781', '30197', '28755', '13315', '48379', '29266', '14611', '4849', '24156', '10310,92', '6196', '21505', '12895', '19946', '22761', '19446', '3410', '6497', '19497', '2172', '28464', '14201', '8140', '20218', '26404', '7146', '10448', '15120', '17199', '2151', '7199', '6486', '15755', '15290', '10465', '12389', '20100', '11317', '61600', '11374', '27816', '4879', '18240', '10907', '17960', '30040', '21290', '49863', '15580', '19455', '2780', '3732', '3729', '21225', '2478,6', '24475', '7890', '26870', '2150', '4314', '14939', '14996', '7513', '11598', '22158', '24858', '7441', '5243', '14648', '22949', '8625', '23219,85', '7604', '6080', '11373', '43950', '4425', '27199', '6329', '6214', '17878', '64660', '4345', '24270', '11677', '7178', '8450', '11658', '8241', '42047,91', '8370', '39090', '36323', '82120', '18350', '8990,92', '11356', '10773', '5051', '25520', '24380', '3739,2', '88000', '2378', '8902', '9497', '37900', '20928', '8136', '5480', '16540', '12720', '24780', '50330', '13851', '24236', '31770', '29933,4', '4212,9', '50020', '31910', '17595', '14446', '9446', '27170', '20350', '5908', '3621', '21550', '24240,91', '14083', '27540', '11525', '5199,2', '35955', '4548,6', '46827', '7054', '5469', '2799', '51570', '7207', '23784', '10875', '3505', '37990', '14593', '3520', '18515,03', '63776', '19362', '15709', '21140', '7909', '59009', '49444', '21927', '21739', '3413', '3647', '7320', '5031', '14658', '24840', '6770', '27620', '30360', '28971', '2600', '20409', '23980', '87704', '23373', '20753', '21707', '12317', '7493', '6469', '35369,4', '5485,95', '3998', '12716', '28215', '12900', '10617', '6920', '34000', '4177', '3697', '22286', '14875', '17493', '10339', '35326', '56964,6', '11786,85', '20424', '3655', '3580,9', '26989', '19522', '31020', '21595', '3033', '8795', '24120', '5709', '6697', '3730', '30200', '25029,92', '17006', '34804', '32800', '80000,64', '18400', '19658,1', '17646', '15890', '12589,92', '16474', '8434,1', '62800', '15512', '15763', '18602', '11151', '4579', '28983', '10188', '10920', '25538', '13380', '4235', '18686', '15430', '18690', '19926', '5444', '6049', '5930', '12219', '22500', '31860', '30627', '35787', '3672', '10103', '3610', '9801', '12206', '5445', '20170', '4043', '20240', '14536', '4707', '2748', '32850', '16495', '13426', '15038', '16616', '18934', '12463', '12580', '51534', '15770', '29070', '24694', '23897', '58490', '24390', '44560', '27348', '21844', '18899', '6726,1', '22347', '10434,5', '16860', '6492', '3470', '15490', '12199', '17842', '3239', '10443', '19750', '6397', '9777', '18845,91', '7760', '11321', '38800', '21330', '49100', '41249,65', '20620', '12451', '18439', '4886', '9992', '6211', '20660', '5555', '26030', '3970', '16289', '6720', '8311,29', '5105', '13992', '16648', '4795', '14994,6', '14105', '21814', '4898', '10161', '5268,47', '3767,1', '6749', '9420', '19977', '32617', '18808', '27350', '38340', '16848', '11636', '4276', '5762,88', '6042', '2238', '16988', '2955', '3000', '10659', '21088', '13136', '3353', '16169', '19986,4', '19935', '7450', '3454', '11320', '11995', '4648', '6928', '15844', '7968', '5391', '27251', '14835', '19413,2', '5222', '9276', '4149', '11669', '26547,1', '11926', '9949', '6879,84', '15890,9', '9440', '5397', '13940', '14493', '24015', '19872', '22079', '4079', '11390', '20715', '5748,3', '36700', '16481', '5666', '10341', '11940', '11100', '19615', '10331,1', '18891', '95670', '24071,3', '6993', '5538,6', '10190', '14841', '8050', '32290,6', '10430', '45000', '37560', '26600', '6021', '5704', '12345', '12734', '6610', '3909', '12290,94', '27800', '10275', '8543', '85100', '30170', '10418', '3304', '14631', '63271', '7200', '12914', '14934', '3910', '24771', '12225', '25454', '4589', '18990,5', '18497', '17838', '3904,3', '28594', '19141', '27736', '89344', '3553', '6458', '4569', '4330', '16428', '26183,5', '17186', '16445', '16146', '13607', '6946,92', '13025', '41451', '17851', '3843', '21891', '25140', '14744', '6335', '19113', '44100', '10471', '4807', '35157', '24810', '10328', '2884,5', '23166', '4788', '5840', '9315', '10735', '23715', '27885,2', '14550', '16776', '31490', '14349', '14447', '3280', '30813', '4040,1', '5095', '32822', '25445', '5239', '20779', '21199', '11590', '4779', '47704', '26880', '66578', '22236', '10899', '8627', '9499,2', '12471', '18268', '13281', '28059,81', '16390', '24608', '8758', '22930', '3919', '13991', '34630', '10439', '22850', '18447', '5598', '12500', '16532', '3870', '17298', '21529', '33475', '73230', '5428', '15525', '9003', '9805', '3548', '42682', '23490', '2282', '1843', '8935', '21222', '28509', '16298,1', '10456', '20691', '37450', '7399', '14640', '10978', '10278', '17709', '14188', '27067,92', '12515', '18849', '9858', '12050', '2346', '7343,95', '32241,82', '4026,4', '7766', '89000', '3392', '5430', '5159', '13198', '18896', '6734', '4462', '14013', '35550', '4348', '23317', '15904', '3239,2', '29177', '17505', '15950', '14589', '17767', '22950', '29300', '38032', '12232', '3294', '5707,4', '6700', '82500', '25628', '12899', '25630', '21525', '5906', '4735', '18850', '19791', '8393', '16052', '18717', '4653', '2770', '7858', '18668', '17599', '35767,4', '14588', '18246', '4598', '5825', '23973', '17359,7', '3746,7', '6819,3', '15150', '8116', '31960', '10348', '4210', '41994', '37933', '8698,1', '16197', '17756', '14852,7', '17370', '15170', '51000', '17546', '5913', '30240', '6290', '27740', '10191', '25320', '13157', '20102', '9810', '53400', '17141', '16199', '26848', '24392', '17129', '29750', '10150', '9451', '24506', '65273', '3829', '6148', '22973', '3614', '8980', '11286', '4135', '11009', '8153', '2165,4', '3145', '3942', '5245', '11069', '11308', '10331', '26150', '50560', '9077', '40000', '13985', '7272', '23950', '8419', '20536,1', '6715,2', '24647', '42601', '21030', '6985', '7560', '19840', '12408', '21430', '27660', '87880', '5260', '9107', '20070', '14857', '2009', '4011', '4392', '4199,2', '11971', '14647', '8912', '14724', '13289', '17775', '15200', '16640', '12576', '26181', '13690', '16615', '6912', '64500', '18334', '24659,2', '2844', '16899', '6236', '24240', '8792', '27196,1', '17363', '9597', '12542', '14070', '15233', '16454', '5690', '44415', '3120', '25606,3', '11426', '8752', '6299', '12919', '25459,3', '23696', '11390,91', '28922', '6898', '14637', '8324', '3090', '11652', '17909', '6948', '26698', '3951', '5090,92', '23150', '13477', '15657', '13700', '22654', '61350', '30545', '41211', '17740', '4291', '9447', '15850', '9640', '9349', '21083', '14441', '31263', '9985', '9425', '88312', '10599', '20939', '14949', '23057', '15995', '25570', '35598', '5078', '3117', '22904', '20268', '56763', '9559,8', '20510', '26963', '26529', '17718', '21688', '21899,94', '65448', '14618', '5432', '32593', '14990,95', '3463', '17729', '12737', '18734', '33790', '9095', '19260', '26650', '6892', '7112', '32150', '24459', '25330', '30267', '5381', '25498', '18890,9', '3749', '23584', '2936', '20852', '32256', '7268', '10585', '5220', '17830', '18702', '23800', '5195', '26110', '12672', '5606', '23539', '30324', '45500', '16465', '13930', '98996', '12394', '12262', '10204', '13493', '18403', '13150', '2707,2', '4590', '16849', '26970', '24215', '11192', '5683', '5855', '14078', '12132', '3143', '19843', '2973', '6429', '3383', '25199', '6319', '6759', '6090', '25220', '3109', '8680', '22105', '24119', '5497', '13240', '72998', '16175', '10656', '6885', '7869,61', '19709,1', '12760', '7269', '19491', '17346', '15498', '5723,84', '11599', '11528', '31096', '19305', '12699', '4851,81', '4116', '9957', '31653', '15984', '27490', '15518', '11433', '9405', '20645', '4856', '25380', '14002', '3137', '3892,2', '27439', '29612', '37860', '14664', '13581', '10112,8', '4406', '7452,4', '3971', '19927', '47223', '33966', '24233', '25452', '2572', '17270', '9529', '23396', '18880', '2250', '9886,1', '10736', '19450', '5939', '10326', '6853', '3322', '11219', '29858', '23913,2', '9448', '12648,46', '4690', '13137', '10424', '2470', '74500', '19670', '97500', '4125', '30300', '26279', '11980', '29060', '14798', '18206', '17810,82', '2270', '3668', '3929', '13825', '28580', '3921', '11773', '6295', '9891,9', '23791', '13146,1', '4100', '29963,85', '13288', '13800', '21475', '17097', '7895', '6964', '24790', '32890', '4080,7', '5805', '6434', '7616', '7650', '7349', '13084', '3329', '22460', '19833', '7530', '17548', '10695,13', '9230', '59761', '20499', '9590', '20150', '16797', '2125', '18719', '25991', '45180', '95000', '11169', '6113', '22711,21', '31726', '3979', '11347', '6975', '5599', '5347', '3569', '10256,1', '87600', '4915', '10660', '14829', '11789', '4216', '12700', '15270', '29332', '8100', '6828', '10346', '62468', '2223', '6479', '3778', '53880', '5901', '8599', '12278', '27673', '5089', '13965', '10615', '7742', '24247', '27510', '11495', '19249', '8857', '16991,5', '10874', '12211', '8225', '3699', '22637', '7235', '6675', '12344,4', '16189,4', '18670', '62000', '17411', '13615', '9371', '6796', '27962', '19547', '18667', '2412', '22526', '12117', '7625', '7095', '2595', '22252', '11239', '27989', '18070', '6265', '4416', '16480', '16395', '48920', '17111', '2095', '10417', '14458', '5090', '6232', '24132', '9464', '18780', '25587', '17430', '6659', '17633', '4428', '17622', '28450', '11020', '12146', '6452', '19388', '9839', '3119', '27062', '13016', '4892', '8470', '11955', '2265', '22561', '23180', '13534', '25830', '14281', '18987', '4267', '36952', '40410', '4190', '3605', '45506', '18878', '21410', '26145', '52930', '21296', '7030', '8184', '6496', '12740', '4556', '4757', '46960', '40680', '8299', '16464', '10099', '20698,1', '17380', '28775', '13934', '8057', '22740', '8460', '9099', '9534', '33550,35', '17773', '2826', '10442', '20636,91', '3740', '2500', '22497', '17089,9', '2089', '74482', '4839', '2788', '24900', '24450', '23505,1', '25890', '8981', '12472', '22365', '24291', '8507', '17272', '17395', '41609', '21200', '12564', '10523', '21398', '11815', '23448', '9852', '9169', '20580', '8725', '30714', '50652,94', '13356', '4618', '4399', '15880', '56950,61', '27611', '10841', '9660', '14255', '5247', '2123', '8243', '3835', '6386', '2840', '13545', '11540', '4883', '8928', '21328', '14443', '75581', '3107,7', '20299', '14377', '27508', '4548', '40642,38', '22191', '14969', '7988', '7240,5', '33678,2', '13178', '15314', '7533', '44920', '5920', '13494', '14551', '21298', '9070', '27886', '23670', '7443', '2176', '3999', '10795', '13205', '83407', '7478', '19500', '16396', '21580', '9085', '11033', '12247', '18623', '10852', '5498', '27493', '15215', '4165', '7784', '5143', '43380', '2390', '19071', '7289', '25150', '16011', '13229,2', '12380', '22810', '6494', '15045', '20205', '5618', '6820', '25897', '19610', '5723', '24495', '11765', '40084', '50140', '43573', '4664', '28879', '19133', '7140', '3750,91', '10999', '5424', '5070', '4365', '12770', '4869', '2785,44', '27370', '10413', '5946', '21896', '14254', '35598,01', '23797', '16875,1', '28955', '37480', '25340', '12811', '28437', '38520', '22361', '5405', '13921,36', '19899', '32650', '38120', '13027', '8220', '38553', '10629', '12797', '4257', '36093', '8920', '4919', '8990', '26346', '33506', '15340,01', '5399', '28469', '5160', '6950', '14195', '21989', '34466,4', '27759', '15025', '35230', '4530', '23480', '40313', '24190', '11524,79', '27233', '18980', '87810', '24519', '8293', '5735,7', '5586', '16520', '7299', '25225', '3046', '5720', '13990,92', '18012', '20680', '8080', '43866', '15887', '23659', '5032', '7368', '35640', '12180', '31468', '37219', '15048', '4982,4', '3063', '5900', '25980', '11760', '5404', '6239', '20390', '6686', '8848', '25901', '7293', '12283', '5371', '4885', '20110', '9014', '49860', '30850', '13504', '5824', '4275,9', '4096', '15313', '12991,82', '13689', '3591', '7838', '24438', '35091', '15900', '16880', '7735', '17399,1', '74690', '5270', '23467', '12310,91', '29690', '15300', '12373', '9994', '9280', '6029', '14861', '5735', '10820', '21499', '37857,2', '13515', '18479', '8453', '20792', '28842', '13420', '10755', '23717', '11240', '6231', '19943', '24195', '16993', '3195,9', '11303', '24807', '69990,94', '10210', '20072,2', '6779,07', '10965', '15565,5', '17474', '14310', '4933', '2855', '4659', '11098,8', '12908', '25271', '10542', '6068', '4327', '14128', '9560', '10090', '10422', '23745', '22525', '14365', '17049', '22710', '8633,7', '15784', '41175', '4739', '5525', '5780', '22303', '10105', '61800', '14382', '43682', '16888', '6622', '14330', '24620', '19853', '28551', '7549', '4088', '4967', '8151', '3800', '35530', '34100', '4182', '18540', '3312', '4666', '33476', '14921', '15705', '15765', '19665', '22490', '100000', '16142', '15990', '28861', '8290', '18889', '32990', '22450', '22662', '28584', '10525', '36750', '18660', '10693', '7670', '3030', '11966', '4970', '16590', '15148', '16675', '9160', '16662', '11977', '9222', '19740', '4403', '29001', '45034', '13318', '7135', '30990', '16367', '12056', '9759,4', '38408', '35952', '2629,8', '11636,7', '39705', '2033,05', '15570,4', '8905', '15400', '70500', '12401', '19898,95', '12935', '4617', '27270', '6018', '21658', '16733', '13981,8', '8250', '17748', '22540', '5955', '5897', '7996', '30800', '3128,2', '22522', '2489,4', '5096', '20399', '29917', '25588', '7390', '18590', '9069', '18187', '3516', '26592', '25896', '16244,9', '10549', '18138', '6377', '2751', '3047', '6834', '6562', '9299', '24328', '65747', '15190,5', '23038', '27696', '22835', '17811', '22488', '7017', '10530', '11187', '25122', '40574', '6839', '10853', '18868', '16996', '41399', '30576', '7216', '46041,85', '19990', '19470', '6787,8', '2028,56', '26321', '3069,9', '10061', '19103', '63700', '21154', '14402', '58541', '19110', '17180', '6724', '6930', '4122', '11053,8', '6561,9', '19595', '2097', '7472', '28898', '48700', '6707', '13165', '13580', '7481,98', '12849', '5988,46', '23021', '25623', '10463', '7002', '15960', '4729,72', '21180', '5604', '28666', '16798,2', '2510', '15660', '23770', '25783', '36560', '6528', '23944', '27040', '35739', '9054', '17920', '18398', '7745', '21440', '26770', '3372', '6967', '5600', '39254', '27580', '33930', '22324', '24030', '43373', '14950', '8741', '10390', '12020', '11393', '6519', '12012', '94495', '5181', '3434', '54859', '19897,1', '14639', '7919', '30172', '21889', '20592', '13805', '10616', '13900', '14960', '14916', '60000', '5568', '10947', '13888', '2960', '35825', '7460', '48800', '24764', '10778', '41990', '83000', '23220', '24358', '8577', '20330', '3830,4', '3232', '4487,4', '11115', '36877,25', '53169', '41600', '34650', '21935', '17500', '16649', '19350', '24090', '2135', '35750', '24345', '22490,91', '8381,5', '13948', '8813', '20890', '3370', '3617', '4755', '42899', '21267', '22977', '50400', '18143', '26913', '3731', '12902', '19580', '8508', '13090', '4509', '5113,4', '17573', '7201', '10827', '22871', '15237', '17043', '5265', '9936', '24281', '43880', '9997', '12531', '10512', '21345', '27934', '5699', '13560', '7931,96', '6924', '27372', '12843', '29568,82', '11819', '11227', '5282', '20066', '5942', '34449', '14436', '2816', '30215', '15393', '5174', '30372', '31680', '19120', '63306', '8260', '22616', '15797', '18691,5', '6758', '4982', '19810', '20498', '19858', '14152', '17647', '17752', '19140', '10990,92', '7590,31', '12904', '8598,6', '23695', '11340', '3173', '20730', '11301', '5389', '13882,92', '9742', '15481', '99463', '28011', '26634', '11895', '9490,92', '3916', '13895', '23593', '32100', '30280', '9200', '5384', '26780', '25360', '5119', '6289', '22615', '6552', '15128', '6780,95', '5199', '7061', '16771', '11296', '24408', '10964', '8280', '4107', '9509', '3490,92', '26872', '24263', '12306', '13715', '27560', '4778', '13821', '21665', '15587,1', '12246', '7422', '9779', '6125', '11539', '10483', '10707', '9919', '17290', '11897', '4890', '10992', '10523,7', '4312', '3060', '9495', '31400', '15564', '10895', '31200', '75408,47', '12736', '50950', '31196', '13270', '31596,92', '2565', '4741,12', '5533', '6010', '9898', '11648', '10730', '6982', '17947', '5938', '16449', '28026', '11808', '2805,53', '29647', '17593', '9333', '7336', '34891', '2909,95', '10576', '10646', '18042,91', '26363', '4700', '3003', '7245', '8500', '21860', '18538', '23411', '13652', '14560', '22097', '23758', '3840', '21827', '22489', '29526,12', '22458', '10990,91', '23570', '14775,71', '4427', '5965', '46000', '20280', '10282', '15080', '26262', '5870', '17371', '3880', '30198', '13674', '16875', '9182', '11718,94', '24675,85', '38389', '21105', '36150', '7642', '12725', '6925', '7903,8', '8811', '31460', '12651', '6045', '12096', '21480', '12466', '17185', '19377', '8341', '15180', '12978', '17765', '19751', '27260', '16322', '8620', '8197,89', '10655', '22700', '8947', '20619', '15840', '25937', '28557', '15461', '3637', '4037', '9245', '4375', '7637,63', '4743,68', '27890', '15704', '23843,7', '2843,58', '3480', '29380', '5209', '23577', '24423', '9432', '3274,2', '7651', '11191', '13745', '24800', '19970', '17231', '33600', '4091,4', '22520', '15065', '22417', '20598', '21999,2', '19190', '6108', '4830', '10551', '8820', '11866', '14480', '10700', '35024', '19650', '14688', '9600', '5083', '7926', '3307', '13440', '25950', '21112', '6919', '18054', '16329', '17525', '23990', '29653', '10796', '4255', '27737', '23146', '3147', '20200', '18535', '3240', '9595', '21698', '17458', '77000', '14662', '18184', '25900', '23226', '15919', '10837', '10847', '30175', '29700', '16285', '29490', '19320', '5276', '11975', '3932', '7977', '13620', '9189', '18592', '9764', '8777,1', '9351', '11293', '6766,4', '21520', '18080', '32076', '22080', '3739', '15771', '34479', '14913', '26909', '30879,55', '29941', '19567', '3595', '27234', '16786', '9230,9', '3886', '12136', '6461', '28945', '31070', '3565', '13921', '13880', '26708', '16989', '16057', '5922', '7534', '42699', '7700', '16910', '11790', '13300,91', '3343', '8270', '10609,2', '28428', '17810', '23350', '3898,1', '11446', '2792', '12320', '41130', '17160', '13392', '2831,97', '10086', '8078', '30951', '24755', '11196', '9135', '58640', '7908,1', '9990,91', '13989', '9665', '93060', '8041', '11550', '5457', '20292', '16065', '15518,2', '18557', '9241', '23168', '3745', '19429', '2691,9', '30792', '44530', '14570', '13530', '17940', '4029', '20766', '29220', '27090', '6065', '14072', '18371', '12896', '33900', '8053', '10812', '33910', '11456', '3701', '5232', '9117', '10370', '32844', '43376', '2940', '4410', '20988', '14047', '7660,42', '6426', '45480', '7500', '3900', '5799', '15715', '85223', '8806', '6400', '29640', '20256', '3663', '89018', '13480', '5624,3', '2511,82', '13971', '23109', '9741', '5337', '5869', '99540', '22818', '9538', '17803', '3787', '20856', '29989', '11014,81', '27810', '4825', '16844', '3677', '24131', '23929', '16989,92', '4202', '6541', '5748', '32367', '7510', '18180', '10066,92', '4828', '5978', '15848', '27017,16', '3973', '11200', '3852', '15550', '8176', '12566', '97040', '25410', '24493', '13366', '20589', '4940', '10023', '17592', '26936', '3432', '4293', '56000', '70323,49', '3390,5', '7553', '5997', '10124', '4801', '5788', '7170', '7365,6', '42320', '25627', '17553', '18099', '16669', '5880,92', '5635', '8585', '24695', '20477', '6104', '4212,8', '16720', '12944', '7492', '13181,81', '31498', '26034', '12278,9', '6649,2', '3798,9', '8442', '4274', '25177', '13148,83', '18338', '15720', '12541', '12321', '20149', '19998', '27621', '23546', '83871', '12530', '31189', '52469,87', '25168', '8173,15', '28590', '10792', '6980', '14994', '16799,4', '2183', '42180', '12952', '21960', '2899', '9375', '35400', '2180', '6856', '4195', '4803', '9905', '9546', '4672', '5091', '22198,1', '23259', '15942', '26837', '24466', '10287', '18225', '13688', '15119', '17098', '13926', '2660', '9738', '13438,3', '10130', '47090', '27975', '26587', '10752', '9246', '5053', '6027', '25732,2', '9870', '4383', '22820', '3895', '5597', '6390', '24980', '29791', '6560', '31040', '11416', '20097', '16199,2', '5590', '23852', '7050', '39626,1', '25742', '5554', '20006', '17994', '12861', '9239', '24241', '23730', '27100', '5909', '23158,1', '12370', '11037', '13210', '7770', '13641,3', '15759,75', '65000', '18576', '21964', '8689', '21536', '32547', '4846', '5543', '23690', '5205', '18081', '15824', '21420', '60619', '7334,58', '6906', '40707', '7107', '35450', '7169', '25792', '85202', '2518', '16647', '16834', '15833', '29590', '20860', '22530', '16098', '27860', '11507', '17637', '9416', '15098', '30999', '5531,8', '10800', '3721,5', '23882', '22230', '15470', '14520', '19627', '5237', '17883', '3784', '36919', '9111', '12059', '17329,92', '5038', '10106', '13460', '26329', '5548', '9290,91', '20874', '32490', '36479', '27854', '8880', '24682', '17261', '25990', '18310', '38200', '4586,92', '6918,34', '3708,9', '19529', '20952', '43548,81', '7369,7', '34465', '11106', '10022', '24188', '20919', '25537', '5067,2', '19061', '14399', '24336', '11473', '9675', '8647', '17540', '78934', '21721,1', '17826', '27598', '20883', '18165', '29960', '15020', '19925', '32576,5', '27077', '21866', '8110', '12147', '28304', '20710', '15710', '17572,68', '5877', '6119', '28090', '28502', '8300', '12745', '4874', '23453', '11363', '4320', '2907,9', '22940', '17357', '37200', '7357', '27160', '6747', '13078', '7640', '6999', '9282', '4802', '21280', '6396', '17496', '6824', '17748,91', '27795', '3198', '3441', '20106', '5520', '3365', '42000', '19050', '4398', '3928', '17590', '12833', '6883', '29205', '2872', '24416', '10981,82', '7395', '7752', '4539', '24940', '10120', '40248', '41950', '39240', '4152', '38943', '20876', '2400', '25662', '14160', '9317', '17991', '11739', '18020', '29376', '7287', '4930', '11565', '24970', '10675', '16092', '29975', '22102', '2909', '10506,76', '11470', '11359', '19490', '4941', '20990', '31139', '11725', '5309', '36527', '9406', '12460', '9204', '11690,91', '25472', '33650', '33030', '6850', '17190', '17567', '7556', '21858', '3760', '7982', '13470', '18171', '4130', '18197', '7430', '3960,9', '32370', '74650', '13479', '9294', '2286', '20298', '22150,95', '6296', '16736', '11990,2', '13258', '19659', '7979,91', '11368', '20646', '94300', '7236', '22898', '10250', '4240', '57581', '9513', '2189', '17778', '6586', '67160', '20789', '4260', '19293', '11529', '31333', '29660', '14522', '11698', '7974', '61320', '59629', '6639', '5481', '26896', '24640', '11085', '9846', '31763', '21821', '9127', '5109,2', '6743', '11770', '2439', '6171', '28540', '23320', '14350', '36570', '34369', '3882', '31050', '3418,5', '19159', '5688', '17499', '10710', '3340', '23393', '23940', '14148', '29600', '13948,2', '41021', '7084', '11941', '10034', '3537', '35035,2', '6643', '5026', '17297,6', '3220,2', '5579', '18145', '12314', '16375', '7544', '35360', '9577,8', '23680', '3285', '5860', '6489', '28622', '14193', '59224', '23085', '13575', '21300', '60020', '49490', '5449', '13235', '17503', '24354,62', '16790', '11502', '11065', '27990', '7848', '6921', '18749', '30925', '4258', '20187', '6324', '15740', '9480', '3509', '22150', '2790', '9080', '5977', '33573', '11376', '6678', '2962,8', '3743', '22200', '3464', '10520', '16883', '33107,4', '15566', '3650', '44930', '20075,83', '75360', '5378', '9438', '25660', '13080', '9490', '12509,9', '29260', '15096', '5455,8', '16070,5', '7031', '9341', '41744', '22145,1', '22745', '8361', '11577', '96860', '7794', '23660', '30131', '28684', '10381,5', '4760', '12733,5', '9710', '4189', '27324', '16362', '35670', '12376', '2349', '12558', '5058', '14500', '12378', '33143', '3490,91', '11779', '10720', '18611', '13014', '17308', '34140', '7970', '20001', '38995', '11649', '9573', '15690', '4499', '26790', '4461', '39865', '2791', '21950', '19590', '16602', '11148', '22980', '12128', '14660', '12347', '5639', '7148', '11710', '13410', '24330', '11133', '17812', '18489,91', '5373', '7515', '28420', '12719', '12862', '4304', '27208', '14144', '12023', '13623', '39023', '17073', '24066', '21347', '6990,92', '5229', '9467', '61290', '6286', '27000', '17025', '2612', '16695', '13778,92', '17470', '11981', '10207,2', '13656', '44670', '10640', '22220', '24871', '5505', '25855', '8249', '19775', '8918', '9899', '17660', '13360', '7208', '3834,81', '11498', '18955', '15503', '12750', '4670', '10248', '5530', '30000', '10079', '9090', '14548,2', '7224', '18470', '36530', '27666,14', '18367,21', '22011', '24170', '17425', '9869', '28475', '30778,91', '8424', '8597', '25155', '7767', '6740', '63000', '14456', '7730', '27589', '4485', '12455', '6995', '12228', '33340', '25297', '8355', '27630', '7337', '83295,63', '16940', '35070', '7480', '13280', '26999,2', '5594', '23090', '8291', '46750', '22298', '12295', '10299', '21110', '6585', '38386', '18890', '30190', '21082', '19910', '33190', '4199', '7629', '2440', '20590', '14860', '12280', '23204', '10230', '19820', '5798', '5664,74', '35793', '12032', '7819', '16119', '6648', '36115', '17930', '19591,36', '71999', '20490', '53499', '16889,92', '16575', '11938', '6575', '15730', '12810,94', '22194', '10790,94', '20456', '24867', '18875', '35669', '8154', '75424', '18603', '10136', '4969', '8763', '14037', '11532', '3076', '16613', '3983', '18452', '10084', '23000', '21948', '19049,13', '11849,2', '15630', '9847', '23751', '44690', '17763', '5931', '23836', '3995', '13227,1', '26663,6', '7821', '24064', '5169', '6181', '15697', '6450', '6408', '12148', '59760', '27909', '5399,2', '6367', '16467', '9137', '119700', '13463', '17869', '10999,9', '2259,9', '8874', '16820', '9655,2', '17227', '21380', '10050', '2055', '68430', '21041', '5680', '9842', '27799', '19513', '10477', '6797', '21150', '9586', '32430', '16110', '17086', '16280', '33280', '3799', '23895', '10570', '24301', '37440', '84300', '7296', '69300', '27098,6', '5439', '20000', '8648,5', '9729', '3074', '16976', '4678', '11623', '7042', '4498', '7660', '18710', '16682', '57209', '61040', '11800', '14142', '12698', '9179,92', '4297', '6403', '20440', '16045', '7037', '24587', '5344', '7209', '6449', '7750', '21802', '23398', '18491', '16297', '3555', '21190', '13840', '17865', '17648', '28410', '5837', '75500', '17607,33', '10538', '31792', '6474', '23510', '26000', '12947', '15741', '6020', '31484,1', '14632', '26375', '52000', '6780', '8330', '28845', '29085,9', '6699', '10846', '31560', '14920', '7259', '11517', '11496', '25386', '12829', '16609,09', '22547', '7693', '25400', '25957,2', '51426', '16970', '78390', '46993', '7057', '12053', '10490', '12933', '51900', '11311', '9740', '21936', '8536', '22590', '19137', '7870', '24260', '23030', '4025', '26665', '4477', '18468', '3144', '5060', '4581', '3819', '32007,6', '4428,97', '23746', '18545,5', '23544', '3879', '59200', '31720', '3520,8', '11439', '7798', '20747', '23423', '18756', '22346', '9325', '17310', '12845', '15230', '31759,28', '8590', '24692', '21591', '3737,6', '24749', '4190,9', '14247', '6680', '20992', '24760', '41470', '12610', '74119', '6209', '82910', '81000', '13300', '5425', '3850,85', '33749', '13720', '28640', '10225', '25319', '3935', '46500', '10987', '6139', '14306', '9567', '10192', '4534', '10740', '12470', '27337', '27050', '25167', '7425', '14360', '3717', '4708', '17682', '25868', '7645', '6111', '25367', '24699,2', '4633', '9594', '8377', '6174', '11123', '25600', '8740', '10330', '22498,2', '12557', '18319', '20155', '8744', '18318', '3978', '9695', '22510', '8978', '23060', '30996', '9180', '18566', '26820', '10631', '12392', '15936', '26658,9', '56125', '30310', '2931', '24700,2', '23200', '27313', '29294', '19699', '78300', '10978,6', '8606', '4168,8', '79500', '11904', '36980', '36943', '36701', '9562', '13990', '26596', '19587,63', '17204', '18010', '5130', '23331', '23480,92', '5369', '10116', '15099', '10565', '9960', '4789,92', '4979', '18861', '16222', '22760', '9990,2', '18972', '11422', '4299', '6129', '5961', '7990', '7361', '18876', '3762', '7089', '4513', '28460', '29336,4', '9913', '16595', '19095', '29905', '12490,9', '12398,1', '13040', '15917', '41171', '20529,9', '26060', '13527', '28280', '27455', '14219', '22674', '30930', '15027', '3238', '47250', '4504', '28440', '15900,5', '16698', '22781', '2447', '6916', '10025', '3423,59', '7416', '13765', '49838', '18200', '22307', '7593', '17895', '11826', '11877', '35201', '23110', '3695', '11025', '66504', '2797', '19316', '25020', '84570', '7190,94', '12897', '88555', '4894', '16765', '26232,03', '4816', '18825', '13491', '30738', '18239', '28220', '8022,6', '57593', '27468', '64670', '27936', '19690', '5040', '8412', '42940', '7981', '9975', '19475', '25480', '8825', '22049', '31920', '5419', '8798', '4799', '3474', '6900', '62550', '8979', '22119,91', '55500', '4743', '9255', '21279', '19630', '5890', '32870', '5184', '24145', '13000', '13248', '42300', '24496', '7975', '5736,6', '18414', '29390', '27790', '25197', '21214', '10753', '26740', '15571', '69000', '5694', '2961', '13455', '5354', '5496', '7330', '2333', '31687', '94330', '12889', '5409', '21350', '11337', '8609,92', '6606', '17490', '22770', '24960', '4208', '27642', '25182,4', '5355', '50568', '3975', '60720', '21628', '15838', '19044', '7259,8', '24386', '7386', '23425', '14461', '6970', '23230', '3254', '9047', '8735', '15460', '12822', '4420', '9629', '9400', '16669,84', '13428', '24404', '13020', '26520', '8878', '37060', '61200', '11820', '23191', '6313', '20052', '6748', '23290', '54800', '12940', '58900', '21635,81', '6600', '2457', '6198,28', '42780', '19923', '8360,92', '6340', '34154', '24110', '21901', '13439', '20393', '11990', '5005,8', '11480', '23923', '8718,1', '14028', '17089', '8132', '82800', '24174', '7949', '28750', '9646', '47991', '22756', '11674', '5796', '8998', '4227', '13024', '7327,8', '10268', '17760', '18676', '4995', '3620', '24920', '23437', '4638', '13371', '6624', '38490', '15724', '35250', '22352', '5581', '21648', '20379,5', '41700', '19280', '20040', '29445', '13929', '29615', '32670,79', '6940', '17558', '6795', '18502', '16560', '7151', '23185', '12803,4', '12786', '13890', '7687', '10927', '21086', '6730', '17099,1', '38725', '56310', '6101', '23137', '9482', '28630', '31080', '31013', '26818', '15826', '15658,85', '26177', '19215', '18610', '15216,06', '18162', '5120', '15097', '13462', '3636,9', '5848', '49410', '7313', '31966', '23147', '5187', '26085', '7984', '2578', '40037', '4120', '28206', '18997', '14031', '23508', '18389', '11968', '17483', '7080', '18480', '11908', '57000', '22889', '10029,92', '37517', '20443', '32724', '23103', '37235', '27965', '4121', '22282', '12362', '17710', '66980', '70020', '21321', '5715', '18001,28', '3417', '34200', '21349', '18144', '32415', '6691', '14521', '18288', '6904', '25190', '17880', '16020', '10075', '4882', '7000', '14528', '17179', '22260', '26621', '63320', '21124', '14730', '10295', '6950,7', '7105', '2853', '32935', '5436', '29694', '37855', '17575', '33800', '21197', '2671,2', '3892', '19047', '26543', '49180', '22106', '5018', '4855', '42689', '93075', '41498', '16576', '4629', '90000', '22825', '25210', '35950', '8405', '23858', '3499', '28717', '8195', '9599', '8025', '7040,92', '23663', '12733,35', '16140', '6628', '22819', '3715', '14280', '16766', '8940', '8186', '24720', '23026', '14141', '8096', '12987', '9758', '6544', '15639', '4630', '3808', '5170', '3659', '14705,95', '15067', '8877', '20380', '14356', '35897', '25031', '7788', '31415', '13829', '26369', '20320', '4690,92', '10474', '23472', '6332', '6022,8', '10590', '11620', '60950', '43200', '8667', '5721', '4563', '27650', '6146', '32980', '18632', '4608', '2226', '50757', '7768', '76173', '9956', '19716', '9458', '21042', '14370', '24285', '14997', '10541', '4480', '26430', '12998', '13321', '30350', '6477', '47021', '14510', '4888', '6445', '11389', '4842', '21395', '3393', '14272', '42888', '18591', '8819', '14176', '14856', '4512', '18482', '12846', '3112', '14877', '22392', '13997', '13297', '9759', '26054', '39025', '6820,33', '18819', '9739', '22070', '17446', '7101', '12702', '2260', '13922', '4917', '3924', '14390', '38570', '13495', '5280,91', '13220', '4237', '19760', '19980', '14570,9', '22789', '62240', '19045', '3889', '48000', '56130', '34020', '2158', '32387', '23154', '5010', '34295', '34900', '10198', '19040', '27995', '19090', '36194', '30590,92', '17979', '9793', '8314', '39741', '2079', '21819', '13649', '10271', '16985', '14059', '28386', '23106', '50700', '28990', '20898', '19430', '19538', '6810', '41100', '87928', '5398', '25730', '19270', '4878', '18820', '5173,2', '6596', '23199', '10714', '28773', '21594', '3770', '93800', '24198,2', '12341', '19907', '6372', '8056', '18230', '11666', '32914,31', '25250', '6288', '95441', '13960', '24314', '17390', '14780', '48580', '26315', '8108', '17568', '28070', '36263,1', '8938', '19410', '3764', '39500', '21390', '4853', '6855', '9889', '19440', '25240', '63657', '14885,91', '29769', '7120', '29851', '14870', '22110', '10300', '6270', '32420', '4845', '34699', '17625', '50591', '12424', '27720', '14540,04', '79959', '18990', '27060', '8830', '18064', '6261', '4350', '14113', '12249', '37495,2', '27877', '26537', '12400', '82162', '8555', '11055', '20497', '20046', '5544', '7754', '11154', '7198', '6793', '20570', '54700', '4966', '13699', '4469', '7615', '44760', '3579,3', '21861', '7713', '15875', '52540', '8190', '4102', '13490,2', '15283', '26460,92', '10884', '17279,2', '4259', '10579,91', '46600', '20900', '7776', '37930', '10528', '72220', '15980', '11130', '83194', '76000', '22499', '6199', '3029,1', '4349', '5175', '8949', '17839', '9291', '5814', '18100', '14718', '29591', '22970', '8117', '26900', '18824', '21810', '13421', '18198', '21746', '8071', '19950', '18260', '2580', '4490', '13981,82', '9596', '20571', '13051', '7433', '21446', '23854', '61973', '23265', '3600', '27796', '10858', '11530', '11792,5', '6053', '23990,83', '21975', '4689', '9045', '13536', '11333', '11220', '8787', '19154', '14320', '20750', '22836', '10139', '21250', '14620', '20630', '9891', '10134', '24599', '27156', '5486,4', '20971', '5071', '12240', '12227', '20613', '72885,57', '12138', '16893', '21270', '14119', '30615', '17020', '22082', '19840,5', '21703', '8480', '8519', '4103', '4680', '3792,92', '13677', '21210', '5380', '26547', '4422', '4542', '2538', '4867', '4454', '18725', '5144', '31716', '9990', '4934', '14965', '15041', '5991', '45672', '23865', '31320', '8670', '9344', '10086,92', '77762', '28565', '22927', '18096', '3578', '8342', '13390', '16114', '16500', '4068', '11748,2', '7490', '5516', '34981', '9510', '9681', '25748,2', '3789', '7242', '12490', '5044', '41622', '29904', '16745', '9826', '44900', '16869', '8448', '3010', '15286', '19571', '17247', '21022', '16653', '17509', '5759', '14130', '4379', '9060', '16666', '5797', '41829', '22292', '19908,1', '24100,83', '22090', '9457', '78150', '83106', '8751', '44225', '21804', '8310', '14134', '36680', '4710', '74000', '8055', '16824', '15540', '10691', '12640', '13776', '4965', '12511', '4662', '9427', '10879', '23975', '3088', '15164', '9496', '13752', '14709', '13644', '6658', '3710', '10751', '16155', '14046', '5439,2', '9081', '7360', '33101,82', '17372', '38070', '25081,98', '88440', '7559', '27665', '9809', '6721', '4505', '7713,42', '18329', '10046', '23869', '99350', '19847', '6630', '8770', '8336', '2599,2', '17162', '25540', '26730', '3465', '25685', '10912', '18598', '37391', '20295', '22210', '30837', '23050', '15311', '11505', '29480', '11727', '15788', '31140', '3067', '16748,1', '9074', '2939,2', '5846', '72000', '6112', '22364', '11295', '27781', '13388', '12435', '13556', '3885', '3085', '8129', '4435', '8390', '44408', '3925', '16966', '3824', '28429,9', '5793,3', '9800', '16700', '29638', '8247', '11331', '10557', '34660', '23475', '15645', '4265', '22167,6', '25180', '19560', '28224', '22480,9', '18712', '11260', '25107', '12270', '40196', '27230', '12612,17', '30940', '4781', '44660', '22536', '22121,1', '7690', '13747', '3477', '21058', '12590', '42880', '26114,4', '16447', '3741,34', '11755', '43059,8', '3303', '26695,8', '2305,8', '3289', '3950', '4694', '21100', '25760', '18370', '25313', '36267', '16872,3', '10448,9', '12872', '26174', '7084,28', '21369', '16237', '9380', '7302', '10861', '34557,1', '12948', '12490,91', '8831', '71880,3', '3442', '18711,05', '4909', '28258', '3275', '87673', '28340', '3654', '3204,9', '5980', '3752', '7077', '6757', '76738', '26100', '41936', '30031', '6378', '7459,6', '25897,4', '10490,91', '12950', '23498', '6858', '33460', '10990,94', '9711', '2499', '15913', '9768', '27664', '21778', '36880', '5045', '7396', '39800', '4964', '9924', '5614', '7763', '4351', '21207', '3398', '5475', '14281,89', '59590', '19736', '70360', '2700', '8361,9', '8064', '26330', '11430', '10306', '16230', '25557', '3530', '10240', '16975', '25893', '17700', '20433', '13093', '3006', '81672', '28482', '10361', '37656', '13465', '18300', '3395', '21546', '3424', '11243', '7704', '4099', '27208,78', '8118', '20968', '7647', '23985', '21166', '15359', '2072,7', '11339', '29010', '14260', '18978', '8717', '5357', '14498', '9295', '11534', '13245', '19540', '22800', '17600', '27180', '35290', '9683', '8308,35', '4644', '25133', '66680', '4250', '4336,2', '25464', '11231', '11077', '18435', '32508,2', '7452', '21218', '26664', '21795', '25370', '19155', '12505', '26597,91', '20970', '27356', '28417', '14080', '3984', '8815,5', '20698,2', '17378', '35269,2', '12986', '20562,2', '27096', '19290', '40900', '18960', '9652', '2830', '8337', '17594', '33500', '18041', '4928', '23365', '3167', '19860', '11735', '39120', '15962', '23197', '27400', '19200', '26693', '31790', '9639', '19300', '14547', '8879', '17980', '14993', '27141', '17055', '21640', '11639', '17863', '4448', '22717', '11536', '11300', '21405', '5742', '3391', '16379,3', '9718', '6103,8', '10930,52', '19245', '19486', '8939', '38300', '5700', '13637', '36290', '3827', '12809', '20927', '15327', '11315', '15822', '10668', '17348', '15280', '15602,5', '30720', '18999,2', '34199', '24326', '11475', '10770', '42540', '30201,2', '6620', '6179', '14337', '9798', '37881', '2573', '16841', '8876', '19509', '23890', '31895,48', '24795', '22075', '5150', '14989', '9733', '8750', '5212', '11571', '12562', '33358,84', '15642', '15117', '19805', '9947', '3753', '6167', '9789', '2719,2', '10618', '19889,92', '9971,89', '18599', '7824', '93000', '17631', '27535', '11927', '11898', '35995', '4355', '16519', '7682', '36350', '4599', '11090', '23240', '8755', '26961', '3418', '2319', '17604', '25592', '3906', '27640', '11936', '16392', '5919', '13443', '32975,3', '44495', '21974', '18847', '3493', '31520', '6099', '23460', '34252', '8155', '20450', '30050', '38223,86', '12856', '86449', '8097', '44770', '16576,2', '30224', '13498', '11805', '16605', '15248', '96970', '81900', '18119', '40080', '9755', '47600', '9791', '17528', '12870', '24063', '11344', '9021', '17235', '8753', '8499', '9235', '9564', '4147', '5072', '4220', '17839,92', '26450', '40490,91', '19457', '20495', '48310', '21400', '23216', '6102', '5500', '12521', '3013', '30060', '19100', '4605', '76160', '11176', '13872', '14151', '45730', '17000', '28079,84', '13570', '4248', '21494', '13740', '8898', '9622,77', '23040', '21370', '24295', '3100', '72896', '15100,82', '10652,6', '27457', '82130', '12429', '12991,91', '2415', '9865', '4117', '7134', '7066', '5960', '9059', '2848', '20088', '23711', '23100', '15727', '8179', '5465', '10389', '28308', '10434', '16547', '4791', '7110', '21079', '4880', '23352', '9360', '14090', '20050', '14390,92', '7262', '19549', '12478', '9978', '27446', '39344', '5177', '24297', '18459', '89200', '6502', '7255', '5632', '82849', '3330', '13678', '12190', '6309', '56899', '11680', '33598', '4559', '4838', '25227', '19697', '31420', '5768', '9786', '29622', '13820', '27700', '10194', '39590', '32748', '14847', '31815', '16047,1', '15394', '23976', '4310', '11574', '3828,6', '8767', '19017', '11781', '20770', '11259', '28700', '35320', '5602', '13679', '14060', '3429', '4734', '15090', '5674,5', '16284', '37818', '10870', '4499,2', '19420', '10394', '10818', '26817', '5188', '11195', '12285', '4269', '32397', '25601', '5964', '17531', '4008', '5933', '15151', '18528', '21646', '29995', '5180', '20700', '10032', '13060', '26361', '4986,5', '30477', '7421', '20025', '8198', '40250', '19710', '27063', '2990,92', '12554', '34901', '11399', '15272', '13450', '3404', '10216', '14190', '15221', '7463', '29592', '5141,7', '18275', '7830', '12105', '11489,45', '5822', '138400', '6205', '11701', '30600', '16571', '19131', '13689,86', '23788', '9013', '31449', '3947', '86041', '20494', '56210', '12173', '22317', '77210', '24910,6', '21388', '2435', '17397', '2958', '27207', '17955', '4937', '84630', '16448', '40700', '11299', '55000', '34916', '9128', '12762', '19489', '36915', '15640', '40392', '7904', '6338', '25550', '6039', '19752', '4595', '13850', '28210', '6354', '4098', '27891', '24552', '4196', '20820,44', '7194,72', '14027', '15557', '25750', '31190', '11899', '13255', '10319', '2871', '10392', '7900', '5840,94', '21990', '12339', '5779', '15615', '6999,9', '18399', '19772', '19720', '8244', '30012', '13734', '25120', '19602', '3930', '9592', '14257,91', '56280', '7025', '23324', '4619', '34700', '11630', '35563', '11651', '6193', '8540', '8754', '15945', '31300', '11194,06', '19218', '27536,65', '10810', '14309', '7394', '5800', '9928', '84500', '8816', '22493', '13591', '27496', '15940', '10775', '13197', '23861', '7659', '18689', '19930', '16750', '2330', '59661', '12680', '10212', '25315', '5916', '69076', '5306', '37629', '5852', '13653', '4010', '4600', '15621', '26337', '4540', '8237', '11848', '5508', '9007', '3199', '23700', '99313', '29997', '16090', '31694', '6944', '42228', '2380', '13759,2', '10450', '2157,45', '22214', '19877', '32770', '8425', '23163', '28055', '4269,01', '5776', '7495', '40240', '11780', '4725', '6515', '31800', '21582', '16000', '10241', '14526,8', '29663', '22394', '27125', '5550', '10738', '5795', '27190', '28913,76', '13793', '48500', '2964', '23210', '9727', '22498', '6545', '3440', '2819', '9825', '37095,2', '29285', '8652', '10495', '6210', '19289', '14230', '66780', '24998', '30873', '10899,6', '3099', '21790', '10209', '6991', '16166', '72990', '22380', '3838', '21038', '29949,7', '15529', '15948', '12953', '30680', '5109', '32390', '20903,5', '21911', '10280', '27381', '28778,3', '29697', '20410', '24217', '9632', '22058,91', '9909,9', '20727', '24846', '11618', '17398,1', '4490,9', '60700', '20275', '5790,91', '24721', '3271,5', '7884', '7385', '23713', '15186', '26311', '3125', '7166', '4947', '6556', '3070', '46728', '16691', '9301', '8058,5', '8099', '6822', '24550', '2048', '9203,4', '2152', '8904', '34499,2', '20755', '26910', '87850', '6077,7', '12495', '35490', '5410', '30510', '13180', '49940', '6160', '27408', '11410', '21097', '13998', '8001', '16850', '13898', '19311', '25599', '15559', '17727', '26485', '39422', '19130', '7725', '23192', '18422', '9816', '19608', '5963', '17428', '2065,5', '45665', '12354', '26710', '18007', '6071', '45297', '21075', '9430,38', '3512', '11405', '22999', '27899', '14678', '23037', '24344', '3960', '8181', '17432', '30956,4', '12995', '9178', '5218,06', '21994', '15859', '6095,25', '29693', '16370', '25800', '22455', '56790', '5287', '7598', '4530,7', '26051', '35910', '28600', '10183,4', '33300', '2912', '3316', '7638', '4023', '45600', '19889,8', '2215', '9780', '62100', '34168', '32183', '5850', '15798', '9899,1', '6756', '4950', '14197', '9860', '15677', '42335', '18490', '15986', '42408', '9207', '4419', '53364', '5320', '11290', '17210', '40594', '24650', '4089', '12899,1', '39960', '12527', '20343', '79910', '16191', '3048', '37950', '18870', '30250', '12331', '14120', '5745,12', '98808', '4740', '8517', '12905', '4031', '4564', '5985', '26090', '16491', '5773', '14098,1', '6189,92', '8230', '18270', '6873', '4488', '14636', '8432', '3941', '5968', '4297,5', '4785', '19857', '10467,1', '29250', '8994', '4056', '6073', '7098', '12597', '19046', '7584', '29312', '54105', '14172', '3467,7', '3014', '14696', '11619,84', '17355', '16948', '5984', '17673', '24751', '23720', '16257', '9210', '8127', '11189', '9923', '12348', '2688', '18204', '24949,09', '31587', '7624', '33662', '90691', '7488', '5406', '3270', '15228', '21710', '15260', '14523', '19850', '34990,8', '21140,7', '10740,64', '12945', '26854', '8997', '30825', '21195', '9679', '9930', '34562', '23202', '24983', '22072', '13435', '3293', '24229', '5794', '18004', '3774', '27219,31', '6298,6', '4999', '13260', '10729', '16381', '27570', '38193,8', '24420', '9459,9', '24367', '7327', '4951', '16740,65', '17990', '29198', '8043', '24996', '5738', '12735', '4692', '18913', '3616', '66565', '6249', '15810', '34120', '20020', '10213', '45908', '4674', '46649', '6345', '26524', '6381', '12427', '16200', '12749', '20430', '7876', '20464', '16227', '21066,1', '18251', '17474,35', '22780', '22040', '4494', '45790', '16380', '28274', '50940', '4082', '23161', '49653', '17254', '11992', '11834', '44938', '27094', '28112', '5033,83', '4668', '6819', '28728', '15616', '8490,92', '21481', '23640', '20780', '20690', '4405', '2800', '69825', '6350', '29789,91', '9263', '11799', '6881', '10632', '17837', '6867', '9568', '12419', '10998', '20999', '4413', '5176,8', '18547', '2060', '5691', '36963,5', '27693', '24465', '12506', '23478', '39950', '7339', '6979', '2408', '14039,9', '14052', '6529', '12782', '34950', '19940', '29677', '7669', '5570', '10320', '4148', '5015', '8598', '19048', '27550', '7741', '7547,2', '22214,69', '21620', '17010', '6660', '7609,5', '11389,2', '13134', '26750', '18078', '33417', '7892', '23850', '28431', '28840', '11380', '9345', '18250', '27110', '10855', '22621', '12493', '26660,2', '13779,81', '22750', '33330', '13625', '20581', '7392', '6374,78', '15190', '28421', '37880', '39627', '19895', '28858', '8829', '6170', '9748', '8452', '17685', '24680', '14177', '29065', '13115', '25326,55', '26350', '39720', '19246', '27820', '7180,9', '10193', '12350', '28330', '13351', '23667', '19359', '13792', '4980', '12880', '23517', '22944', '22951', '28610', '15162', '6880', '3129', '6075', '23697', '6893', '3996,9', '4578', '35992', '17424', '9845', '3834', '4650', '11890', '13860', '19286', '29538', '36667', '7863', '21771', '17420', '11592', '3918,6', '6399,2', '6430', '12120', '7574', '12210', '31509', '23762', '15748', '13474', '3481', '22212', '14735', '78350', '38250', '3626', '14169,1', '9059,92', '10801', '7570', '19089', '37790', '22180', '6420', '7459', '16194', '82170', '5141', '9198', '20934', '5296', '7740', '25829,1', '32310', '6935', '15638', '60600', '58500', '24003', '10231,2', '6499', '5261', '15440', '8703', '28170', '18130', '14348', '10160', '22492', '11352', '4150,95', '18339', '51370', '19079', '78800', '24223', '18669,2', '11586', '22570', '7680', '3484', '9484', '11017,35', '30599', '4397', '18605', '22575', '26775', '7611', '6475', '5456', '11754', '14889', '9550,82', '18624', '13376', '22656', '23152', '12980', '16648,2', '19966', '9308', '7678', '21592', '18580', '14890', '9457,2', '4645', '20599', '15720,91', '5646,6', '10866', '6642', '14595', '2520', '31365', '80676', '29359', '28999', '3450', '27045', '25522', '23749,76', '13959', '10085,9', '27450', '11740', '5258', '26886', '7204', '39100', '7874', '22588', '16278', '10536', '16961,1', '32810', '17597', '10470', '5076', '9557', '13665', '16843', '14790', '5757,1', '15599', '14166', '9996', '3790', '4802,54', '7010', '18123', '16738', '3894,2', '26097', '11440', '6807', '10048', '28059', '26927', '5382', '134000', '5482', '30011', '16525', '32220', '7358', '8790', '2934', '18898', '14058', '25887', '15240', '4200', '26700', '6282', '20768', '22139', '14645', '34958', '7181', '35991', '23170', '9746', '3875', '8496', '15863', '13185', '4115', '3848', '6490,5', '13389', '15482', '4953', '21010', '4661', '55809', '3955', '25280', '8943', '4150', '8595', '6647', '17623', '22008', '31943', '22188', '5668', '5669', '3771', '9224', '11450,9', '25492', '14743', '22390', '14209', '8901', '22848', '25702', '21828', '3187', '6470', '27986', '15620', '4236', '5515', '22243', '5761,9', '7689', '32600', '81612', '3385,83', '34980', '3406', '34046', '6984', '10349', '14076', '14292', '10451', '4729', '13514', '24630', '58567', '7769', '6901', '36718', '7908', '17956', '29760', '19989', '7800', '9557,1', '34629', '23400', '13993', '4732', '11370', '6339', '19400', '14378', '18306', '5608', '34119', '3356', '4340', '98042', '5197', '6130,8', '9680', '13190', '22650', '17387', '2160', '56002,28', '5510', '3815', '21889,92', '6965', '19944', '16499', '8640', '13193', '14990', '4986', '33111', '17719', '53980', '4479', '14030', '14787', '12412', '2888', '13298', '3980', '12730', '25236', '10070', '8869', '39193,4', '8797', '8380', '44000', '10591', '29037,12', '5895', '40499', '16898', '36800', '60888', '3207', '25640', '43996', '19830', '9554', '3720', '20196', '10432', '29100', '17316', '13005', '10750', '3768', '14878', '14904', '7182', '26454', '29214', '26999', '14400', '14388,3', '6163', '2724', '8102', '6376,5', '21213', '52250', '23511', '3542', '2990', '32580', '24897', '11385', '33230,6', '29598', '12518,5', '21444', '3282', '50900', '15695', '7008,48', '9700', '20190', '8666', '10700,3', '30765', '32391', '33660', '66000', '30630', '7979', '4968', '16256', '16151', '3230', '9417', '8098', '10910,6', '7509', '11264,25', '14619', '17064', '4840,65', '3996', '25638', '10350', '24116', '29475', '12791', '18210', '18999', '12090', '26874', '37293', '15593', '2965', '17772', '21840', '78572', '10220', '2950', '12443', '19116', '11542', '37046', '14268', '2040', '26250', '8120', '8564', '18685,4', '9588', '20129', '20885,2', '9551', '25413', '8788', '66690', '23160', '34380', '7507', '4560', '19984', '5346', '4683', '12983', '32765', '12818', '7875', '3707', '7315', '8622', '7138', '4810', '13910', '16507', '10010', '4047', '6320', '6298', '85697', '2008,8', '28876', '55174', '11924,64', '21464', '13409', '88300', '3660', '24579', '13006', '4875', '17790', '12959', '24370', '8329', '2959', '7999,1', '13365', '13271', '17076,2', '7114', '7484', '40470', '13497', '29810', '53091', '25641', '3123', '4960', '18290', '11075', '13232,88', '8870', '9363', '24948', '8957', '21736', '28264', '36070', '24049', '15489', '21000', '4473', '6341', '10891', '38877', '26988', '24740', '4823', '15003', '8204', '8515,7', '4536', '21943', '12662', '24864', '3215', '10500,72', '11223', '24697', '18567', '10345', '28341', '30656', '13566', '16312', '13312', '2340,9', '20478', '2268', '18330', '37407', '4661,84', '15500', '16544', '5695', '30430', '70936,32', '8568', '22627', '29277', '12789', '19143', '31466', '26998', '30840', '16919', '14110', '23496', '16977', '23126', '56680', '41511', '76050', '26400', '28490', '15556', '3830', '17659', '27939', '2120', '4278', '22870', '2915', '2241', '25683', '20160', '15102', '62700', '20355', '9688', '6109', '14929,92', '2579', '8930', '8037', '13259', '24485', '20236', '8990,9', '6204', '26690', '27470', '13329', '13456', '7597', '17800', '8999', '20786', '18340', '11242', '12440', '17450', '20500', '24141', '24743', '14553', '23300', '13208', '5847', '11920', '25898', '16847', '9248', '9880', '9086', '4519', '10868', '16715', '31931', '25831', '22349', '26401,53', '12598', '21530', '4428,1', '12868', '3492', '11691', '16107', '16840', '18212', '36287', '22015', '5129', '49330', '8156', '21069,8', '18128', '10149', '26189', '30150', '13908', '10009', '27343', '5724', '4021', '21239', '16923', '27855', '26431', '37278', '6278', '20507', '21021,9', '12098', '23420,7', '11697,1', '17202', '6463', '19382', '14300', '6567', '52561', '11350', '11120', '13670', '10697', '7718', '34195', '9576', '27945', '12748', '7335', '8263', '7829', '11635', '3061,45', '7937', '6200', '5343', '10260', '14830', '5678', '30216', '23613', '6092', '14391,2', '12450', '16479', '6299,72', '10274', '34300', '22025', '37466', '2263', '13139', '5434', '23774', '43600', '26260', '15899', '3602', '29443', '10466', '3222,9', '9620', '11723,2', '2890', '5660,92', '12300', '12898', '4624', '3541', '11580', '14004', '12265', '3793', '33996', '18415', '21320', '40309', '11930,92', '12170', '31605', '89196', '7398', '37576', '5729', '4850', '27950', '7990,9', '33797', '22560', '28151', '8278', '22668', '19982', '4800', '6301', '18094', '9477', '2514', '9461,5', '13989,4', '74800', '5300', '4896', '12996', '16571,2', '7880', '14599', '4872', '2592', '14237', '10267', '23274', '20626', '45863', '14805', '7673', '2601', '20771,7', '36498', '21498', '14440', '2490', '27010', '40180', '4448,23', '25098', '9302,92', '23058', '8650', '3448', '4472', '12650', '23485', '12292', '19929', '13550', '11348,1', '7999', '23140', '6215', '15653', '2350', '12428,7', '3540,2', '11466', '86071', '17655', '30729', '42657', '5369,34', '8087', '20850', '21578', '24868', '3988', '12903', '43750', '30418', '8644', '13294', '26420', '21015', '27670', '22175', '42820', '5807', '84558', '18190', '16950', '3869', '17532', '5535', '6595', '35010', '5440', '8973', '22244', '48100', '9514', '20790', '41620', '7511', '5910', '14094', '10757', '33450', '6255', '4359', '70000', '6745', '10040', '61487', '25966', '7845', '6527', '24435', '20375', '12365,2', '4582', '51685', '16450', '18707', '21524', '4797', '8279', '9340', '10464', '23450', '44290', '35248', '47114', '16792,8', '25823', '31793', '12096,2', '13635', '4958', '13563', '10069', '3879,17', '4826', '39020', '20670', '6945', '10717', '11880', '4719', '12512', '26340', '14925', '14700', '6217', '5043', '20132', '8906', '5799,2', '13913', '8289', '27149', '3868', '20871', '21877', '48900', '3949', '21610,6', '14596', '27249', '6201', '30381,84', '13546', '4268', '3419', '19348', '19622', '5037', '7187', '14326', '25095', '5573', '49500', '12984', '29782', '35520', '10180', '11236', '16060', '12395', '4347', '2952', '3176', '41292', '23459', '3016,8', '14438', '25810', '3019', '17928', '26200', '8837', '4963', '20640', '13402', '2689', '27290', '73000', '27980', '25105,1', '5030', '29393', '13184', '25840', '16687', '14230,6', '3471', '6198', '38330', '4041,9', '14453', '14185', '4390', '7070', '19502', '31885', '15127,4', '11950', '13302', '17203', '2030', '24665', '17624', '14845', '7124', '4631,4', '5289', '25253', '4496', '19170', '6495', '11034', '6240', '28180', '6591', '8510', '5211', '21832', '17643', '7362', '13053,2', '11997,2', '3894', '4790', '13444', '6736', '18121', '20496', '11685', '5988', '11798', '13764', '8977', '2511', '3375', '9769', '7587', '11289', '6535', '12465', '21219', '22747', '41154', '24648', '2889', '37415', '16830', '5625', '15930', '20863', '4184', '12452', '29280', '6559', '18996', '20315', '9998', '43010', '7995', '11655', '70245', '3335', '14590', '26469', '20931', '5863', '6651', '5162', '15016', '27963', '15610', '29595', '19719', '10089', '15613', '9983', '4095', '17106', '21940', '28472', '17873,75', '3059', '8697', '30673', '14985', '33097', '20084', '5812', '25765', '21845', '6223', '27827', '21570', '17701', '27780', '26510', '12496', '12305', '46900', '21025', '18740', '13324', '16897', '15140', '19051', '3780', '4074', '13332', '19556', '9550', '30713', '2421', '7710', '3296', '25109', '21740', '14891', '8900', '15000', '5183,6', '19797', '12597,3', '29460', '22250', '13279', '6263', '10143', '29990', '12198', '15192', '41601', '35082', '85400', '3483', '11719', '4169', '6150', '5496,4', '20229', '3949,92', '5684', '26760', '31250', '25254,1', '41010', '25820', '16039', '20740', '6487', '4984', '29942', '3888,48', '28534,5', '15290,7', '10185', '28800', '27456', '7020,9', '14383', '26232', '19613', '13891,5', '17885', '2370', '2705', '15520', '86571', '20423,66', '6330', '13287', '22528', '18460', '29544', '96490', '27237', '19085', '21599', '12151', '14204', '38990', '5941', '9787', '4387', '6616', '30110', '15029,9', '23772,27', '3050', '8492', '27150', '81445', '5000', '23279', '8599,9', '33850', '12000', '17714', '6446', '4944', '4809', '7839', '13770', '4804', '9389,1', '93820', '5221', '13978,11', '54264', '10000', '10972', '24524', '34555', '29470', '17375', '25200', '22660', '26170', '17130', '6789', '26010', '12550', '16460', '8286', '69500', '14715', '24267', '13286', '65400', '23799,2', '3444,9', '14200', '7738', '5174,2', '3087', '4412', '15035', '11595', '6185', '11430,01', '17325', '26199', '73035', '10097', '88500', '13263', '28661', '15560', '22598,1', '8421', '24070', '7550', '8077', '10864', '21061', '12044', '50879,83', '9980', '7878', '5121', '11449', '28862', '9927,1', '35580,91', '5490', '18599,4', '12799', '3855', '30299', '19035', '3405', '17802', '11448', '20555', '14630', '10767', '20568', '7915', '13400', '11269', '31730,91', '41397', '9765', '40534', '3657', '13580,5', '15514', '8396', '29478', '14290', '13499', '17030', '9365', '19520', '5499', '38778,01', '11916', '18675', '9532', '4281', '10265', '22221', '28221', '12696', '3355', '12482', '5966,7', '14487', '28745', '11551', '16949', '22687', '3893', '5929,95', '5801,4', '21408', '12546', '20827', '12655', '3943', '14100', '16302', '3140', '45299', '15648', '97220', '16030', '4928,96', '9237', '6208', '4938', '7847', '5307', '6145', '29420', '22170', '27690', '5719', '28932', '18280', '10020', '29372', '3395,1', '12679,92', '36679', '4460', '2676', '6972', '29173', '4703', '45280', '16287', '10294', '6336', '11915', '23943', '26091', '14295', '21717,92', '2135,14', '3276', '13374', '8960', '17215', '15732', '7346', '7410', '7558', '4581,87', '39729', '49227', '3203', '13104', '27545', '64300', '27744', '11042', '2680,4', '37666', '12230', '7585', '8856', '25700', '3495', '26370', '8603', '20080', '9804', '9830', '37177', '7455', '24219', '2540', '6105', '8138', '19960', '11275', '24228', '9450', '6194,7', '3134', '6238', '18207', '14669', '19798', '15552', '10593', '2974,15', '31399', '13490,91', '18631', '29206', '6558', '4230', '5450', '33316', '23128', '4780', '23397', '15699', '4994', '45274', '4767', '7471', '10989', '3430', '9230,04', '7664', '18810', '28398', '4673', '40455', '14872', '21847', '8054', '14842', '3390,2', '24565', '26865', '8217', '12384', '4905', '15790', '4818', '4140', '5507', '22032', '4329', '17039,91', '12628,91', '29661', '16781', '22990', '6181,09', '5660', '9999', '31404', '29880', '2650', '3142', '30735', '31955', '13065', '34500', '14475', '29788', '19959', '32280', '28010', '21589,9', '15480', '4598,6', '6272', '18714', '28208', '18426', '20565', '28050', '4821', '7113', '15299', '21286,1', '17497', '10844', '9910', '25965', '11188,14', '44500', '5931,8', '25539', '13133', '3737', '9040', '13336', '9706', '16810', '26950', '21920', '75587', '7965', '4440', '5687', '20587', '7600', '9504', '28041', '13382', '21597', '22068', '9648', '55846', '6869', '16145', '14020', '5149', '2490,92', '11190', '20252', '33126', '20340', '3245', '16596', '13933', '11182', '14711', '65250', '24510', '22005', '35165', '16964', '12590,1', '34341,2', '4040', '15927', '6435', '11159', '24080', '33830', '24000', '19419', '23563', '9444', '3476', '11999,99', '17137', '6127', '10480', '6525', '10803,84', '28160', '8006,1', '17568,3', '33434', '32041', '13098', '19360', '4390,92', '47100', '22300', '22235', '17339', '14361', '13520', '9672', '7469', '17946', '10914', '6903', '9456', '2696', '31491', '23760', '19267', '9125', '5388', '12537', '3651', '19521', '5524', '7655', '22413', '8169,55', '28689', '35340', '15579', '4758', '21654', '17093', '50500', '9116', '4998', '16407', '21009', '19780', '12606', '7217,1', '41500', '2620', '23750', '13749', '13810', '4209,2', '48150', '21062', '18576,8', '3639', '31091', '12510', '8729', '3717,9', '15488', '10110', '18040', '7369', '21237', '14773', '31255', '29898', '10169', '9989,92', '20751', '19620', '10047', '14650', '37800', '20053', '3854', '9019', '13200', '20519', '19295', '10429', '21355', '3945', '5995', '18707,1', '5185', '7679', '15350', '9799', '6373', '43195', '36617', '25151', '4637', '16422', '40480', '17461', '5238', '6188', '20060', '21994,73', '25148', '35500', '6380', '19162', '15036,21', '29630', '5190', '37710', '10479', '13170', '20310', '31817,2', '6470,9', '16542', '19648', '25775', '22125', '11687', '8148', '5359', '6650', '18152', '32828', '16908', '58086', '4360', '9233', '2255,4', '36910', '7240', '6135', '6393', '11081,52', '22323', '10805', '19891', '10231', '6863', '26720', '10635', '7589', '17680', '7473,3', '14580', '14196', '8835', '39780', '5834,52', '20980', '16627', '12531,94', '4843', '13941', '8899', '14952,2', '12377', '52864', '5390', '6365', '30826', '24649,2', '10019', '16290', '14609', '21698,4', '9774', '18500,8', '17100', '4176', '21600', '4187', '5576', '8169', '6100', '16660', '13021', '45438', '23798', '5478', '10174', '13989,94', '21160', '12111', '19037,2', '5019', '15450', '7605', '11697', '7128', '15860', '18962', '30987', '19993,4', '4952', '28296,6', '28790,94', '8478', '7173', '14175', '2460', '11972', '20326', '5242,3', '11126', '18561', '16436', '16403', '8549,1', '11247', '15843', '10610', '23358', '9707', '16218', '8033', '7210', '9212', '21399', '8818', '22830', '6138', '17459', '5607', '7739', '18530', '19934', '12713', '11371', '5763', '13999', '6348', '16455', '19341,2', '2341', '11060', '10580', '25287', '6514', '13325', '12390', '5451', '25356', '15075', '26120', '26241,6', '6781', '14717', '24778', '29395', '9955', '10298', '27599', '37233', '26890', '16979', '3589', '27005,1', '14514', '29410', '21809', '18789', '25639', '18126', '12695', '15800', '9264,69', '4525', '14454', '12396', '16870', '24923', '15434,3', '17366', '6682', '11646', '6499,2', '39028', '18910', '24914,84', '29160', '31294', '16198', '5571', '28998', '10445', '13709', '10431', '17112', '11431', '18176', '21340', '9866', '2054', '9614', '9988', '22340', '37017', '14420', '5351', '6328', '12200', '33990', '10840', '44255', '7902', '8694', '4759,6', '7247', '9862', '2240', '31474', '30918', '2947', '61000', '6840', '25904', '6710', '15050', '18917', '30954', '27213', '7795', '5465,26', '20242', '17789', '10420', '21338', '28116', '18374', '6116', '7667', '25899', '10092', '30490', '26479', '32955', '10945', '6191', '56319', '16916', '4086', '37489', '3918', '4292', '24741', '16621', '18304', '38592', '18140', '22280', '7348', '5745', '24290', '6725', '6570', '6854', '2835,15', '21921', '98644', '9057', '5692', '6654', '8150', '5154', '28083', '2248', '8295', '20748', '30681', '9555', '2450', '33720', '23840', '22792', '25598', '3540', '7707', '3584,1', '10457', '7540', '6433', '19842', '25050', '4860', '19795', '26055', '3666', '3108', '23706', '5650', '27022', '30344', '12490,2', '22880', '5813', '9140', '9323,93', '4240,91', '2476', '19550', '28933', '8047', '19525', '5310', '11519,1', '26395', '6510', '15367', '5376', '23268', '11000', '18022', '12686', '2820', '18553', '32450', '18750', '2699', '20069', '11048'}\n",
      "\n",
      "FST_PAYMENT\n",
      "{'11597', '19950', '1355', '39400', '2580', '336', '4490', '15320', '12050', '2099,85', '2346', '6750', '765', '1659', '3400,1', '3743,37', '2737', '2166', '2930', '5817', '1366,05', '209', '1271,1', '3603', '4048', '3600', '2651', '1091', '676,8', '4076', '16800', '2874', '5396', '3392', '9498', '50', '13536', '1458', '783', '1918', '1731,9', '7534', '4053', '1477', '5710', '7582', '4348', '5560', '14600', '2357', '269', '1361', '4593', '1322', '20550', '1039', '5620', '6543', '5400', '5746', '406', '357,8', '3294', '3194', '511', '5845', '2728', '6700', '2560', '9288', '1937', '2532', '1997', '5761', '735', '285', '47355', '1296', '2799,8', '4798', '26550', '3690', '3290', '8480', '1433', '4680', '987', '5718', '558', '3298,92', '14000', '217,5', '18850', '9270', '9539,91', '5380', '1119', '50190', '5925', '13100', '1378', '9300', '405', '4653', '2770', '2538', '2247', '1488', '7858', '2715', '18650', '6813', '6407', '509,3', '1190,95', '1294', '4378', '9990', '5825', '1451', '1016', '445', '3116', '3164', '561', '4256', '16100', '1392,4', '4210', '1028', '7514', '49582', '9362,28', '16500', '7989', '1051,1', '2845', '4315', '2000,91', '1162', '5000,92', '7490', '3073,8', '820', '6290', '933', '18589', '14855', '499', '5044', '4239', '2014', '1381', '240,6', '422,1', '2397', '3010', '13950', '5061', '2335', '7882', '2480', '669,3', '2643', '2685', '6250', '1093,4', '44303', '1399,8', '52182', '747', '3245,95', '5894', '3145', '5245', '6317', '1174', '43500', '714,85', '1834', '3687,5', '3081', '1049', '40000', '4050', '14779', '5000,91', '3212', '7272', '1197', '799', '2064,91', '9457', '2571', '23950', '5277', '1672', '4989,92', '3713', '1204', '8751', '8059', '2980', '3295', '4162', '608', '7040,2', '3278,9', '5923', '4710', '4090', '5260', '2716', '513', '345', '1043', '2009', '4011', '11660', '2000,8', '1670', '2999,92', '7280', '13776', '2316', '1703', '10460', '8210', '2910', '15200', '1556,8', '323,1', '468', '1224', '3088', '13510', '2340', '906', '180', '2140', '3710', '12150', '4328', '5116', '7000,5', '1500,95', '3337', '41300', '1252', '1249', '7271', '6000', '6509', '553,6', '1972', '5341', '2814', '704', '1216,85', '7744', '10147', '7519,6', '8495', '2424', '11292', '5690', '903', '7961,49', '3120', '9574', '10046', '5050', '2834', '7764', '1408', '400', '10619', '2984', '3318', '4319', '658', '3209', '812', '3482', '9272', '1964', '1767', '3185', '3090', '4640', '2968', '1018,5', '1166', '6948', '4660', '3951', '2039', '1360', '2283', '1399,7', '273', '16300', '1776', '13700', '7749', '9770', '15670', '3105,06', '2201', '1290', '1256', '799,92', '3702', '15850', '1122', '604', '3000,05', '2047', '3885', '769', '9425', '8000', '448,5', '10015', '8390', '28000', '1700,95', '241', '10599', '4752', '7633', '2442', '20608', '59066', '2811', '2189,9', '9800', '781', '1962', '2099', '292,2', '1639', '1414', '5207', '3117', '5078', '10557', '568', '9058', '3000,2', '1566', '5283', '4439', '1080', '537', '3228', '749', '3310', '4993', '2405,69', '309', '1304', '1335', '1930', '8235', '3463', '3371', '311', '7325', '3636', '145', '4575', '247', '49200', '1007', '1634', '2923,35', '3303', '10502', '7133', '3950', '10650', '2220', '611', '11924', '1850', '4694', '10325', '11288', '823', '4770', '641', '1279,9', '2207', '600,9', '393', '534,1', '1698', '9100', '1519', '2156', '828', '12948', '23800', '3442', '972', '10719', '750', '713', '363,5', '30791', '3334', '1599', '3275', '1299', '3171', '369', '1563', '5980', '3752', '351', '4502', '1266', '4590', '332', '6907', '9833', '4287', '1784,81', '8903', '1126', '2499', '690', '3358', '3311', '19150', '1077', '2973', '3503', '3350', '247,2', '5562', '843', '8200', '510,9', '5045', '947', '597', '429', '500,95', '11150', '8680', '464', '745,5', '1680,82', '3398', '17669', '3016', '6000,81', '2988', '2769,27', '9760', '8530', '33665', '2700', '2877', '3055', '559', '1230', '8064', '1009', '2975', '7049', '1499', '2176,49', '1657', '2092,94', '3489', '1180', '7794,92', '833', '3530', '3656', '4000,2', '10240', '3364', '7116', '5653', '2096', '3006', '10031', '510', '3190', '2358', '11528', '9103', '5273', '1996', '6399,9', '60635', '554,4', '6481,31', '638,7', '5398,1', '1121', '34676,51', '9533', '3095', '3025', '2588', '20645', '811', '419', '4856', '872', '480,9', '10960', '3499,8', '3656,49', '230', '10527', '2098', '1042', '10255', '5460', '3172', '2469', '715', '1949', '564', '13681', '1021', '8923', '1101', '1654', '2700,75', '49337', '7359', '2572', '5375', '3494', '1487', '1104', '2080', '2420', '2250', '509', '1047,82', '1067', '2321', '3498', '9350,95', '4250', '4268,72', '12220', '39487', '1328', '12015', '3500', '4353', '579', '1798,82', '730', '3394', '25370', '1717', '438', '404,1', '3036', '4690', '1501', '4546,8', '1647', '2470', '2073', '3098,88', '721', '45200', '1549', '3984', '1096', '708', '3570', '9721', '10000,92', '2999,91', '584', '1364', '2815', '12420', '2270', '1107', '2121', '20810', '46832', '130', '2830', '6295', '1591', '12800', '10060', '4100', '2239', '1695', '3000,5', '639', '373', '10980', '2865', '1877', '7586', '298', '4507,34', '1517', '9639', '10026', '7300', '4198', '1876', '5999,85', '9016', '3414', '2325', '314,5', '620', '4263', '6848', '360', '2067', '3560', '1616,47', '3505,4', '7098,5', '15675', '4060', '11076', '508', '1200,8', '1292', '1235', '3559', '1927', '8010', '1200,2', '481,8', '2375', '5753', '3604', '28500', '11300', '3391', '7630', '2125', '2690', '3187,74', '2256', '43480', '18719', '1135', '1749', '3133', '26410', '5700', '41774', '900,2', '6835', '883', '18375', '5000,95', '692', '22799,2', '6975', '1884', '1699', '2029', '3569', '8986', '3920', '485,8', '1069', '1143', '770', '1265', '5005', '4457,5', '12700', '8100', '3584', '2745', '2300', '11962', '470', '3621,7', '1825', '8331', '5150', '250,6', '8750', '12562', '514,6', '1022', '1796,94', '2223', '3270,7', '668,71', '3250', '2200,91', '10000,2', '1717,92', '2105', '948', '1105', '855', '3435', '999,2', '955', '984', '1580', '6719', '1339,9', '12211', '3699', '11898', '1677', '3568', '956', '11090', '6675', '177', '1465', '2613', '1219', '3418', '2319', '2412', '57300', '7095', '901', '2595', '9528', '490', '714', '2032', '1457', '1423,89', '40100', '3800,2', '764', '7148,1', '799,5', '4498,91', '1914', '1847', '1640', '2095', '9904', '2248,1', '12110', '1999,2', '2472,5', '1791', '13290', '366', '1312', '4142', '1273', '733', '1669', '571', '4710,4', '780', '4014', '1512', '11020', '1131', '3119', '2265', '9619', '1386', '8130', '3241', '5750', '1920', '1889', '5025', '14281', '1747', '4267', '1120', '10486', '195', '4190', '1620', '2901,6', '7953', '3605', '1849,8', '1935', '16086', '17235', '8499', '675,3', '5631', '1050,33', '9235', '4220', '4757', '12999', '1176', '613', '439', '2088', '9418', '1410', '8389', '5500', '7243', '1524', '6005,5', '2515', '1306', '686', '1247', '1908,9', '11050', '8916', '6094', '436', '2826', '1567', '485,2', '1702', '3740', '410', '920', '60360', '2500', '17000', '496', '60245', '4300', '3524', '2467', '24900', '9050', '5767', '3100', '2843', '975', '5342,94', '832', '2415', '4580', '1181', '9824', '0,95', '12334', '14970', '280', '5125', '1295', '2848', '1437', '2187,5', '3', '1670,69', '9630', '3639,5', '5838', '782', '10434', '2643,88', '6050', '4991,92', '223,2', '7110', '9169', '1588', '1574', '4880', '37000', '2481', '1883', '2028', '4399', '1241,2', '8945', '15600', '45309', '2900,5', '5722,21', '5611', '5247', '2123', '3015', '3200', '1310,62', '2846', '5177', '2840', '3330', '6794', '1597', '4858,99', '1500,5', '2200,05', '2106', '3640', '2859', '4559', '1936', '14940', '1557', '248', '6703', '2419', '5662', '60432', '346', '48156,13', '851', '945', '1324', '2022', '1722', '2717', '16050', '11230', '1590', '3328', '6002', '748', '818,4', '568,7', '2142', '4167', '1547', '2155', '2086', '1529', '3380', '15886', '61151', '2078', '4310', '652', '3357', '1724', '234', '0,94', '3223', '42518', '2864', '2339', '7443', '9602', '1415', '305', '3999', '2981', '10795', '4913', '11400', '9922', '582', '1268', '1696', '522', '386', '301', '1148', '4925', '1648', '2213', '1608', '4108', '279', '6387', '7631', '1824', '2985', '2228', '5974,22', '837,91', '4775', '3333', '808', '7477', '4527', '1177', '1771', '1077,86', '1750', '1495', '1196', '2880', '12144,42', '3315', '5143', '804,5', '13060', '2390', '1809', '1275', '1999,8', '4986,5', '5640', '780,3', '2199', '7421', '12380', '16657', '2398', '10469', '413,95', '838', '6820', '6169,98', '363,8', '7531', '3000,68', '1688', '57254', '1584', '11362', '677,25', '4434', '7140', '1053', '3002', '353', '7805', '63213', '3069', '5070', '877', '6510,2', '523,83', '2280', '1240', '4869', '2188', '14190', '696', '2399', '2653', '457,5', '446,88', '3320', '1915', '1636', '4636,37', '32000', '7100', '1493', '1928', '1462', '979,5', '7238,86', '427', '327', '2044', '616', '5000,1', '533', '7034', '2458', '3763', '635,2', '577', '2849', '1551', '541', '6875', '1638', '2131', '2958', '3759', '5609', '4937', '2488', '11116', '982', '4476', '1615', '2499,86', '55000', '1004,2', '10008', '11104', '8920', '4919', '2688', '2587', '756', '13526', '3403', '1297', '1100', '895', '2100', '1648,5', '1390', '999', '6641', '1786,9', '7174,87', '1873', '1880', '2329', '844', '1752', '1400,95', '2383', '4098', '1360,92', '22097,99', '23691', '3007', '75570', '4700,6', '2209,5', '1969', '1084', '9685', '2400,5', '19730', '5873', '3274,02', '159', '17408', '36222', '3046', '1459', '1539', '753,23', '7900', '2355', '3180', '3110', '626', '468,1', '4715', '2279', '5900', '637,3', '11600', '10140', '485', '265', '3063', '966', '434', '6239', '592', '8244', '500,41', '413', '2746,92', '1347', '3930', '9592', '1890', '389', '4175', '4619', '58800', '4806', '9699,69', '1106', '1902', '1309', '3135', '1449', '8540', '677,5', '1739,69', '2547', '365', '12358', '3094', '2001', '1011', '2210', '2647', '3804', '15900', '930', '3264', '3339', '475,1', '2299', '2094', '1500,2', '3078', '2178', '7394', '5800', '28257', '3976,32', '753', '3253', '54080', '11548', '8816', '1141', '9907', '5735', '26922', '1331,78', '910', '3619', '1727', '3846', '1921', '5790', '356,1', '49356', '53598', '245,6', '2330', '16750', '9000', '3186', '2019,95', '4131', '9520', '2649', '7541', '687,7', '7535', '3795', '9445,95', '20000,02', '5306', '1376', '2504', '7945', '5740', '395', '7913', '2855', '60530', '18735', '702', '6068', '4600', '1768', '430', '10090', '4185', '3288', '6130', '623,42', '6526', '3298', '22710', '4739', '23700', '3199', '2380', '1504', '7431', '5780', '958', '2130', '804', '2503', '9890', '1002', '725', '712', '722', '70940', '3750', '22000', '261', '7495', '11900', '970', '2315', '6890', '290', '20000,91', '444,1', '935', '16000', '3800', '695', '2720', '31800', '4725', '3946', '4666', '5550', '554', '250', '2725,68', '10759', '523,4', '3351', '100000', '763', '2175', '5000,8', '9039', '6712', '673,91', '9068', '48500', '3948', '1690', '1246', '555,2', '10525', '2964', '1679,67', '20235', '6554', '678,03', '6491', '3440', '7670', '3030', '2819', '6534', '3597', '3812,6', '344,8', '2835', '1730', '1763', '254', '4403', '3099', '320', '6991', '544', '3126', '2578,8', '1708', '3598', '7137', '1000,2', '1167', '440,1', '1956,37', '623', '3838', '1374', '1700,91', '3997', '2433', '3284', '4617', '2772', '440', '912', '3749,74', '380', '525', '1213', '9110', '2609', '8250', '1777,91', '1058', '1149', '2812', '7312', '375,2', '4983,2', '30660', '737', '8800', '2593', '18590', '3516', '2052', '10482', '746', '3159,86', '2365', '10550', '950,92', '2751', '5792', '6832', '1079', '2569', '8491', '7385', '778,72', '768', '1849', '18447,2', '601', '8099', '1216', '13177', '4007', '2870', '258', '1481', '2152', '758,3', '4464', '937', '2938', '12815', '1178', '2635', '1651', '387', '5280', '38000', '4746', '12910', '338', '6646,5', '989', '1122,3', '1743', '1930,94', '19990', '567,3', '19470', '6160', '3903,31', '1788', '5598,92', '2898', '3159', '518', '47000', '8040', '25599', '879', '9472', '1356,4', '13818', '13395', '12600', '6717', '45451', '4702', '3670', '7780', '2901', '1513', '1655', '371', '7400', '3169', '599,95', '634,2', '734', '1255,41', '5504', '13580', '2645', '413,1', '1603', '7481,98', '1030', '48052,1', '4270', '4498,5', '634', '1528', '2500,4', '4815', '1115', '2955,03', '1689', '3960', '3000,92', '2925', '1289', '110', '227,5', '13488', '663', '5521', '1082', '2510', '2170', '11762,27', '1821', '11044', '1356', '3252,72', '18500', '1486', '3136', '3387', '16600', '75606', '1102', '700', '2799', '2129', '687', '9835', '1136,8', '2010', '7745', '4990', '337', '4155', '45600', '2016', '2546', '3685', '2215', '516', '449', '1622', '41000', '5850', '5600', '1515', '1450', '1745', '3160', '1149,5', '1556', '653', '1269', '6598', '1999,92', '4950', '16400', '1392', '2604', '2763', '1010', '3255', '2278', '3850', '4550', '15672', '6519', '1610', '846', '1379', '12012', '5320', '2892', '2555', '5547', '34776', '3724', '4453', '1682', '14760', '542', '3426', '834', '33590', '4565', '1110', '1329', '2698', '25405', '3782', '1397', '3100,3', '918', '3718,2', '448,9', '1379,4', '60000', '1085', '5134', '1321,5', '5985', '5874,6', '8164', '26090', '917', '6370', '585', '4887', '249', '1348', '3084', '2960', '1136', '48800', '1831', '492', '1515,7', '1823', '2860', '4488', '2755', '2522', '14614', '2686', '2211', '21696', '21839', '17500', '772,3', '2008', '2135', '2997', '323,25', '54000', '4289', '2185', '446,4', '2692', '868', '1876,25', '1564', '7584', '5989', '2026', '3014', '20890', '1720', '259', '6371', '410,4', '422', '6016', '147', '3370', '5023', '1841,91', '824', '1839', '6402', '3246', '5984', '3704', '1436', '2772,13', '9391', '415', '4597', '44305', '53310', '2803', '9923', '717,2', '842', '645', '555', '4916', '124', '1990', '3075,87', '1423', '5268', '19356', '1968', '549', '724', '2879', '3270', '2062,5', '2781', '1099,9', '10512', '9838', '5275', '697', '519', '1545', '3022', '1472,75', '973', '3219', '1600,4', '1109', '502', '890', '5942', '998', '2887', '6670', '4052', '9749', '852,2', '205', '1239', '3293', '13807', '695,2', '1897', '5472', '1220', '3774', '886', '8188', '5305', '2816', '3214', '409', '4999', '10729', '1159', '9411', '1393', '1420', '6777', '11221,5', '1523', '1330', '1869', '362', '6837', '6000,47', '1866,6', '3096', '9530', '1715', '4692', '3616', '2690,92', '530', '1092', '119', '9790', '260,1', '3000,85', '68500', '3836', '4517', '680', '1738,2', '560', '5366', '16250', '706', '3902', '1645', '471', '1301', '1555', '3173', '16200', '13710', '1693', '1454', '251,1', '3916', '2778', '10425', '10725', '3208', '1773', '814,2', '10766', '755', '9200', '376,21', '1989', '524', '5578', '941', '53530', '633', '5198', '2036', '7174,56', '538', '17610', '20644', '567', '2585', '4082', '329', '5999', '7125', '2880,1', '1089,5', '6115', '2347', '1099', '855,9', '2630', '1800,28', '5100', '2570', '5517', '2324', '5036', '12088', '43359', '12251', '3202', '795', '776', '299,1', '1147,9', '978', '1626,5', '5056', '2785', '39600', '2356', '2457,9', '1560', '1004', '2800', '3658', '3877,51', '614', '4996', '909', '3060', '655', '669,2', '6350', '6230', '10673', '13140', '21900', '2670', '1368', '9568', '7118', '2425', '6437', '2060', '2168', '852', '1340,92', '1987', '2230', '1779', '3224', '388', '2084', '1778', '2625', '3020', '800,1', '296,8', '1111', '2674', '9898', '8941', '528', '1574,1', '340', '1479', '5760', '2616', '3445', '1251', '505', '515,85', '2614', '557', '7669', '1800,2', '1703,2', '1020', '4700', '16293', '6532', '9264', '1947', '1568', '2490,95', '8500', '5350', '1233', '1432', '12335', '3840', '787', '2650,92', '1050,4', '299', '3779', '1094', '3141', '805', '1201', '1210,51', '5747', '1257', '1948,92', '679', '5870', '3880', '997', '100,91', '1503', '1055', '2031', '7298', '6228', '960', '754', '1875', '3157', '9750', '2231', '600', '3064', '51127', '20879', '1291', '3009,25', '3233,55', '5240', '1064,2', '1337', '1163', '2599', '7185', '1151', '2708', '1249,95', '4444', '20300', '6156', '489', '1760', '3028', '542,2', '1938', '4033,93', '527', '1665', '649', '1045', '1286', '4522', '2299,8', '1957', '869', '774', '17110', '11170', '5290', '480', '780,1', '39000', '1008', '13792', '11233', '2090', '1581', '1900', '2508', '34236,65', '1820', '2942', '3606', '793', '458', '6075', '1960', '3000,55', '1438', '9845', '2091', '4650', '11890', '2257,11', '583', '16740', '21094', '2429', '5000,2', '963', '2545', '9245', '2920', '9257,3', '8650,48', '36730', '4139,36', '5730', '20516', '1829', '716', '76157', '3480', '2807', '32750', '5994', '891,4', '900', '754,2', '4846,96', '10205,5', '2271', '24800', '7230', '8400', '1681', '75492', '2420,1', '1492', '999,4', '3485', '657', '2327', '1169,3', '1550', '3205', '4395', '562', '4830', '8820', '7205', '5296', '7740', '4157', '9650', '479,8', '10700', '4620', '4551', '19650', '138', '2027,7', '7578', '6499', '9600', '17814,4', '615,4', '2235', '3669,6', '1572', '1837', '3449', '40664', '1190', '2954', '6448', '10160', '1596', '1200', '168', '2364', '3644', '2602,3', '1400', '6513', '311,73', '1444', '850', '995', '965,92', '14420', '1571', '3484', '681', '4000,61', '8688', '794', '335,2', '495', '5385', '2000', '5097', '50132', '10796', '9995', '2852', '6933', '830', '11754', '2516', '3240', '5950', '1078,6', '10777', '473', '880', '305,1', '39910', '8445', '420', '2145', '10340', '6629', '3890', '13750', '260', '2046', '1666', '9570', '4645', '888', '48696', '1992', '2520', '1798', '20595', '2375,68', '3450', '2287', '720', '6500', '8349', '1780', '599', '1866', '588', '2850', '9730', '6923', '1692', '10347', '929', '10000,1', '18080', '1710', '5075,84', '3425', '3739', '1435', '397,7', '4570', '489,86', '25000', '3595', '1419', '1023', '1015', '1383', '18000', '1406', '1822', '12468', '1685', '2574', '3790', '9996', '10723', '350', '15521', '9096', '2118', '2659', '7360', '381', '1400,1', '1300,92', '231', '2116,57', '7700', '873', '7250', '11440', '1125', '1238', '8734', '1827', '11790', '1800,1', '1169', '5382', '18256', '4070', '8790', '1125,3', '1113', '2934', '2966,2', '4200', '8078', '3433,2', '2000,79', '15240', '1066', '4447', '1293', '2530', '10603', '225', '5802', '943', '5784', '1305', '114', '9746', '691', '1353', '1365', '4520', '3703', '1442', '3745', '1625,2', '9130', '1270', '2198', '2678', '2885', '3907', '1195', '4953', '2000,95', '1443', '21010', '11522', '4283', '4401', '4150', '10950', '399', '300', '6952', '2940', '685', '230,3', '4410', '1112', '565', '745', '316', '7555', '1290,6', '2800,2', '5168', '1324,96', '6792', '347,6', '7500', '3900', '6950', '2478', '718', '648', '455', '1474,3', '3277', '6400', '5160', '29640', '2656,4', '1189', '1890,5', '3679', '6470', '1956', '31350', '4000,92', '10706', '694', '816', '8522,2', '10516', '1224,75', '2115', '830,6', '1063', '537,85', '4523', '10095', '6860', '447', '46200', '3787', '1628', '2500,2', '4749', '1373', '2680', '3599', '1017', '3677', '2400,1', '6541', '4202', '6901', '11425,8', '3031', '8964', '8000,91', '1994', '1351', '7800', '1808', '4828', '176', '5978', '32348', '11200', '2970', '19400', '2596', '3490', '4341', '1500,92', '2041', '4340', '3356', '404', '1899,1', '2923', '50872', '2006', '1842', '5028', '678,2', '2384', '2160', '1540,84', '742', '3815', '1469', '1327', '9037', '8640', '7553', '1302', '1129', '1578', '1619,95', '7170', '7420', '627', '5786', '2888', '3980', '2177', '5534', '6033', '571,3', '4400', '531', '3765', '14168', '44000', '50120', '874', '4720', '2205', '3562,94', '2553', '1535', '7019', '2070', '3124', '443', '71000', '10630', '6294', '3000,95', '1995', '825', '10177', '1065', '1264', '6882', '379', '1719', '1285', '2114', '4244', '3720', '8442', '1561', '1254', '4274', '651', '2004', '660', '10750', '3155', '4055', '6603', '7270', '2042', '4851', '1225', '120', '777', '672', '14400', '1029,41', '4132', '0,9', '29032', '3596', '57280', '313', '12834', '4000,9', '2079,02', '401', '3131', '24500', '4194,3', '3018', '2990', '1740', '2403', '2183', '6980', '625', '1190,9', '2899', '9375', '368', '2180', '30303', '9663', '3282', '387,6', '4195', '9700', '1248', '8608', '698', '2989', '317', '1029', '9330', '3462', '66000', '6007', '1899,9', '4968', '1497', '1841', '3230', '1950', '4900', '1726', '2660', '5928', '1585', '2000,7', '1522', '578', '14385', '3500,6', '354', '276', '673,5', '1498', '10350', '1359', '90', '919', '10752', '1970', '4363', '1116', '6390', '751', '9784', '1924', '6300', '522,4', '11860', '4364', '5596', '3820', '4104', '1507', '2698,93', '6957', '4186,59', '2167', '1345', '5554', '1635', '2753', '4080', '2950', '598', '1075', '5744,5', '2204', '6990', '1704', '8115', '2040', '8120', '1031', '1973', '2698,89', '10041', '38650', '644', '11850', '484,5', '7507', '4515', '4560', '65000', '423', '10397', '2825,5', '646,5', '574', '1313', '1179', '1991', '7107', '6320', '788', '355', '3977', '1322,9', '2937', '4000,22', '21750', '2518', '728', '3580', '1130', '11080', '197', '2197', '3660', '1222', '1806', '1150', '29590', '3003,3', '2473', '2076', '1482', '2728,91', '3901', '3995,98', '3538,92', '10800', '4325', '1303', '2186', '2363', '2119', '2206', '2345', '3260', '3511', '9398', '2980,5', '7244', '16757,97', '4430', '18290', '5038', '23900', '1807', '8870', '9500', '10270', '21000', '3206,83', '20460', '240', '14133', '810', '921', '2314', '29500', '448', '4823', '4712', '1965', '38200', '457', '4536', '606,2', '48910', '31000', '717,1', '3215', '3416', '500,3', '41760', '2326', '3810', '752', '1905', '2268', '3556,4', '9664', '1160', '19151', '1453', '15500', '2949', '1274', '1933', '3115', '297', '2349,6', '451', '6929', '375', '7464', '1660', '9900', '596', '10098', '3864', '797', '56680', '11700', '14427', '37400', '507', '26400', '612', '3830', '8110', '0', '644,6', '2528', '732', '25089', '7950', '20561', '534', '1394', '8300', '5112', '402', '2915', '8222', '4320', '2000,6', '2241', '425,4', '9975', '22940', '2805', '2655', '5463', '729', '1874,7', '638', '306', '13519', '5250', '959,3', '6999', '3114', '472,68', '2723', '2464', '6109', '696,1', '1863', '3622', '29327', '6396', '1803', '1072', '3898', '3198', '4686', '876', '8656', '1000,92', '890,92', '1511', '16000,1', '6000,92', '1398,9', '1977', '1759', '2667', '4398', '54470', '8618', '708,5', '3502', '5145', '5847', '1046', '1147', '9248', '7395', '412,1', '1362', '3510', '3550', '10120', '3235', '8934', '1384', '1490', '1179,6', '1051', '11500', '898', '2400', '5192', '3670,2', '11673', '1948,2', '837', '2360', '1071', '4949', '3492', '2499,8', '10497', '4181', '5714', '7860', '2909', '4188', '10030', '2352', '4197', '1579', '1000,89', '55600', '385,3', '9964', '210', '3969', '3236', '15939', '33694', '508,79', '606', '858', '3104', '2331', '12460', '449,1', '1731', '14935', '3360', '929,1', '13660', '27600', '10227,2', '1056', '3760', '1441', '2749', '41830', '3086', '7165', '2286', '35000', '11768', '14300', '3210', '3990', '7569', '1099,1', '324', '9874', '2157', '2498', '13670', '1738', '2253', '446,05', '3130', '9576', '4750', '1789', '1871,75', '8263', '51364', '1005', '2373', '411', '950', '3957', '6200', '4240', '6257', '2189', '3460', '650,95', '10260', '4260', '280,5', '228', '8180', '673', '762', '2704', '4850,8', '3385', '2568', '1358', '46169,2', '2998,5', '3270,82', '6092', '1068', '1543', '1288', '1284', '1769', '15009', '1548', '3630', '54230', '5244', '8113', '2263', '786', '3265', '5999,2', '2439', '2861', '150', '7623,3', '15000,92', '3225', '2406', '9020', '1940', '3602', '39804', '9754', '1025', '2668', '10507', '1142', '1000', '2890', '3340', '3518', '677', '229,5', '12300', '9979', '868,83', '2045', '11580', '3537', '1491', '8600', '10410', '977', '1855', '1318', '36220', '7398', '29860', '2916', '3324', '771', '670', '2584', '2999,6', '2149', '22400', '665', '10900', '5081', '3698', '3285', '475', '5860', '1472', '4850', '1343', '2050', '2179', '1064', '6222,48', '4800', '3711', '1152', '5506', '1999,94', '2514', '1341', '2697', '56670', '5300', '4870', '10267', '7880', '1912', '1530', '535', '1139', '2592', '3420', '10051', '740', '2233', '2500,95', '2505', '13398', '479', '11065', '1860,9', '4110', '5334', '2621,78', '1165', '9480', '12520', '925', '7506', '2444', '1675', '1101,1', '2025', '1650,3', '4865', '2790', '14440', '28495', '2490', '1047', '3211', '878', '8650', '3448', '3534', '848', '690,95', '4472', '7149', '4030', '16515', '2020', '1478', '44980', '1178,18', '3650', '7999', '7720', '2703', '1540', '3100,1', '1267', '4000,94', '2350', '4450', '9490', '2776', '628', '29000', '1814', '705', '952', '13613', '1278', '213', '1000,95', '1103,85', '8731,48', '15680', '1500', '2605', '337,1', '4475', '8361', '4018', '5920,65', '1650', '14753', '3043', '6844', '4027', '2328', '498,6', '10695', '328', '3213', '758', '2190', '11490', '1829,43', '10001,11', '622', '988,9', '773', '229', '6000,95', '3776', '3089', '8000,2', '99', '2063', '14500', '4106', '51929', '7547,8', '36500', '3000,94', '5440', '7796', '4352,37', '2999', '738', '4005', '4768', '1048', '3650,1', '1679', '1070', '4499', '3890,92', '2448', '5140', '578,1', '2468', '7889', '19924', '4359', '2348', '4709', '424', '418', '3477,91', '11078', '12100', '16668,82', '1885', '10', '9788', '5373', '7845', '1090', '21650', '5022', '2775', '3346', '4304', '709', '2219', '14322', '2878', '100', '1872', '8205', '5108', '10515', '389,94', '9467', '1813', '813', '1171', '818', '27000', '545', '7698', '2911', '23430,69', '378', '1059', '949', '364', '815', '2590', '2561', '648,28', '377', '6945', '1910', '688,86', '936', '2810', '3072,03', '2769', '13360', '4948', '1198', '1245', '2288', '1922', '26802', '7249', '1835', '6217', '25300', '8328', '1108', '3397', '11498', '10400', '4706', '5461,11', '2387', '481', '5705', '1411', '3251', '5530', '5360', '1786', '928', '30000', '1819', '8423', '47350', '10696', '2285', '4767,2', '54910', '894', '678', '3678', '7883', '1003', '1155', '1475', '18840', '5979', '283', '4510', '729,1', '1805', '34492', '435', '1577', '1000,1', '1395', '12250', '4876', '49500', '1331', '1737', '2952', '985', '2275', '4342', '2000,1', '53370', '659', '7261', '7747', '1123', '845', '1057', '2237', '1649', '56638', '3097,8', '6958', '2689', '7480', '3175', '26565', '10007', '334', '2338', '5340', '5030', '2900', '5594', '5990', '2798', '1901', '1244,7', '669', '13184', '1192', '1382', '547', '3700', '1320', '586', '1881', '962', '1276,8', '699', '4390', '6398', '10299', '1233,2', '1621', '3150', '50642', '3308', '2062', '2159', '323', '2440', '339', '4199', '1512,1', '2531', '9190', '2030', '10230', '3249', '7352', '7124', '5655', '3045', '553', '49038', '2517', '720,2', '2549', '6495', '17930', '71999', '239', '3369', '5580', '14221', '3822', '6240', '571,5', '5148', '21500', '6575', '1279', '2132', '2134,6', '723', '7967', '6646', '6000,1', '4587', '512', '3374', '289', '726', '7836', '2353', '643,7', '1439', '10136', '981', '9871', '293', '2369', '10200', '1440', '2455', '867', '1575', '23000', '3547', '1888', '1417', '5940', '7019,7', '4184', '383', '532', '863', '10807', '3261', '303', '65481', '1460', '630,5', '3995', '9254', '654', '2796', '3318,4', '4482', '6450', '854', '2379', '3061,6', '7995', '12148', '3305', '1250', '242', '4742', '2484', '3335', '53900', '573', '2784', '6599', '2310', '4992', '4045', '43000', '10050', '2477', '2055', '6307', '299,92', '10089', '11027', '4095', '1712', '3266', '2259', '2485', '3059', '974', '630', '4233', '5812', '5361', '7520', '7160', '3799', '450', '416', '407', '11024', '2949,7', '3252', '710', '857', '56328', '1606', '452,1', '1751', '3926', '15140', '1089', '1182', '20000', '1199', '1035', '5902', '1812', '416,3', '276,6', '3780', '3277,5', '6297', '23489', '637,4', '1140', '1349', '2302', '19556', '6349,2', '727', '10489,92', '757', '4498', '7660', '9550', '326', '249,3', '1036', '459', '11800', '2869,9', '2218', '6782', '54929', '1422', '2836', '2426', '1559', '1661', '4697', '8900', '1229', '880,2', '15000', '2200,4', '8082', '367', '1200,84', '431', '7750', '3137,9', '3319,7', '3148', '11999', '1525', '2665', '3555', '8036', '98,1', '677,3', '760', '19000', '13840', '1425', '16350', '1034', '39490', '1860', '861', '4675', '75500', '413,5', '19999,2', '575', '223', '3039', '26000', '477,5', '4632', '3522', '52000', '902', '1480', '25820', '1765', '6555', '980', '5703', '1452', '2000,22', '6780', '1138', '627,4', '8710', '8330', '6699', '3299', '28800', '5110', '7259', '8125', '3332', '7812', '1203', '3415', '1755', '6357', '1700,92', '25400', '2370', '1802', '2013', '1026', '1202', '2688,69', '30412', '1633', '6445,86', '1062,2', '2705', '1226', '3165', '13203', '2935', '36330', '968', '2818', '1520', '810,1', '8201', '1280', '1375', '5345,64', '1253,7', '4087', '6157', '10600', '456', '4521', '1310', '4387', '1516', '3050', '2193', '7659,01', '1338', '4358', '6480', '1137', '5000', '5060', '749,95', '2222', '1145', '5630', '6257,7', '3359', '1800', '140000', '7590', '12000', '2760', '14220', '1014', '4944', '7850', '4160', '2290', '1456,5', '1369', '4809', '10162', '9325', '44963', '10560', '1609', '5055', '1999', '488', '1554', '3545', '5203', '7811', '1159,9', '3138', '1656', '1000,88', '10000', '4346', '4647', '304', '1508', '6680', '48155', '2034', '1429', '421', '2731', '688,3', '2000,9', '853', '6789', '1840', '3080', '13300', '1124', '3408,8', '2187', '1600,92', '14455', '5425', '650', '3071,52', '3935', '1168', '46500', '2795', '2017', '1154', '1253', '14200', '352', '1228', '1000,67', '3490,82', '1050', '3087', '575,2', '1100,9', '2307', '1926', '8008', '3735', '2586', '1445', '53541', '7345', '700,83', '3543', '5959', '3717', '3575', '4708', '1845', '1333', '1098', '1975', '2234', '4438,2', '954', '10097', '5820', '4633', '2365,13', '8421', '539', '7550', '8111', '893', '4567', '6174', '5131', '4000', '2833', '12044', '2081', '3023', '1952', '34923', '10330', '3590', '10100', '383,2', '1948', '934', '514', '185', '862', '200', '269,1', '2567', '2858', '5490', '2979', '9695', '3855', '845,5', '2136', '1785', '2100,91', '870', '2615', '13400', '2077', '4820', '3657', '4085', '942', '5200', '345,3', '3037', '2765', '8259,55', '505,4', '8396', '12130', '927', '1271', '5499', '2404', '875', '1770', '9532', '1800,9', '2395', '7524', '13079', '741', '1795', '282', '1276', '640,32', '3054', '2465', '1680', '3300', '785,9', '2559', '1260', '2430', '10133', '3943', '14100', '1799', '4577', '646', '859', '4893', '3140', '2999,9', '1999,6', '10234', '2730', '738,8', '1252,05', '5130', '1978', '2739', '4455', '1326', '1958', '4000,5', '433', '3810,44', '2269', '9960', '5285', '1421', '2372', '1215', '3154', '1631', '3195', '48210', '1455', '996', '2320', '319', '3538', '1653', '19584,4', '310', '15606', '7528', '7990', '3891', '3762', '4460', '602', '5146,52', '594', '590', '34698,2', '8065', '3443', '5610', '1570', '13500', '6972', '275,4', '16425', '4138', '675', '1820,94', '3092', '318', '3756', '1231', '3216', '2011', '5047', '782,8', '1781', '5437', '1870', '1281', '1678', '1830', '988', '494,5', '9250', '847', '500', '268', '12438,4', '504', '3677,98', '8261', '992', '59400', '915', '4504', '4393', '1012', '3444', '6323', '1980', '12244', '8350', '1300', '3829,6', '1498,5', '15383', '44004', '3688', '1224,15', '2550', '4380', '3183', '2459', '961', '6325', '772', '10685', '2245', '10152', '20865', '6679', '1610,4', '3500,03', '7447', '955,4', '7180', '605', '2437', '887', '1078', '2475', '642', '394', '61827', '3495', '2797', '1725', '44216', '546', '6910', '1350', '1961', '1405', '2540', '5210', '1463', '11275', '8274', '944', '4113', '3040', '1959', '2904,2', '7820', '1979', '3134', '640', '2912,15', '1600', '827', '517', '1210', '5155', '2926,4', '2410', '3680', '767', '1982', '26358', '238', '1838', '1797', '4280', '1146', '4071', '425', '4817', '5040', '1710,1', '4230', '5450', '5445,92', '5548,4', '15701', '2454', '40758', '15795', '4828,2', '7020', '53577', '4767', '302', '1001,7', '1573', '272', '3430', '2160,6', '1344', '3899', '789', '6326', '2740', '140', '6900', '4000,91', '4743', '1546', '990', '5890', '905', '2414', '8700', '2299,9', '1076', '2000,92', '4500', '13000', '400,2', '1601', '3052', '1753', '5383,85', '1533', '1598', '6785', '1243', '18588', '694,2', '2127', '2137', '1894', '4003', '1628,5', '1396', '1907', '11859', '2305', '5001,9', '6919,2', '5477', '16070', '2482', '10239', '6289', '1398', '1484', '7142', '1799,9', '5660', '1458,8', '2962,1', '1431', '3645', '435,4', '2333', '2650', '11560', '1095', '528,5', '7758', '1236', '3107', '6196', '3142', '11337', '6151', '1955', '4166', '1625', '3410', '469', '358', '4225,44', '1729', '5074', '3544', '2172', '349', '609,6', '3975', '2403,98', '3400', '4275,2', '4206,8', '15120', '2151', '2491', '666', '2758', '1674', '681,2', '790', '342', '6486', '3390', '5002', '9047', '10465', '1721', '1000,5', '15460', '9910', '368,95', '4420', '3298,5', '1700', '2634', '9400', '1314', '4910', '1175', '2068', '5899', '44500', '12367', '15000,4', '426', '9040', '1430', '21912', '1466', '390', '2682', '13336', '2394', '487', '964', '9419', '2702', '711', '1207', '6820,45', '2780', '7816', '6748', '656', '2649,3', '2496', '986', '1781,83', '595', '54800', '4440', '1403', '7600', '1050,92', '6600', '2007', '1686', '2053', '2457', '10394,5', '2368', '2024', '2150', '1772,7', '889', '16824,39', '1258,85', '11190', '2343', '6340', '8861', '3597,4', '3666,2', '2998', '503', '9105', '759', '5667', '1418', '775', '11990', '3245', '9267', '1153,5', '2632', '281', '9114,9', '35269,21', '667', '7604', '4931,6', '6080', '3105', '437', '3000,91', '10850', '463,2', '3297', '4040', '1605', '1380', '1158', '8998', '24000', '5811', '9444', '8450', '3620', '4995', '969,8', '635', '384', '6127', '5021', '25791', '3874', '2712', '50000', '1385', '21648', '5317', '757,7', '1815', '798', '14448', '2828', '14179', '13772,82', '2199,95', '2294', '41580', '5480', '6795', '2293', '1218', '10933', '7519', '14740', '12030,65', '1629', '2696', '3439', '2000,4', '3170', '2000,85', '13650', '6730', '643', '1260,9', '1087', '4935', '2437,5', '1228,2', '1132', '19355', '2466', '19521', '15091', '8695', '3621', '4020', '1489', '1569', '5000,87', '5120', '610', '1424', '1865', '2216', '870,4', '5246,5', '2497', '50500', '3451', '1953', '736', '2564', '7207', '3149', '1013', '2857', '35100', '515', '9116', '2578', '5352', '3505', '4959', '8868', '1735', '3520', '3433', '2620', '1990,91', '878,2', '1828', '1399', '7080', '6454', '1775', '744', '1371', '529', '4214', '1895', '5420', '6406', '965', '3413', '1892', '13790', '439,95', '2133', '500,91', '5031', '539,09', '728,92', '29080,92', '1242', '2493', '1708,5', '6310', '3417', '20196', '315', '2600', '478', '2734', '13200', '1630', '3945', '8596', '16020', '4882', '1322,42', '50442', '2500,8', '2112', '7000', '6143', '1197,1', '1399,3', '1543,5', '6920', '34000', '4177', '2617', '1470', '13350', '3469', '709,6', '392', '2192', '1005,75', '5708', '363', '5436', '4091', '1000,4', '3175,73', '8688,09', '1255', '35500', '6380', '14786', '4607', '5330', '4145', '1422,6', '5190', '46300', '1041', '967', '13170', '1880,2', '4370', '2350,3', '3033', '1898', '5387', '10981', '2110', '3730', '6650', '1534', '18152', '2000,2', '2995', '589', '4629', '3000,4', '3363', '90000', '2102', '2075', '1485', '2598', '631', '4360', '18400', '483', '576', '3872', '1810', '454,6', '800,82', '932', '1598,91', '2804', '1790', '3499', '7240', '6625,16', '330', '9599', '1697', '4579', '1020,9', '2826,6', '4235', '8940', '1374,88', '524,85', '1705,5', '14582', '550', '7589', '2126', '6544', '22500', '13539', '9991', '1896', '2663', '674', '1173', '2232', '4630', '835', '885', '3610', '1172', '5170', '35800', '9108', '6365', '5532,66', '629', '0,92', '2257', '3158', '1887', '1103', '1544', '7756', '5576', '320,5', '4318', '13126', '4081', '2895', '6100', '551', '1701', '43200', '1081', '5971', '6599,8', '4608', '11199', '341,1', '7128', '4705', '19212', '6857', '3470', '15490', '2610', '9000,6', '2684', '4480', '358,1', '7280,83', '5670', '2460', '849', '2575', '38800', '1319', '953', '24500,03', '8458', '63219', '2899,9', '2918', '9992', '1188', '2019', '1136,44', '619', '3970', '3609', '5555', '494', '2051', '675,5', '4000,1', '1899', '2482,84', '1939', '1899,8', '6138', '618', '370', '971', '1185', '3257,04', '14806', '5226,9', '4898', '2244', '1100,2', '779', '460', '2661', '27350', '25131,59', '1370', '4917', '2260', '12189,9', '10637,7', '3924', '4013', '5194', '14390', '4077', '1258', '3798,18', '2238', '1272', '7810', '913', '19980', '2955', '3000', '520', '5726,3', '5451', '329,2', '55982', '1677,1', '1389,8', '3353', '1244', '5234', '1694', '1309,65', '7450', '3454', '11320', '48000', '2957,79', '6800', '9955', '1300,4', '540', '7887', '2221', '1925', '5010', '899', '8342,38', '2535', '5033', '3162,71', '979', '840', '6960', '580', '891', '1340', '9793', '1732', '15800', '5574', '6010,3', '739', '5998', '2079', '19958', '1595', '4343', '16481', '1854', '1908', '9909', '3577,5', '1818', '6499,2', '11646', '7518', '7822', '3794', '5124', '14990,94', '2710', '1671', '2323', '19430', '2409', '1510', '5752', '792', '5571', '444', '1223', '1259', '1336', '425,6', '6950,8', '288', '10431', '45000', '556,2', '1161', '1282', '5393', '5704', '6610', '1864', '4980,91', '11689', '1966', '11474', '1611', '372', '2640', '3411', '160', '3304', '839', '2486', '1040', '60488', '16484', '7200', '1093', '552', '3910', '6410', '2214', '5502', '911', '4589', '4759,6', '7902', '1691,6', '2240', '800', '4978', '1363', '2750', '1757', '6098', '2947', '2289', '1641', '2348,8', '6840', '856', '22399', '1000,3', '8879,48', '236', '14674', '6458', '1619', '5082', '7795', '4569', '4330', '62250', '465', '1060', '682', '2608', '1018', '1565', '2506', '1342', '432', '5038,1', '1434', '54870', '11382', '3049', '940', '2173', '7964', '6550', '8990', '2754', '7120', '2281,1', '4086', '10300', '570', '10467', '1062,5', '7350', '24140', '2832', '1239,95', '4788', '1706', '636', '7082', '684', '1514', '609', '5745', '6570', '10934', '523', '4350', '359', '5279', '5540', '3098,9', '3280', '8150', '385', '1413', '2392', '12400', '2248', '2868', '1323', '5095', '2863', '2450', '1287', '9555', '3585', '8320', '476', '615', '10899', '938', '3540', '7707', '5844', '14010', '665,5', '1900,94', '3220', '4245', '2015', '4860', '7567', '1261', '8190', '4335', '386,1', '5248,91', '3899,95', '3108', '6995,92', '331', '5650', '12500', '42906', '391,2', '688', '7776', '12673', '3870', '2413', '868,42', '2487', '500,39', '2476', '2182', '4515,82', '3675', '18900', '2495', '2059', '458,4', '2562', '1509', '778', '2282', '1170', '2200', '2729', '18800', '11000', '2500,25', '930,91', '1632', '2820', '1843', '2701,27', '10500', '5814', '508,5', '860', '14640', '10176', '2597', '9661,66', '8117', '1553', '256,2', '2699', '676', '8'}\n",
      "\n",
      "LOAN_AVG_DLQ_AMT\n",
      "{'2476,77', '769,43', '2580', '6750', '2930', '2326,81', '1088,05', '3600', '917,651666666667', '1288,63', '3659,0625', '978,56', '5430', '2702,4', '1272,81', '752,923076923077', '5560', '980,42', '767,53', '1459,34', '1305,97', '670,085', '2560', '2088,86', '1679,2', '1645,64', '1304,0625', '1519,72', '735', '1423,33333333333', '1175,57', '1649,37', '4680', '568,75', '1424,9175', '1439,815', '695,06', '2770', '2538', '1221,92', '1199,27', '2699,88', '2751,25', '517,51', '805,73', '942,17', '4210', '1546,55', '7490', '2492,54', '820', '1838,56428571429', '849,19', '978,55', '7340', '1099,54', '1195,3', '3010', '5047,5', '2480', '1817,57', '2237,245', '869,26', '1317,4', '1489,13', '6490', '9060', '1074,52', '4050', '2370,01', '3752,455', '1091,2', '846,55', '3716,35', '2980', '4090', '606,55', '4710', '778,07', '2009', '1233,309', '1670', '3509,22', '7280', '1736,4', '2910', '2769,82', '2779,4', '2128,74', '674,263333333333', '2340', '4115,33333333333', '1288,7', '2140', '6591,48', '1344,33', '1134,525', '518,9', '1221,8', '2296,35', '3120', '2262,12', '5050', '1029,75', '1970,52', '2786,89', '400', '761,866666666667', '1429,97', '756,453333333333', '4640', '3024', '3090', '4660', '1360', '1626,75', '1142,83', '1290', '1243,83', '665,57', '1108,574', '904,08', '509,533333333333', '1330,41', '4290', '455,32', '678,18', '4956,4', '216,59', '1441,57', '1066,605', '1080', '2239,37', '887,79', '3310', '1248,56', '1930', '560,36', '1181,13', '1606,38', '3950', '1208,09', '658,84', '2119,5625', '2220', '1850', '695,59', '4770', '1953,6', '1283,89', '1247,92', '1098,1', '1342,58', '1861,6', '750', '1739,88', '2441,4', '2592,5', '1626', '1234,7375', '1071,75', '1885,265', '886,26', '690', '3691,2675', '1479,11', '1119,93', '3350', '913,4975', '802,36', '1245,94', '869,45', '1810,155', '1109,855', '2700', '324,16', '1230', '3433,42', '1878,86', '1180', '3530', '1209,5', '1179,394', '3860', '1259,43', '1614,36', '543,33', '1761,03', '510', '3190', '1374,28', '798,53', '2549,52', '1408,87', '2796,66', '3782,39', '1002,22', '777,84', '2079,37', '1020,7725', '2916,18', '2080', '2250', '4250', '1127,63', '3500', '3316,8675', '730', '1713,74', '2135,75', '1832,91', '4690', '2979,31', '2470', '704,93', '2707,25', '1095,88', '5370', '1549', '612,524', '3940', '355,04', '3570', '949,15', '477', '726,57', '1987,565', '1405,09', '2270', '1826,86', '2830', '673,02', '859,1', '4100', '969,59', '3237,94', '2940,81', '3755,32', '620', '1639,24571428571', '11310', '360', '1054,5', '7530', '4060', '2289,48', '1407,725', '1164,99666666667', '1478,49', '1154,34', '1130,63', '3055,72', '1103,19', '3165,46', '2690', '4136,07', '1135', '1948,62', '376,08', '1347,12', '3037,58', '656,705', '2910,25', '687,11', '1056,95', '830,7', '1187,565', '3920', '1152,89', '770', '1181,51', '1600,26', '2300', '470', '1684,42', '2293,65', '3250', '2105', '669,48', '1666,28', '855', '1006,59', '1492,404', '4472,91333333333', '1600,0925', '872,81', '1580', '1414,34', '1134,58', '799,09', '2094,3', '1647,97888888889', '1954,4', '1007,36', '490', '1959,99', '714', '1724,15333333333', '758,15', '1070,05', '4180', '829,393333333333', '1640', '5090', '284,02', '964,516666666667', '1594,914', '780', '1512', '2265', '2503,19', '2083', '1167,98', '1920', '1120', '1573,35', '4190', '1620', '948,58', '613,12', '2219,93571428571', '1717,47333333333', '4220', '4084,07', '1410', '588,9', '5500', '6938,27', '1739,33', '1514,45833333333', '920', '2500', '4300', '1059,47', '651,625', '3119,99', '3100', '975', '1036,336', '14970', '1040,78666666667', '280', '717,87', '2518,18', '5526,72666666667', '2991,39', '4399', '13920', '1563,45', '882,01', '3101,73', '2579,43', '2701,26', '1616', '5048,19', '3200', '804,32', '5698,46', '2840', '3303,2', '1068,76', '768,97', '3330', '1113,17', '3640', '2235,225', '4055,03', '336,9925', '568,7', '1590', '2804,46', '682,56', '1155,06', '758,95', '709,96', '4310', '9530,91', '1439,9', '560,86', '1072,752', '6133,41', '989,39', '804,89', '2742,25', '497,62', '1217,36', '569,121428571429', '1498,2', '2923,96', '863,68', '1850,24', '1750', '3315', '1495', '2070,52', '2880', '1814,93', '5180', '2390', '270', '1678,99', '2247,51', '1769,1975', '1589,92333333333', '825,10875', '1053', '5070', '1539,13', '2280', '1240', '2493,97', '1727,62', '3320', '4574,85', '1252,67', '1415,2', '7100', '1768,07', '1373,87', '533', '1159,06', '1275,785', '2068,56', '1686,92', '980,25', '1042,41', '1758,25', '224,59', '1563,61', '1615', '1098,8', '5160', '1100', '2100', '1390', '1338,69', '6532,49', '1683,49', '1573,30428571429', '1880', '2781,08', '3223,09', '1091,55', '4530', '1180,48', '2352,78', '6260', '690,99', '136,76', '3180', '3110', '1949,8', '4158,85', '5900', '2864,92', '1411,31', '524,6', '1033', '5149,95', '2451,54333333333', '2739,76', '1890', '2446,5', '42,52', '2090,53', '1408,73', '1026,8175', '712,179', '1113,74', '1402,2', '2210', '930', '3635,77', '2178', '619,4', '753', '3777,93333333333', '979,63', '1235,4', '2359,898', '9280', '2139,63375', '1793,66', '910', '664,94', '892,18', '702,565', '2330', '1259,39', '2391,38', '1817,76', '604,43', '5603,82', '4600', '430', '6130', '600,93', '411,43', '2690,33333333333', '1993,59', '2670,02', '5428,62', '3762,5', '2380', '5780', '2130', '1538,69', '1093,75', '4884,95', '2685,68', '1145,85', '3075,82', '3750', '970', '796,59', '526,563333333333', '3800', '2720', '5550', '2175', '1427,295', '2554,005', '1690', '3440', '7670', '3030', '54,58', '8020', '425,97', '1730', '320', '2201,11', '2217,25', '440', '526,94', '51,8', '4112,53', '380', '1077,605', '1120,19', '1175,566', '2323,025', '5394,29', '1468,38', '1259,71333333333', '2668,07', '1085,53', '2365', '1508,79', '816,83', '91,27', '3070', '648,68', '811,49', '799,16', '2108,71', '2870', '1875,70333333333', '3589,09', '1197,24875', '2509,38', '2184,66', '1684,04', '3769,3625', '1309,43', '5410', '2676,2125', '4269,94', '1389,63', '6160', '2406,8', '1942,72', '970,155', '879', '578,3', '7780', '2276,54666666667', '1182,23', '3670', '2158,72', '1205,4725', '1030', '3964,85', '1072,34', '4119,97', '1608,255', '1439,94', '2158,2775', '780,75', '2925', '3626,91', '3960', '1959,42', '1132,64', '1412,55', '2510', '2170', '918,255', '1920,9575', '700', '3283,1', '2010', '2010,03', '2447,225', '1296,4', '1158,1', '429,24', '755,063333333333', '1731,06', '5850', '1450', '1033,905', '3160', '997,89', '1010', '3255', '1097,55', '3850', '4550', '1610', '5320', '1317,88333333333', '1662,1', '591,935', '440,63625', '1429,99', '542', '779,82', '860,22', '4565', '1110', '861,56', '2960', '2860', '1168,63', '2185', '816,3', '1720', '2262,73', '605,496', '997,13', '991,19', '892,95', '664,42', '2051,5', '2112,17', '1990', '134,78', '761,74', '4559,26', '3501,45', '3768,7', '5076,65', '1238,855', '890', '1191,65', '951', '1155,02142857143', '1220', '558,06625', '2423,54', '5545,0225', '342,02', '1420', '1330', '1915,35', '535,53', '1999,19', '2166,82', '2701,5', '530', '951,12', '2477,64', '680', '560', '1073,54', '1593,76', '0,71', '1107,5', '2629,87', '821,45', '1023,66', '1386,96', '1147,5', '620,75', '3539,82', '2585', '1287,35', '947,57', '501,305', '2630', '3668,79333333333', '949,89', '5100', '2570', '901,64', '3072,475', '3506,07', '68,77', '2259,35', '1307,99', '988,62', '1560', '1313,33333333333', '871,07', '2800', '433,306666666667', '4890', '2097,97333333333', '3060', '586,646666666667', '6647,97', '2670', '1742,41', '820,124', '772,73', '2425', '2755,21', '2060', '1010,43', '1459,54666666667', '2230', '2575,71428571429', '2989,98', '1832,78', '3020', '749,82', '340', '5760', '3651,445', '1598,01', '3387,85', '5570', '911,793333333333', '2659,95', '1130,785', '4700', '1020', '767,7', '1359,6', '642,31', '1373,99333333333', '658,18', '3840', '1173,46', '6660', '1094', '652,36', '5872,64', '3011,18', '598,5', '5870', '3880', '701,32', '960', '813,335', '1697,22', '600', '653,293333333333', '2524,28', '1760', '2430,38', '2920,45', '1045', '1180,16666666667', '18307,16', '1437,01', '480', '433,3425', '2090', '1900', '1820', '986,606666666667', '918,55', '1160,21', '2840,62', '1960', '856,64', '4650', '1274,99', '918,7', '824,02', '2920', '579,94', '3480', '4617,935', '215,55', '900', '966,07', '2252,3', '1550', '1221,24', '4830', '4620', '1255,21', '1792,71', '1880,59', '1616,1825', '2031,34333333333', '1190', '619,73', '1200', '666,86', '1355,12', '1400', '1507,48', '71,71', '2712,72', '1671,7', '850', '1159,18', '524,82', '964,69', '2000', '2272,5', '1924,4', '830', '2119,77', '988,5025', '3240', '836,79', '2043,665', '959,955', '1766,2', '880', '3890', '3464,88', '1731,7', '3355,19', '2520', '896,31', '1052,63', '2979,57', '720', '6500', '660,6', '1780', '1171,686', '1279,91', '2850', '2482,72', '1424,26', '9453,33333333333', '963,96', '1710', '4570', '1128,64', '827,57', '1015', '2168,26', '1778,635', '38,32', '696,97', '532,24', '350', '7010', '628,94', '1411,835', '1733,88', '2365,47', '1833,77', '836,6', '1127,76', '2441,465', '9840', '4070', '746,74', '1993,245', '748,93', '4200', '233,335', '2530', '668,53', '1615,22', '1082,9', '5830', '1258,585', '6540', '1365', '1065,62', '3875', '1199,54', '954,65', '1270', '828,64', '2240,34', '857,956666666667', '290,82', '1706,3', '300', '839,88', '616,06', '818,74', '2679,82', '2940', '2569,05', '1692,49', '647,42', '2368,84', '775,86', '1112', '1382,67', '1844,885', '1325,63', '731,72', '989,15', '3900', '990,85', '15110', '0,98', '865,03', '613,21', '2081,78', '4660,495', '3102,49333333333', '1209,27', '1258,69', '314,76', '1535,89', '2261,19', '2680', '630,49', '3702,8', '929,51', '7060', '1418,86', '1581,82', '1095,61', '831,2', '874,31', '1006,29666666667', '7510', '1303,04', '896,1', '1114,57', '1287,132', '1788,46', '880,74', '3959', '2970', '3490', '1459,99', '868,01', '4340', '1899,1', '6180', '1583,15', '2568,45', '4940', '678,2', '2160', '5510', '1749,69', '1606,5', '14990', '1179,86', '1258,49', '528,15', '673,6825', '1268,44', '861,03', '1077,03', '1991,725', '2619,25', '4400', '1433,4', '1371,86', '1292,59', '1138,2', '719,25', '1918,79', '2070', '2394,45', '842,15', '1995', '657,95', '3103,84', '1409,965', '756,84', '1012,02', '3720', '486,895', '1774,5175', '635,53', '660', '1325', '806,93', '854,47', '115,65', '715,54', '2499,775', '756,1', '1896,34', '2990', '1740', '1985,528', '625', '1447,67333333333', '2180', '910,13', '698', '823,54', '794,5', '3637,43', '62,46', '2858,6', '3230', '1950', '2660', '613,25', '3013,9', '1892,238', '410,39', '1970', '860,505', '6390', '94,89', '2008,01', '1269,16', '962,655', '760,65', '3820', '806,19', '2263,18', '2950', '9239,69', '1553,31625', '2315,64857142857', '2040', '1367,735', '4001,34', '2510,2', '1088,48', '1830,2', '4560', '824,581428571429', '7763,74', '4810', '3428,56', '386,666666666667', '2006,83', '1266,34', '543,17', '3580', '1233,33', '1130', '3660', '1150', '2959', '567,16', '95,09', '2081,36', '1067,73', '3260', '1063,17', '1398,58', '717,9', '1776,96666666667', '2112,57', '1206,51', '1168,565', '2462,1', '1629,58', '981,71', '240', '810', '1317,06', '564,93', '1457,52', '339,83', '631,68', '2852,74', '1276,66666666667', '2627,58666666667', '3810', '1191,604', '1160', '63,31', '1932,5', '805,86', '1002,60333333333', '1660', '2794,22333333333', '1999,73', '0', '509,52', '1299,55', '534', '2120', '2142,2', '6360', '722,59', '1798,49', '4320', '1851,55', '588,13', '1111,4', '669,12', '2132,88', '599,19', '2192,0875', '4296,29333333333', '1144,98', '1905,8', '310,126', '1226,25', '1574,6', '2188,21', '1539,2', '1165,25', '315,796666666667', '3382,31333333333', '1634,81', '4164,34', '3202,2', '2149,94', '3510', '3550', '4635', '1845,5', '1490', '1570,46', '2400', '2419,9', '705,6', '1283,93', '4834,28', '801,8', '2070,42', '2360', '3106,29', '2101,256', '2409,01', '875,09', '1658,42', '917,57', '578,06', '639,11', '1317,32', '598,396666666667', '947,285', '3360', '3760', '3509,805', '3235,24', '1867,66166666667', '516,18', '4729,07', '1681,62666666667', '1601,63', '1636,04', '3210', '3990', '1542,42', '3365,305', '1655,63', '698,26', '3339,71', '3130', '991,79', '4240', '950', '6200', '921,58', '2002,45', '3460', '4260', '1922,69', '821,93', '2935,02', '758,82', '3860,18', '3630', '3594,45', '410,6', '1940', '1209,47', '4840', '28012,2', '3172,83', '1000', '2890', '3340', '766,26', '1628,45', '1339,99', '1377,5275', '87,39', '2202,69', '1304,722', '1894,04', '1892,28', '1063,58666666667', '670', '753,68', '2050', '1630,344', '1179,89', '5300', '1530', '3420', '740', '1719,72', '2974,37666666667', '930,4', '1101,1', '5577,92', '2025', '596,29', '2790', '2490', '482,28', '4030', '1780,28', '2020', '724,38', '1540', '4450', '2350', '3752,02', '1671,33', '1804,9', '1149,395', '2005,15', '1399,25', '1500', '2605', '966,953333333333', '978,13', '1230,63', '1650', '809,42', '1348,68', '4760', '697,72', '2190', '1674,3', '1276,7', '2704,02', '2028,702', '3358,58', '605,32', '1605,95', '1070', '5140', '859,92', '1004,8', '3209,5', '1253,34', '3089,155', '1498,26', '1264,23', '1272,72', '3279,56', '2323,55', '2154,02', '1248,27', '957,63', '1090', '7790', '2088,64', '1555,00090909091', '2429,09', '740,575', '100', '586,501428571429', '10640', '2590', '2122,45', '2853,18333333333', '1169,82', '1910', '581,15', '2265,01', '2810', '1561,95333333333', '946,49', '789,23', '1443,3', '455,59', '767,566', '2647,9', '1108,96333333333', '1889,43', '1966,99', '728,49', '1269,372', '1312,44', '2599,29', '3111,3', '3248,28', '2018,255', '4510', '812,11', '762,93', '6740', '499,69', '865,05', '845,55', '1340,16', '845', '1930,595', '1321,68833333333', '1309,89', '1841,9', '1476,6', '910,826666666667', '684,89', '699,78', '1547,02', '2178,925', '839,79', '5108,38', '5030', '2900', '862,43', '2651,68', '849,91', '1875,75', '1320', '2151,50333333333', '586', '4390', '1251,35', '716,33', '3150', '596,16', '2440', '2473,645', '3018,275', '2343,41', '661,46', '2030', '859,9325', '1097,62', '1831,51333333333', '1883,04', '553', '1289,105', '1829,73', '1525,885', '1909,16', '966,53', '849,085', '1180,53', '4508,2', '289,02', '3749,07', '2782,89', '1286,73', '4230,185', '1537,71', '2157,89', '776,3', '2059,46', '1180,87', '1440', '1597,92', '2258,3', '1986,35', '2263,2', '1496,3275', '59,68', '1460', '4159,78', '110,91', '1215,45777777778', '2247,08', '1250', '651,16', '2269,735', '2310', '1386,115', '1405,53', '4758,14', '1896,24', '630', '2957,71', '855,675', '450', '676,85', '1319,56', '710', '1986,88', '1639,94', '367,35', '1090,8', '1509,44', '677,474', '2269,565', '746,57', '1795', '3780', '812,693333333333', '715,3', '1140', '1003,255', '998,968', '937,405', '1532,04', '3377,57', '988,44', '1980,6', '859,84', '699,99', '880,2', '580,49', '367', '187,35', '859,73', '576,324', '1369,755', '760', '1860', '2361,22', '957,4', '837,74', '1477,37', '1480', '727,63', '2590,15', '980', '658,42', '2992,64', '5110', '782,705', '101,52', '2370', '1869,795', '462,915', '5269,78', '870,69', '1520', '1280', '1274,59', '963,12', '1102,7', '1582,435', '552,57', '7620', '1310', '1136,6', '3050', '183,13', '912,41', '1010,27', '757,75', '1139,49', '976,68', '1800', '3821,44', '2760', '1965,32', '451,495', '4160', '2290', '437,26', '3309,87', '1152,15', '7840', '1206,745', '2082,47857142857', '3138', '6689,82', '3971,6', '1007,8', '1840', '3080', '1259,1', '2816,25', '1375,39', '4850,2', '650', '1587,06', '2809,87', '1022,67', '198,88', '1050', '1136,86', '1931,44', '769,915', '1241,32428571429', '327,98', '2060,782', '3322,7775', '599,485', '1296,74', '4000', '862,5', '1095,89', '3590', '1985,3', '269,51', '1387,15', '944,93', '1069,6', '1145,38', '983,28', '609,4925', '3279,705', '983,45', '706,48', '870', '1781,225', '1197,38333333333', '1176,82', '1300,386', '1659,576', '4820', '1329,54', '2066,905', '3639,91', '4893,17', '1771,33', '2379,46', '1232,78', '1770', '866,59', '1529,06', '3415,66666666667', '3783,78', '1240,46', '1680', '3300', '1155,125', '630,8', '1113,335', '1260', '2430', '3140', '663,05', '1544,95', '2730', '438,19', '531,65', '865,1', '2044,155', '739,93', '778,32', '721,151428571429', '1215', '1116,49', '2320', '1085,5', '310', '3231,88', '1070,52', '481,506', '750,175', '1839,85', '590', '1010,55', '183,48', '1570', '457,71', '1055,71', '2399,55', '1870', '908,78', '1830', '446,31', '2354,29', '500', '791,56', '567,51', '3870,25', '826,64', '3086,66666666667', '2573,8', '2140,36', '1980', '526,43', '1300', '2779,29', '2877,745', '1939,61', '1314,58666666667', '2084,32', '2550', '1311,85', '1324,41285714286', '4380', '1352,85714285714', '2340,06777777778', '4610', '1350', '1200,99', '2540', '1049,42666666667', '820,87', '1957,21', '1391,47', '3040', '2163,94', '1599,9', '3127,19', '797,135', '640', '2464,55', '1600', '2232,28333333333', '1210', '2410', '3680', '2250,56', '413,145', '1263', '5040', '1007,63', '5974,67', '1675,345', '2372,77', '702,23', '3430', '2740', '763,3', '1119,27', '3099,42', '990', '4920', '1097,86', '1020,63', '1154,905', '2418,306', '1706,318', '2467,33', '4140', '818,81', '2707,64', '758,68', '1237,24', '2961', '1506,39', '1258,95', '2650', '2750,86', '366,58', '1410,53333333333', '3410', '2547,85', '3400', '6041,86', '478,13', '145,92', '2758', '1789,04', '2386,505', '790', '1609,47', '3390', '5757,9', '4056,11', '4420', '1700', '1297,36333333333', '1211,17', '1430', '390', '1549,18', '2780', '429,11', '1004,225', '846,74', '604,353333333333', '1222,06', '510,136666666667', '1040,5', '1141,06', '1145,21', '2150', '1747,33', '1661,74666666667', '2349,51', '848,45', '6080', '763,185', '1380', '929,39', '2608,17142857143', '1675,75', '727,79', '758,96', '3620', '2445,93', '1120,93', '1639,99', '2656,68', '1459,385', '95,79', '2559,89666666667', '3191,75', '1402,92', '3170', '866', '2217,22333333333', '1068,72', '84,07', '819,3', '3155,89333333333', '1047,32', '2252,24', '1144,03', '4020', '3033,41', '554,36', '610', '559,94', '1314,11', '407,8', '4120', '1140,2', '1260,55', '472,11', '11460', '3520', '2620', '1094,85', '3863,72', '2287,02', '2268,41857142857', '1269,82', '5420', '683,9975', '965,1', '1775,46', '5752,98', '1740,19', '984,79', '451,06', '2013,19', '1321,59', '6310', '1160,96', '2600', '732,62', '1630', '768,11', '1663,27', '6070', '582,386666666667', '1470', '1032,06', '4376,4', '2736,28', '1881,26', '1403,64', '1745,7', '1456,85', '1528,832', '2466,8625', '1022,204', '5397,15', '4370', '2597,78', '2110', '6650', '3914,24', '950,888', '3730', '1335,47', '1881,83', '631', '1171,65', '1961,35', '1810', '1790', '330', '875,2', '1670,18', '666,41', '1516,872', '2127,1', '1849,496', '177,34', '1355,87', '550', '2282,89', '1402,43', '4630', '782,21', '3610', '49,35', '5170', '2732,2', '813,305', '673,89', '957,46', '1039,36', '762,16', '979,89', '37,5', '2146,66666666667', '879,74', '2388,505', '662,13', '1388,83769230769', '2725', '4827,666', '2676,24', '1677,48', '2792,33', '3470', '1093,22', '2610', '2460', '2575', '1196,17', '502,1', '1426,72', '3970', '1066,005', '2706,39', '837,48', '212,25', '2157,32', '370', '695,39', '1574,25', '460', '1370', '1188,46', '2260', '641,04', '2563,29', '548,523333333333', '3000', '0,04', '370,77', '920,175', '520', '3201,95', '909,424285714286', '1504,79', '894,29', '7450', '891,95', '540', '2273,72', '1068,47', '958,76', '840', '580', '1340', '1751,37', '265,55', '1467,05', '1196,43', '2598,9', '2710', '791,98', '3376,515', '1510', '2497,09', '444', '610,986666666667', '550,83', '779,415', '776,59', '3770', '7369,77', '1017,28', '2640', '1239,08', '957,59', '1848,05', '1040', '3889,696', '5401,67', '3910', '1045,89', '2240', '800', '2750', '4445,6', '3768,74', '1198,15', '1068,32', '2189,99', '1149,495', '549,88', '1060', '682', '988,85', '898,77', '940', '6550', '1094,09', '1591,94', '14870', '1595,575', '2429,5', '5075,99', '570', '4026,63', '2473,45', '830,53', '327,675', '1879,28', '1244,53', '872,065', '4350', '3828,09666666667', '3231,2', '3280', '1270,16', '1288,898', '997,65', '2450', '1707,5', '2939,536', '2186,585', '1552,325', '3540', '903,66', '2409,2', '3220', '2015', '840,7', '1413,765', '4515,81', '2144,77', '2303,11666666667', '1112,57', '502,2', '5650', '4387,48', '43,3', '1193,9675', '3870', '1716,52', '1899,7', '1913,31', '1170', '2200', '1098,64', '2820', '1021,13', '603,55', '860', '1256,635', '831,23', '574,21'}\n",
      "\n",
      "LOAN_MAX_DLQ_AMT\n",
      "{'769,43', '2580', '4490', '6750', '2930', '1088,05', '3600', '1288,63', '978,56', '5430', '783', '2702,4', '1272,81', '5560', '980,42', '1459,34', '2560', '2088,86', '1679,2', '1645,64', '1175,57', '3290', '3690', '1649,37', '4680', '2220,72', '568,75', '695,06', '2770', '1221,92', '1199,27', '2699,88', '2751,25', '517,51', '805,73', '4210', '943,56', '1546,55', '2176,36', '609,52', '7490', '2492,54', '820', '849,19', '978,55', '7340', '1099,54', '1195,3', '3010', '5047,5', '2480', '1817,57', '869,26', '1317,4', '1489,13', '6490', '9060', '1074,52', '4050', '846,55', '3716,35', '2980', '1336,38', '4090', '4710', '5260', '2009', '1169,69', '1670', '3509,22', '1736,4', '918,83', '2910', '2779,4', '2340', '1288,7', '2140', '6591,48', '1344,33', '518,9', '1221,8', '2296,35', '3120', '2262,12', '5050', '1029,75', '1970,52', '2786,89', '400', '1429,97', '4640', '3090', '446,3', '4660', '1360', '1626,75', '1142,83', '1290', '1243,83', '3357,52', '665,57', '904,08', '1330,41', '678,18', '4290', '4956,4', '216,59', '1080', '887,79', '2239,37', '3310', '1930', '560,36', '1181,13', '1606,38', '3950', '1208,09', '658,84', '2220', '1850', '4770', '1953,6', '1105,07', '1247,92', '1098,1', '1861,6', '750', '1739,88', '2441,4', '1395,7', '1071,75', '2969,75', '886,26', '690', '1479,11', '1119,93', '3350', '802,36', '1245,94', '869,45', '540,39', '2700', '324,16', '1230', '3433,42', '1180', '3530', '1209,5', '1090,01', '3860', '1259,43', '1614,36', '543,33', '1761,03', '510', '3190', '1374,28', '2588', '798,53', '2549,52', '1408,87', '2796,66', '3782,39', '1002,22', '777,84', '2916,18', '2080', '2250', '2319,2', '4250', '1127,63', '3500', '730', '1832,91', '4690', '704,93', '2470', '2707,25', '1095,88', '5370', '1549', '3940', '355,04', '3570', '477', '726,57', '1405,09', '2270', '1826,86', '2830', '673,02', '2642,83', '859,1', '4100', '969,59', '3237,94', '2858,62', '2940,81', '3755,32', '1071,44', '620', '11310', '360', '3560', '1054,5', '7530', '4060', '2289,48', '1478,49', '1154,34', '1363,79', '1130,63', '3165,46', '2690', '4136,07', '1948,62', '376,08', '1347,12', '2124,5', '581,67', '687,11', '1056,95', '830,7', '3920', '770', '1181,51', '2300', '470', '1684,42', '2293,65', '3250', '669,48', '1666,28', '1006,59', '872,81', '1580', '840,4', '1414,34', '1134,58', '799,09', '2094,3', '1954,4', '490', '1959,99', '714', '1070,05', '4180', '1640', '5090', '284,02', '780', '2265', '2503,19', '2083', '1167,98', '1920', '736,3', '1120', '826,77', '4190', '1620', '948,58', '4220', '4084,07', '1410', '5500', '6938,27', '1739,33', '920', '2500', '4300', '1059,47', '3100', '975', '14970', '280', '717,87', '2518,18', '2991,39', '4880', '13920', '1563,45', '3101,73', '2579,43', '2701,26', '5048,19', '3200', '804,32', '5698,46', '2840', '3303,2', '768,97', '3330', '1113,17', '3640', '4055,03', '568,7', '1590', '2804,46', '1387,47', '1155,06', '758,95', '4310', '652', '2131,91', '9530,91', '1439,9', '961,94', '6133,41', '1268', '989,39', '804,89', '2539,12', '2742,25', '911,49', '497,62', '1217,36', '1498,2', '2923,96', '863,68', '1850,24', '1750', '2880', '1814,93', '5180', '2390', '270', '1678,99', '2247,51', '1053', '2979,35', '5070', '1539,13', '2280', '1240', '1870,69', '2493,97', '1727,62', '3320', '4574,85', '1252,67', '2058,71', '1415,2', '956,1', '7100', '1768,07', '1373,87', '533', '1159,06', '2068,56', '1686,92', '980,25', '1042,41', '224,59', '1563,61', '1615', '3018,62', '1098,8', '849,07', '5160', '1100', '2100', '1390', '1338,69', '6532,49', '1683,49', '1880', '1091,55', '4530', '1434,4', '1180,48', '2352,78', '2153,67', '6260', '690,99', '136,76', '3180', '3110', '1949,8', '4158,85', '5900', '2864,92', '2539,91', '1411,31', '524,6', '1033', '5149,95', '2739,76', '937,79', '1890', '2446,5', '42,52', '2090,53', '1408,73', '1113,74', '1402,2', '2210', '930', '1819,09', '3635,77', '2178', '979,63', '1235,4', '9280', '2595,06', '1793,66', '910', '489,13', '664,94', '892,18', '2330', '605,59', '1259,39', '1300,16', '2391,38', '1817,76', '604,43', '5603,82', '4600', '430', '6130', '600,93', '1745,19', '411,43', '1993,59', '2309,46', '2670,02', '2102,75', '5428,62', '3762,5', '1819,26', '2380', '5780', '2130', '1538,69', '1093,75', '4884,95', '2685,68', '1145,85', '3075,82', '3750', '970', '796,59', '5975,04', '3800', '2720', '5550', '1690', '717,01', '3440', '7670', '3030', '54,58', '8020', '802,29', '1730', '320', '1370,25', '2201,11', '2217,25', '440', '526,94', '51,8', '4112,53', '380', '1120,19', '1381,12', '2499,82', '5394,29', '2375,59', '1468,38', '2668,07', '1850,5', '1085,53', '1508,79', '816,83', '997,66', '91,27', '3070', '648,68', '1086,57', '811,49', '799,16', '2870', '3589,09', '2509,38', '2184,66', '665,11', '1309,43', '5410', '4269,94', '1389,63', '6160', '2406,8', '1942,72', '879', '1317,12', '578,3', '3670', '2158,72', '1110,39', '1030', '3964,85', '4119,97', '2289,89', '1439,94', '1320,85', '3626,91', '3960', '1959,42', '1132,64', '2510', '2170', '700', '3283,1', '2010', '2010,03', '604,76', '1192,75', '1296,4', '429,24', '1731,06', '5850', '1450', '3160', '997,89', '1010', '1097,55', '3850', '4550', '1610', '5320', '1662,1', '359,3', '1429,99', '542', '779,82', '860,22', '4565', '1110', '861,56', '1427,4', '2960', '2860', '1168,63', '1012,9', '2935,52', '816,3', '1720', '2262,73', '997,13', '991,19', '892,95', '1056,64', '664,42', '2051,5', '2112,17', '1990', '134,78', '3270', '761,74', '838,09', '4559,26', '3501,45', '3768,7', '5076,65', '937,6', '890', '1191,65', '1220', '342,02', '1420', '1330', '1915,35', '535,53', '1999,19', '2166,82', '586,5', '530', '660,86', '951,12', '2477,64', '680', '560', '1073,54', '1593,76', '0,71', '2589,2', '2629,87', '1023,66', '869,37', '1199,15', '1860,72', '5470', '620,75', '3539,82', '1287,35', '947,57', '2630', '949,89', '5100', '2570', '901,64', '3506,07', '68,77', '1311,53', '1307,99', '988,62', '1560', '4406,5', '871,07', '2800', '4890', '3060', '6647,97', '2670', '1742,41', '772,73', '2425', '2755,21', '2060', '2230', '2989,98', '1832,78', '3020', '749,82', '340', '5760', '1598,01', '5570', '2659,95', '4700', '1020', '767,7', '1359,6', '642,31', '1715,7', '658,18', '3840', '1173,46', '6660', '1094', '652,36', '5872,64', '3011,18', '1324,5', '598,5', '5870', '3880', '701,32', '960', '1697,22', '600', '735,3', '2524,28', '2013,45', '1760', '2430,38', '2920,45', '1437,01', '3422,28', '480', '2090', '1900', '1820', '918,55', '1160,21', '1960', '856,64', '4650', '1274,99', '918,7', '824,02', '2920', '472,8', '3480', '1650,53', '900', '966,07', '1286,14', '2252,3', '1550', '4830', '4620', '1255,21', '1792,71', '1880,59', '1190', '619,73', '1200', '1355,12', '1400', '1507,48', '71,71', '1231,72', '2712,72', '1671,7', '850', '1159,18', '524,82', '964,69', '2000', '1924,4', '830', '2119,77', '3240', '836,79', '1766,2', '880', '3890', '3464,88', '1731,7', '3355,19', '2520', '896,31', '1052,63', '2979,57', '2641,33', '3450', '720', '6500', '660,6', '1780', '2850', '2482,72', '963,96', '1710', '4570', '1128,64', '827,57', '1015', '2168,26', '38,32', '350', '7010', '628,94', '1733,88', '2365,47', '1833,77', '836,6', '1127,76', '9840', '4070', '4200', '1066', '1177,52', '2530', '668,53', '1082,9', '5830', '4520', '6540', '1365', '1065,62', '1199,54', '3089,5', '1828,89', '954,65', '1270', '1255,29', '828,64', '290,82', '1706,3', '300', '839,88', '616,06', '818,74', '2679,82', '2940', '2569,05', '1692,49', '647,42', '2368,84', '775,86', '1112', '724,93', '1382,67', '1325,63', '731,72', '989,15', '3900', '990,85', '15110', '0,98', '865,03', '613,21', '2081,78', '314,76', '2261,19', '2680', '630,49', '3702,8', '7060', '1418,86', '1581,82', '1095,61', '831,2', '1303,04', '7510', '896,1', '1114,57', '1788,46', '880,74', '3959', '2970', '3490', '1459,99', '868,01', '4340', '1899,1', '6180', '1583,15', '2568,45', '4940', '678,2', '2160', '1749,69', '1606,5', '14990', '1179,86', '1258,49', '528,15', '1268,44', '861,03', '1077,03', '2347,51', '2619,25', '1030,63', '4400', '1433,4', '1371,86', '1292,59', '1138,2', '2693,8', '1918,79', '2070', '719,25', '842,15', '657,95', '3103,84', '756,84', '3720', '635,53', '660', '1721,35', '806,93', '2661,68', '854,47', '115,65', '715,54', '756,1', '1896,34', '2990', '1740', '2180', '910,13', '698', '823,54', '794,5', '3637,43', '62,46', '2858,6', '3230', '1950', '2660', '1000,38', '3013,9', '410,39', '1970', '6390', '94,89', '2008,01', '1901,3', '760,65', '3820', '806,19', '2263,18', '2950', '9239,69', '2944,54', '2040', '1991,71', '4001,34', '2510,2', '4560', '7763,74', '956,67', '3428,56', '2006,83', '1266,34', '543,17', '3580', '1233,33', '1130', '3660', '1150', '3783,76', '2959', '567,16', '95,09', '2081,36', '3260', '1063,17', '1398,58', '1517,51', '717,9', '4960', '2112,57', '1206,51', '2462,1', '1629,58', '2890,47', '981,71', '240', '810', '1317,06', '564,93', '18310', '1457,52', '339,83', '631,68', '2852,74', '3810', '1160', '776,6', '63,31', '2474,45', '1660', '1999,73', '3830', '0', '1299,55', '2120', '2142,2', '6360', '722,59', '1798,49', '4320', '1851,55', '588,13', '1111,4', '919,88', '669,12', '2132,88', '599,19', '1144,98', '1905,8', '2695,38', '2044,32', '1226,25', '2188,21', '1539,2', '1165,25', '9470', '4164,34', '3202,2', '2149,94', '3510', '3550', '1845,5', '1490', '2400', '2419,9', '705,6', '1283,93', '4834,28', '801,8', '2070,42', '2360', '3106,29', '828,51', '2409,01', '875,09', '1658,42', '917,57', '578,06', '1317,32', '3360', '3760', '3235,24', '4729,07', '516,18', '1601,63', '1636,04', '3210', '3990', '1542,42', '1655,63', '698,26', '3339,71', '3130', '4240', '950', '6200', '921,58', '2002,45', '3460', '4260', '821,93', '3860,18', '3630', '3594,45', '410,6', '1940', '1209,47', '2233,65', '4840', '28012,2', '3172,83', '1000', '589,45', '2890', '766,26', '3340', '1628,45', '1339,99', '3388,62', '87,39', '2202,69', '5980,18', '2618,78', '1894,04', '1892,28', '670', '2902,89', '753,68', '2173,43', '1873,19', '2050', '755,76', '1179,89', '5300', '1530', '3420', '740', '1719,72', '930,4', '1101,1', '5577,92', '596,29', '2790', '2490', '482,28', '4030', '1780,28', '2020', '724,38', '1540', '4450', '2350', '3752,02', '1783,55', '1804,9', '950,33', '2005,15', '1500', '2605', '978,13', '1230,63', '1650', '809,42', '2782,93', '1348,68', '4760', '697,72', '2190', '1674,3', '1276,7', '2704,02', '1387,3', '716,44', '790,77', '605,32', '5910', '1070', '5140', '859,92', '1004,8', '1253,34', '1498,26', '1272,72', '2323,55', '2154,02', '1248,27', '957,63', '1302,38', '1090', '7790', '668,36', '2088,64', '2429,09', '100', '10640', '2590', '2122,45', '1169,82', '1910', '581,15', '2265,01', '2810', '1249,61', '946,49', '789,23', '1443,3', '455,59', '2398,8', '2647,9', '1889,43', '910,63', '1966,99', '728,49', '1672,88', '1312,44', '2599,29', '4510', '812,11', '762,93', '6740', '499,69', '852,48', '979,94', '1340,16', '1309,89', '1841,9', '1476,6', '684,89', '699,78', '1547,02', '839,79', '5340', '5108,38', '5030', '2900', '862,43', '2651,68', '849,91', '3700', '1320', '586', '1840,14', '2879,3', '3111,86', '4390', '1251,35', '3150', '596,16', '1241,71', '2440', '2343,41', '661,46', '2030', '1097,62', '1883,04', '553', '1909,16', '966,53', '5580', '1180,53', '4508,2', '289,02', '3749,07', '1537,71', '1624,72', '2157,89', '776,3', '2059,46', '1180,87', '1440', '1597,92', '2258,3', '1177,84', '2263,2', '490,88', '59,68', '1460', '4159,78', '1837,31', '110,91', '2247,08', '1250', '651,16', '2310', '1405,53', '4758,14', '1896,24', '481,51', '630', '2957,71', '2575,19', '450', '676,85', '1319,56', '710', '1986,88', '1639,94', '367,35', '1090,8', '1509,44', '746,57', '797,16', '3780', '3285,74', '1140', '1532,04', '3377,57', '988,44', '1519,64', '1980,6', '880,2', '580,49', '367', '187,35', '859,73', '760', '1860', '2361,22', '957,4', '837,74', '1477,37', '1480', '2590,15', '980', '1452', '658,42', '2992,64', '5110', '101,52', '2370', '1485,15', '5269,78', '1520', '1280', '963,12', '1102,7', '552,57', '7620', '1310', '1046,01', '1136,6', '3050', '183,13', '1479,51', '1010,27', '757,75', '1139,49', '976,68', '1800', '2760', '1965,32', '4160', '2290', '437,26', '3309,87', '620,18', '7840', '3138', '1408,32', '6689,82', '3971,6', '1007,8', '1840', '3080', '1259,1', '2816,25', '1375,39', '4850,2', '650', '2809,87', '1022,67', '1050', '1136,86', '1931,44', '327,98', '1296,74', '4000', '862,5', '1095,89', '3590', '1985,3', '269,51', '1387,15', '944,93', '1069,6', '1145,38', '983,28', '2064,82', '625,23', '706,48', '870', '1176,82', '4820', '3639,91', '4893,17', '1771,33', '1031,76', '2379,46', '1232,78', '1770', '1529,06', '3783,78', '1586,61', '1240,46', '1527,19', '1680', '3300', '630,8', '1260', '2430', '958,5', '918,28', '3140', '663,05', '1544,95', '2730', '1293,09', '438,19', '531,65', '865,1', '1351,06', '778,32', '739,93', '1116,49', '2320', '1085,5', '310', '3231,88', '1070,52', '1839,85', '590', '1010,55', '1570', '457,71', '1055,71', '2399,55', '1870', '908,78', '1830', '446,31', '2354,29', '1386,14', '500', '791,56', '567,51', '3870,25', '826,64', '2573,8', '1980', '526,43', '1300', '2779,29', '1939,61', '2979,13', '2084,32', '2550', '1311,85', '4380', '1446,55', '1242,57', '4610', '1350', '1200,99', '2540', '820,87', '1957,21', '1619,63', '1391,47', '3040', '2163,94', '1599,9', '3127,19', '640', '620,22', '1600', '1408,53', '1210', '2410', '3680', '2250,56', '1263', '572,22', '5040', '1007,63', '5974,67', '2372,77', '702,23', '3430', '2740', '1119,27', '3099,42', '990', '4920', '1097,86', '2467,33', '4140', '2707,64', '1210,94', '1185,5', '1506,39', '2650', '2750,86', '4263,14', '366,58', '712,12', '3410', '2547,85', '3400', '6041,86', '478,13', '145,92', '2758', '1729,66', '856,3', '1789,04', '790', '1609,47', '3390', '4056,11', '4420', '1700', '2016,7', '1930,47', '1430', '390', '1186,31', '1549,18', '2780', '429,11', '846,74', '1222,06', '7890', '1040,5', '1141,06', '1145,21', '2150', '1747,33', '473,16', '2349,51', '848,45', '6080', '1380', '929,39', '924,08', '727,79', '758,96', '3620', '2445,93', '1120,93', '1639,99', '2656,68', '95,79', '1154,9', '3170', '866', '1068,72', '84,07', '819,3', '1053,67', '2064,03', '1047,32', '2252,24', '1144,03', '4020', '3033,41', '554,36', '610', '559,94', '2497', '2193,63', '407,8', '4120', '1140,2', '1260,55', '472,11', '11460', '3520', '2620', '1094,85', '3863,72', '2287,02', '4446,3', '706,5', '5420', '1775,46', '965,1', '5752,98', '1740,19', '451,06', '2013,19', '1321,59', '6310', '1160,96', '2600', '732,62', '1630', '768,11', '1626,16', '1663,27', '9540', '6070', '1450,22', '1470', '1032,06', '2736,28', '1881,26', '749,05', '1403,64', '1745,7', '1456,85', '5397,15', '4370', '903,48', '3718,64', '2597,78', '2110', '6650', '3914,24', '3730', '1335,47', '1881,83', '631', '1171,65', '1961,35', '1810', '1790', '330', '875,2', '1670,18', '666,41', '1562,12', '2127,1', '177,34', '550', '2282,89', '1402,43', '3610', '49,35', '5170', '2732,2', '673,89', '3780,1', '1039,36', '1489,45', '762,16', '979,89', '37,5', '879,74', '662,13', '954,34', '2725', '2676,24', '1677,48', '2792,33', '3470', '1093,22', '2610', '2460', '502,1', '1426,72', '1136,44', '3970', '2706,39', '837,48', '212,25', '2157,32', '370', '1574,25', '460', '1370', '2260', '641,04', '2563,29', '3771,24', '3000', '0,04', '370,77', '520', '3201,95', '1504,79', '894,29', '7450', '891,95', '833,55', '540', '1068,47', '958,76', '840', '580', '1340', '1751,37', '265,55', '1467,05', '2064,08', '1196,43', '883,33', '2598,9', '2710', '623,69', '791,98', '1510', '2497,09', '444', '550,83', '776,59', '3770', '7369,77', '355,55', '2640', '1017,28', '957,59', '1848,05', '1239,08', '1040', '5401,67', '3910', '3299,1', '1045,89', '2240', '800', '2750', '3768,74', '1198,15', '1068,32', '2189,99', '549,88', '1060', '682', '988,85', '898,77', '940', '6550', '1094,09', '2281,1', '1591,94', '14870', '8570', '2429,5', '5075,99', '570', '4026,63', '830,53', '1244,53', '4350', '3231,2', '3280', '997,65', '2450', '1707,5', '3540', '903,66', '2409,2', '3220', '1112,57', '2144,77', '331', '502,2', '5650', '4387,48', '43,3', '3870', '1716,52', '1170', '2200', '1098,64', '2820', '1021,13', '603,55', '860', '831,23', '574,21'}\n",
      "\n"
     ]
    }
   ],
   "source": [
    "for i in all_data.columns: # перебираем все столбцы\n",
    "    if str(all_data[i].dtype) == 'object': # если тип столбца - object\n",
    "        print(i) # выводим название столбца\n",
    "        print(set(all_data[i])) # выводим все его значения (но делаем set - чтоб значения не повторялись)\n",
    "        print() # выводим пустую строку"
   ]
  },
  {
   "cell_type": "code",
   "execution_count": 22,
   "metadata": {
    "collapsed": true
   },
   "outputs": [],
   "source": [
    "# можно заметить что некоторые переменные, \n",
    "# которые обозначены как строки (например PERSONAL_INCOME) на самом деле числа,\n",
    "# но по какой-то (ниже увидим) причине были распознаны как строки"
   ]
  },
  {
   "cell_type": "code",
   "execution_count": 23,
   "metadata": {
    "collapsed": true
   },
   "outputs": [],
   "source": [
    "all_data['PERSONAL_INCOME'] = all_data['PERSONAL_INCOME'].map(lambda x: x.replace(',', '.')).astype('float')"
   ]
  },
  {
   "cell_type": "code",
   "execution_count": 24,
   "metadata": {
    "collapsed": true
   },
   "outputs": [],
   "source": [
    "# причина же что использовалась запятая для разделения не целой части числа"
   ]
  },
  {
   "cell_type": "code",
   "execution_count": 25,
   "metadata": {
    "collapsed": true
   },
   "outputs": [],
   "source": [
    "all_data['CREDIT'] = all_data['CREDIT'].map(lambda x: x.replace(',', '.')).astype('float')\n",
    "all_data['FST_PAYMENT'] = all_data['FST_PAYMENT'].map(lambda x: x.replace(',', '.')).astype('float')\n",
    "all_data['LOAN_AVG_DLQ_AMT'] = all_data['LOAN_AVG_DLQ_AMT'].map(lambda x: x.replace(',', '.')).astype('float')\n",
    "all_data['LOAN_MAX_DLQ_AMT'] = all_data['LOAN_MAX_DLQ_AMT'].map(lambda x: x.replace(',', '.')).astype('float')"
   ]
  },
  {
   "cell_type": "code",
   "execution_count": 27,
   "metadata": {},
   "outputs": [
    {
     "name": "stdout",
     "output_type": "stream",
     "text": [
      "<class 'pandas.core.frame.DataFrame'>\n",
      "RangeIndex: 30133 entries, 0 to 30132\n",
      "Data columns (total 51 columns):\n",
      "AGREEMENT_RK                  30133 non-null int64\n",
      "AGE                           30133 non-null int64\n",
      "SOCSTATUS_WORK_FL             30133 non-null int64\n",
      "SOCSTATUS_PENS_FL             30133 non-null int64\n",
      "GENDER                        30133 non-null int64\n",
      "CHILD_TOTAL                   30133 non-null int64\n",
      "DEPENDANTS                    30133 non-null int64\n",
      "EDUCATION                     30133 non-null object\n",
      "MARITAL_STATUS                30133 non-null object\n",
      "GEN_INDUSTRY                  27420 non-null object\n",
      "GEN_TITLE                     27420 non-null object\n",
      "ORG_TP_STATE                  27420 non-null object\n",
      "ORG_TP_FCAPITAL               27425 non-null object\n",
      "JOB_DIR                       27420 non-null object\n",
      "FAMILY_INCOME                 30133 non-null object\n",
      "PERSONAL_INCOME               30133 non-null float64\n",
      "REG_ADDRESS_PROVINCE          30133 non-null object\n",
      "FACT_ADDRESS_PROVINCE         30133 non-null object\n",
      "POSTAL_ADDRESS_PROVINCE       30133 non-null object\n",
      "TP_PROVINCE                   29543 non-null object\n",
      "REGION_NM                     30131 non-null object\n",
      "REG_FACT_FL                   30133 non-null int64\n",
      "FACT_POST_FL                  30133 non-null int64\n",
      "REG_POST_FL                   30133 non-null int64\n",
      "REG_FACT_POST_FL              30133 non-null int64\n",
      "REG_FACT_POST_TP_FL           30133 non-null int64\n",
      "FL_PRESENCE_FL                30133 non-null int64\n",
      "OWN_AUTO                      30133 non-null int64\n",
      "AUTO_RUS_FL                   30133 non-null int64\n",
      "HS_PRESENCE_FL                30133 non-null int64\n",
      "COT_PRESENCE_FL               30133 non-null int64\n",
      "GAR_PRESENCE_FL               30133 non-null int64\n",
      "LAND_PRESENCE_FL              30133 non-null int64\n",
      "CREDIT                        30133 non-null float64\n",
      "TERM                          30133 non-null int64\n",
      "FST_PAYMENT                   30133 non-null float64\n",
      "DL_DOCUMENT_FL                30133 non-null int64\n",
      "GPF_DOCUMENT_FL               30133 non-null int64\n",
      "FACT_LIVING_TERM              30133 non-null int64\n",
      "WORK_TIME                     27416 non-null float64\n",
      "FACT_PHONE_FL                 30133 non-null int64\n",
      "REG_PHONE_FL                  30133 non-null int64\n",
      "GEN_PHONE_FL                  30133 non-null int64\n",
      "LOAN_NUM_TOTAL                30133 non-null int64\n",
      "LOAN_NUM_CLOSED               30133 non-null int64\n",
      "LOAN_NUM_PAYM                 30133 non-null int64\n",
      "LOAN_DLQ_NUM                  30133 non-null int64\n",
      "LOAN_MAX_DLQ                  30133 non-null int64\n",
      "LOAN_AVG_DLQ_AMT              30133 non-null float64\n",
      "LOAN_MAX_DLQ_AMT              30133 non-null float64\n",
      "PREVIOUS_CARD_NUM_UTILIZED    600 non-null float64\n",
      "dtypes: float64(7), int64(31), object(13)\n",
      "memory usage: 11.7+ MB\n"
     ]
    }
   ],
   "source": [
    "all_data.info()"
   ]
  },
  {
   "cell_type": "code",
   "execution_count": 28,
   "metadata": {},
   "outputs": [
    {
     "data": {
      "text/html": [
       "<div>\n",
       "<style>\n",
       "    .dataframe thead tr:only-child th {\n",
       "        text-align: right;\n",
       "    }\n",
       "\n",
       "    .dataframe thead th {\n",
       "        text-align: left;\n",
       "    }\n",
       "\n",
       "    .dataframe tbody tr th {\n",
       "        vertical-align: top;\n",
       "    }\n",
       "</style>\n",
       "<table border=\"1\" class=\"dataframe\">\n",
       "  <thead>\n",
       "    <tr style=\"text-align: right;\">\n",
       "      <th></th>\n",
       "      <th>AGREEMENT_RK</th>\n",
       "      <th>AGE</th>\n",
       "      <th>SOCSTATUS_WORK_FL</th>\n",
       "      <th>SOCSTATUS_PENS_FL</th>\n",
       "      <th>GENDER</th>\n",
       "      <th>CHILD_TOTAL</th>\n",
       "      <th>DEPENDANTS</th>\n",
       "      <th>PERSONAL_INCOME</th>\n",
       "      <th>REG_FACT_FL</th>\n",
       "      <th>FACT_POST_FL</th>\n",
       "      <th>...</th>\n",
       "      <th>REG_PHONE_FL</th>\n",
       "      <th>GEN_PHONE_FL</th>\n",
       "      <th>LOAN_NUM_TOTAL</th>\n",
       "      <th>LOAN_NUM_CLOSED</th>\n",
       "      <th>LOAN_NUM_PAYM</th>\n",
       "      <th>LOAN_DLQ_NUM</th>\n",
       "      <th>LOAN_MAX_DLQ</th>\n",
       "      <th>LOAN_AVG_DLQ_AMT</th>\n",
       "      <th>LOAN_MAX_DLQ_AMT</th>\n",
       "      <th>PREVIOUS_CARD_NUM_UTILIZED</th>\n",
       "    </tr>\n",
       "  </thead>\n",
       "  <tbody>\n",
       "    <tr>\n",
       "      <th>count</th>\n",
       "      <td>3.013300e+04</td>\n",
       "      <td>30133.000000</td>\n",
       "      <td>30133.000000</td>\n",
       "      <td>30133.000000</td>\n",
       "      <td>30133.000000</td>\n",
       "      <td>30133.000000</td>\n",
       "      <td>30133.000000</td>\n",
       "      <td>3.013300e+04</td>\n",
       "      <td>30133.000000</td>\n",
       "      <td>30133.000000</td>\n",
       "      <td>...</td>\n",
       "      <td>30133.000000</td>\n",
       "      <td>30133.000000</td>\n",
       "      <td>30133.000000</td>\n",
       "      <td>30133.000000</td>\n",
       "      <td>30133.000000</td>\n",
       "      <td>30133.000000</td>\n",
       "      <td>30133.000000</td>\n",
       "      <td>30133.000000</td>\n",
       "      <td>30133.000000</td>\n",
       "      <td>600.000000</td>\n",
       "    </tr>\n",
       "    <tr>\n",
       "      <th>mean</th>\n",
       "      <td>6.540639e+07</td>\n",
       "      <td>40.424584</td>\n",
       "      <td>0.909136</td>\n",
       "      <td>0.133475</td>\n",
       "      <td>0.655295</td>\n",
       "      <td>1.094249</td>\n",
       "      <td>0.642684</td>\n",
       "      <td>1.424053e+04</td>\n",
       "      <td>0.836591</td>\n",
       "      <td>0.949092</td>\n",
       "      <td>...</td>\n",
       "      <td>0.056417</td>\n",
       "      <td>0.909866</td>\n",
       "      <td>1.390668</td>\n",
       "      <td>0.756878</td>\n",
       "      <td>7.891182</td>\n",
       "      <td>0.191518</td>\n",
       "      <td>0.128431</td>\n",
       "      <td>234.162329</td>\n",
       "      <td>238.090611</td>\n",
       "      <td>1.008333</td>\n",
       "    </tr>\n",
       "    <tr>\n",
       "      <th>std</th>\n",
       "      <td>4.575893e+06</td>\n",
       "      <td>11.614787</td>\n",
       "      <td>0.287420</td>\n",
       "      <td>0.340093</td>\n",
       "      <td>0.475280</td>\n",
       "      <td>0.987381</td>\n",
       "      <td>0.809184</td>\n",
       "      <td>7.532688e+04</td>\n",
       "      <td>0.369744</td>\n",
       "      <td>0.219813</td>\n",
       "      <td>...</td>\n",
       "      <td>0.230728</td>\n",
       "      <td>0.286378</td>\n",
       "      <td>0.800427</td>\n",
       "      <td>0.992219</td>\n",
       "      <td>7.982088</td>\n",
       "      <td>0.674972</td>\n",
       "      <td>0.351410</td>\n",
       "      <td>802.789679</td>\n",
       "      <td>813.779818</td>\n",
       "      <td>0.090982</td>\n",
       "    </tr>\n",
       "    <tr>\n",
       "      <th>min</th>\n",
       "      <td>5.990997e+07</td>\n",
       "      <td>21.000000</td>\n",
       "      <td>0.000000</td>\n",
       "      <td>0.000000</td>\n",
       "      <td>0.000000</td>\n",
       "      <td>0.000000</td>\n",
       "      <td>0.000000</td>\n",
       "      <td>2.400000e+01</td>\n",
       "      <td>0.000000</td>\n",
       "      <td>0.000000</td>\n",
       "      <td>...</td>\n",
       "      <td>0.000000</td>\n",
       "      <td>0.000000</td>\n",
       "      <td>1.000000</td>\n",
       "      <td>0.000000</td>\n",
       "      <td>1.000000</td>\n",
       "      <td>0.000000</td>\n",
       "      <td>0.000000</td>\n",
       "      <td>0.000000</td>\n",
       "      <td>0.000000</td>\n",
       "      <td>1.000000</td>\n",
       "    </tr>\n",
       "    <tr>\n",
       "      <th>25%</th>\n",
       "      <td>6.192101e+07</td>\n",
       "      <td>30.000000</td>\n",
       "      <td>1.000000</td>\n",
       "      <td>0.000000</td>\n",
       "      <td>0.000000</td>\n",
       "      <td>0.000000</td>\n",
       "      <td>0.000000</td>\n",
       "      <td>8.000000e+03</td>\n",
       "      <td>1.000000</td>\n",
       "      <td>1.000000</td>\n",
       "      <td>...</td>\n",
       "      <td>0.000000</td>\n",
       "      <td>1.000000</td>\n",
       "      <td>1.000000</td>\n",
       "      <td>0.000000</td>\n",
       "      <td>4.000000</td>\n",
       "      <td>0.000000</td>\n",
       "      <td>0.000000</td>\n",
       "      <td>0.000000</td>\n",
       "      <td>0.000000</td>\n",
       "      <td>1.000000</td>\n",
       "    </tr>\n",
       "    <tr>\n",
       "      <th>50%</th>\n",
       "      <td>6.436582e+07</td>\n",
       "      <td>39.000000</td>\n",
       "      <td>1.000000</td>\n",
       "      <td>0.000000</td>\n",
       "      <td>1.000000</td>\n",
       "      <td>1.000000</td>\n",
       "      <td>0.000000</td>\n",
       "      <td>1.200000e+04</td>\n",
       "      <td>1.000000</td>\n",
       "      <td>1.000000</td>\n",
       "      <td>...</td>\n",
       "      <td>0.000000</td>\n",
       "      <td>1.000000</td>\n",
       "      <td>1.000000</td>\n",
       "      <td>0.000000</td>\n",
       "      <td>5.000000</td>\n",
       "      <td>0.000000</td>\n",
       "      <td>0.000000</td>\n",
       "      <td>0.000000</td>\n",
       "      <td>0.000000</td>\n",
       "      <td>1.000000</td>\n",
       "    </tr>\n",
       "    <tr>\n",
       "      <th>75%</th>\n",
       "      <td>6.708611e+07</td>\n",
       "      <td>50.000000</td>\n",
       "      <td>1.000000</td>\n",
       "      <td>0.000000</td>\n",
       "      <td>1.000000</td>\n",
       "      <td>2.000000</td>\n",
       "      <td>1.000000</td>\n",
       "      <td>1.650000e+04</td>\n",
       "      <td>1.000000</td>\n",
       "      <td>1.000000</td>\n",
       "      <td>...</td>\n",
       "      <td>0.000000</td>\n",
       "      <td>1.000000</td>\n",
       "      <td>2.000000</td>\n",
       "      <td>1.000000</td>\n",
       "      <td>8.000000</td>\n",
       "      <td>0.000000</td>\n",
       "      <td>0.000000</td>\n",
       "      <td>0.000000</td>\n",
       "      <td>0.000000</td>\n",
       "      <td>1.000000</td>\n",
       "    </tr>\n",
       "    <tr>\n",
       "      <th>max</th>\n",
       "      <td>7.529224e+07</td>\n",
       "      <td>67.000000</td>\n",
       "      <td>1.000000</td>\n",
       "      <td>1.000000</td>\n",
       "      <td>1.000000</td>\n",
       "      <td>10.000000</td>\n",
       "      <td>7.000000</td>\n",
       "      <td>1.300000e+07</td>\n",
       "      <td>1.000000</td>\n",
       "      <td>1.000000</td>\n",
       "      <td>...</td>\n",
       "      <td>1.000000</td>\n",
       "      <td>1.000000</td>\n",
       "      <td>11.000000</td>\n",
       "      <td>11.000000</td>\n",
       "      <td>114.000000</td>\n",
       "      <td>13.000000</td>\n",
       "      <td>8.000000</td>\n",
       "      <td>28012.200000</td>\n",
       "      <td>28012.200000</td>\n",
       "      <td>2.000000</td>\n",
       "    </tr>\n",
       "  </tbody>\n",
       "</table>\n",
       "<p>8 rows × 38 columns</p>\n",
       "</div>"
      ],
      "text/plain": [
       "       AGREEMENT_RK           AGE  SOCSTATUS_WORK_FL  SOCSTATUS_PENS_FL  \\\n",
       "count  3.013300e+04  30133.000000       30133.000000       30133.000000   \n",
       "mean   6.540639e+07     40.424584           0.909136           0.133475   \n",
       "std    4.575893e+06     11.614787           0.287420           0.340093   \n",
       "min    5.990997e+07     21.000000           0.000000           0.000000   \n",
       "25%    6.192101e+07     30.000000           1.000000           0.000000   \n",
       "50%    6.436582e+07     39.000000           1.000000           0.000000   \n",
       "75%    6.708611e+07     50.000000           1.000000           0.000000   \n",
       "max    7.529224e+07     67.000000           1.000000           1.000000   \n",
       "\n",
       "             GENDER   CHILD_TOTAL    DEPENDANTS  PERSONAL_INCOME  \\\n",
       "count  30133.000000  30133.000000  30133.000000     3.013300e+04   \n",
       "mean       0.655295      1.094249      0.642684     1.424053e+04   \n",
       "std        0.475280      0.987381      0.809184     7.532688e+04   \n",
       "min        0.000000      0.000000      0.000000     2.400000e+01   \n",
       "25%        0.000000      0.000000      0.000000     8.000000e+03   \n",
       "50%        1.000000      1.000000      0.000000     1.200000e+04   \n",
       "75%        1.000000      2.000000      1.000000     1.650000e+04   \n",
       "max        1.000000     10.000000      7.000000     1.300000e+07   \n",
       "\n",
       "        REG_FACT_FL  FACT_POST_FL             ...              REG_PHONE_FL  \\\n",
       "count  30133.000000  30133.000000             ...              30133.000000   \n",
       "mean       0.836591      0.949092             ...                  0.056417   \n",
       "std        0.369744      0.219813             ...                  0.230728   \n",
       "min        0.000000      0.000000             ...                  0.000000   \n",
       "25%        1.000000      1.000000             ...                  0.000000   \n",
       "50%        1.000000      1.000000             ...                  0.000000   \n",
       "75%        1.000000      1.000000             ...                  0.000000   \n",
       "max        1.000000      1.000000             ...                  1.000000   \n",
       "\n",
       "       GEN_PHONE_FL  LOAN_NUM_TOTAL  LOAN_NUM_CLOSED  LOAN_NUM_PAYM  \\\n",
       "count  30133.000000    30133.000000     30133.000000   30133.000000   \n",
       "mean       0.909866        1.390668         0.756878       7.891182   \n",
       "std        0.286378        0.800427         0.992219       7.982088   \n",
       "min        0.000000        1.000000         0.000000       1.000000   \n",
       "25%        1.000000        1.000000         0.000000       4.000000   \n",
       "50%        1.000000        1.000000         0.000000       5.000000   \n",
       "75%        1.000000        2.000000         1.000000       8.000000   \n",
       "max        1.000000       11.000000        11.000000     114.000000   \n",
       "\n",
       "       LOAN_DLQ_NUM  LOAN_MAX_DLQ  LOAN_AVG_DLQ_AMT  LOAN_MAX_DLQ_AMT  \\\n",
       "count  30133.000000  30133.000000      30133.000000      30133.000000   \n",
       "mean       0.191518      0.128431        234.162329        238.090611   \n",
       "std        0.674972      0.351410        802.789679        813.779818   \n",
       "min        0.000000      0.000000          0.000000          0.000000   \n",
       "25%        0.000000      0.000000          0.000000          0.000000   \n",
       "50%        0.000000      0.000000          0.000000          0.000000   \n",
       "75%        0.000000      0.000000          0.000000          0.000000   \n",
       "max       13.000000      8.000000      28012.200000      28012.200000   \n",
       "\n",
       "       PREVIOUS_CARD_NUM_UTILIZED  \n",
       "count                  600.000000  \n",
       "mean                     1.008333  \n",
       "std                      0.090982  \n",
       "min                      1.000000  \n",
       "25%                      1.000000  \n",
       "50%                      1.000000  \n",
       "75%                      1.000000  \n",
       "max                      2.000000  \n",
       "\n",
       "[8 rows x 38 columns]"
      ]
     },
     "execution_count": 28,
     "metadata": {},
     "output_type": "execute_result"
    }
   ],
   "source": [
    "all_data.describe()"
   ]
  },
  {
   "cell_type": "code",
   "execution_count": 29,
   "metadata": {
    "collapsed": true
   },
   "outputs": [],
   "source": [
    "# запускаем повторно код и смотрим, какие столбцы с какими строковыми значениями остались"
   ]
  },
  {
   "cell_type": "code",
   "execution_count": 30,
   "metadata": {},
   "outputs": [
    {
     "name": "stdout",
     "output_type": "stream",
     "text": [
      "EDUCATION\n",
      "{'Неоконченное высшее', 'Ученая степень', 'Высшее', 'Два и более высших образования', 'Среднее специальное', 'Неполное среднее', 'Среднее'}\n",
      "\n",
      "MARITAL_STATUS\n",
      "{'Гражданский брак', 'Вдовец/Вдова', 'Состою в браке', 'Не состоял в браке', 'Разведен(а)'}\n",
      "\n",
      "GEN_INDUSTRY\n",
      "{nan, 'Недвижимость', 'Другие сферы', 'Энергетика', 'Туризм', 'Коммунальное хоз-во/Дорожные службы', 'Банк/Финансы', 'Информационные технологии', 'Информационные услуги', 'Государственная служба', 'Металлургия/Промышленность/Машиностроение', 'Ресторанный бизнес/Общественное питание', 'Строительство', 'СМИ/Реклама/PR-агенства', 'Маркетинг', 'Химия/Парфюмерия/Фармацевтика', 'Салоны красоты и здоровья', 'Логистика', 'Управляющая компания', 'Подбор персонала', 'Нефтегазовая промышленность', 'Торговля', 'Образование', 'Юридические услуги/нотариальные услуги', 'Развлечения/Искусство', 'Наука', 'Здравоохранение', 'ЧОП/Детективная д-ть', 'Сборочные производства', 'Транспорт', 'Страхование', 'Сельское хозяйство'}\n",
      "\n",
      "GEN_TITLE\n",
      "{nan, 'Индивидуальный предприниматель', 'Специалист', 'Руководитель среднего звена', 'Военнослужащий по контракту', 'Высококвалифиц. специалист', 'Руководитель низшего звена', 'Работник сферы услуг', 'Руководитель высшего звена', 'Рабочий', 'Другое', 'Партнер', 'Служащий'}\n",
      "\n",
      "ORG_TP_STATE\n",
      "{nan, 'Индивидуальный предприниматель', 'Частная компания', 'Частная ком. с инос. капиталом', 'Государственная комп./учреж.', 'Некоммерческая организация'}\n",
      "\n",
      "ORG_TP_FCAPITAL\n",
      "{nan, 'С участием', 'Без участия'}\n",
      "\n",
      "JOB_DIR\n",
      "{nan, 'Бухгалтерия, финансы, планир.', 'Служба безопасности', 'Снабжение и сбыт', 'Реклама и маркетинг', 'Пр-техн. обесп. и телеком.', 'Юридическая служба', 'Участие в основ. деятельности', 'Вспомогательный техперсонал', 'Кадровая служба и секретариат', 'Адм-хоз. и трансп. службы'}\n",
      "\n",
      "FAMILY_INCOME\n",
      "{'свыше 50000 руб.', 'от 10000 до 20000 руб.', 'до 5000 руб.', 'от 20000 до 50000 руб.', 'от 5000 до 10000 руб.'}\n",
      "\n",
      "REG_ADDRESS_PROVINCE\n",
      "{'Калужская область', 'Ростовская область', 'Волгоградская область', 'Татарстан', 'Курганская область', 'Марийская республика', 'Московская область', 'Усть-Ордынский Бурятский АО', 'Якутия', 'Пензенская область', 'Ульяновская область', 'Рязанская область', 'Белгородская область', 'Бурятия', 'Оренбургская область', 'Тульская область', 'Санкт-Петербург', 'Читинская область', 'Адыгея', 'Новосибирская область', 'Хабаровский край', 'Хакасия', 'Алтайский край', 'Тверская область', 'Камчатская область', 'Мордовская республика', 'Нижегородская область', 'Кировская область', 'Калининградская область', 'Карачаево-Черкесия', 'Ленинградская область', 'Владимирская область', 'Северная Осетия', 'Эвенкийский АО', 'Новгородская область', 'Коми', 'Смоленская область', 'Сахалинская область', 'Москва', 'Кабардино-Балкария', 'Ивановская область', 'Вологодская область', 'Омская область', 'Брянская область', 'Удмуртия', 'Саратовская область', 'Чувашия', 'Костромская область', 'Горный Алтай', 'Башкирия', 'Ханты-Мансийский АО', 'Челябинская область', 'Дагестан', 'Свердловская область', 'Карелия', 'Астраханская область', 'Тюменская область', 'Ямало-Ненецкий АО', 'Приморский край', 'Агинский Бурятский АО', 'Коми-Пермяцкий АО', 'Краснодарский край', 'Кемеровская область', 'Ставропольский край', 'Калмыкия', 'Тамбовская область', 'Красноярский край', 'Архангельская область', 'Псковская область', 'Орловская область', 'Самарская область', 'Магаданская область', 'Мурманская область', 'Ярославская область', 'Воронежская область', 'Курская область', 'Иркутская область', 'Пермская область', 'Томская область', 'Еврейская АО', 'Липецкая область', 'Амурская область'}\n",
      "\n",
      "FACT_ADDRESS_PROVINCE\n",
      "{'Калужская область', 'Ростовская область', 'Волгоградская область', 'Татарстан', 'Курганская область', 'Марийская республика', 'Московская область', 'Усть-Ордынский Бурятский АО', 'Якутия', 'Пензенская область', 'Ульяновская область', 'Рязанская область', 'Белгородская область', 'Бурятия', 'Оренбургская область', 'Дагестан', 'Тульская область', 'Санкт-Петербург', 'Читинская область', 'Адыгея', 'Новосибирская область', 'Хабаровский край', 'Хакасия', 'Алтайский край', 'Тверская область', 'Камчатская область', 'Мордовская республика', 'Нижегородская область', 'Кировская область', 'Калининградская область', 'Карачаево-Черкесия', 'Ленинградская область', 'Владимирская область', 'Эвенкийский АО', 'Новгородская область', 'Коми', 'Смоленская область', 'Сахалинская область', 'Москва', 'Кабардино-Балкария', 'Ивановская область', 'Вологодская область', 'Омская область', 'Брянская область', 'Удмуртия', 'Саратовская область', 'Чувашия', 'Костромская область', 'Горный Алтай', 'Башкирия', 'Ханты-Мансийский АО', 'Челябинская область', 'Северная Осетия', 'Свердловская область', 'Карелия', 'Астраханская область', 'Тюменская область', 'Ямало-Ненецкий АО', 'Приморский край', 'Агинский Бурятский АО', 'Коми-Пермяцкий АО', 'Краснодарский край', 'Кемеровская область', 'Ставропольский край', 'Калмыкия', 'Тамбовская область', 'Чечня', 'Красноярский край', 'Архангельская область', 'Псковская область', 'Орловская область', 'Самарская область', 'Магаданская область', 'Мурманская область', 'Ярославская область', 'Воронежская область', 'Курская область', 'Иркутская область', 'Пермская область', 'Томская область', 'Еврейская АО', 'Липецкая область', 'Амурская область'}\n",
      "\n",
      "POSTAL_ADDRESS_PROVINCE\n",
      "{'Калужская область', 'Ростовская область', 'Волгоградская область', 'Татарстан', 'Курганская область', 'Марийская республика', 'Московская область', 'Усть-Ордынский Бурятский АО', 'Якутия', 'Пензенская область', 'Ульяновская область', 'Рязанская область', 'Белгородская область', 'Бурятия', 'Оренбургская область', 'Дагестан', 'Тульская область', 'Санкт-Петербург', 'Читинская область', 'Адыгея', 'Новосибирская область', 'Хабаровский край', 'Хакасия', 'Алтайский край', 'Тверская область', 'Камчатская область', 'Мордовская республика', 'Нижегородская область', 'Кировская область', 'Калининградская область', 'Карачаево-Черкесия', 'Ленинградская область', 'Владимирская область', 'Эвенкийский АО', 'Новгородская область', 'Коми', 'Смоленская область', 'Сахалинская область', 'Москва', 'Кабардино-Балкария', 'Ивановская область', 'Вологодская область', 'Омская область', 'Брянская область', 'Удмуртия', 'Саратовская область', 'Чувашия', 'Костромская область', 'Горный Алтай', 'Башкирия', 'Ханты-Мансийский АО', 'Челябинская область', 'Северная Осетия', 'Свердловская область', 'Карелия', 'Астраханская область', 'Тюменская область', 'Ямало-Ненецкий АО', 'Приморский край', 'Агинский Бурятский АО', 'Коми-Пермяцкий АО', 'Краснодарский край', 'Кемеровская область', 'Ставропольский край', 'Калмыкия', 'Тамбовская область', 'Красноярский край', 'Архангельская область', 'Псковская область', 'Орловская область', 'Самарская область', 'Магаданская область', 'Мурманская область', 'Ярославская область', 'Воронежская область', 'Курская область', 'Иркутская область', 'Пермская область', 'Томская область', 'Еврейская АО', 'Липецкая область', 'Амурская область'}\n",
      "\n",
      "TP_PROVINCE\n",
      "{'Калужская область', 'Ростовская область', 'Волгоградская область', nan, 'Татарстан', 'Курганская область', 'Марийская республика', 'Якутия', 'Пензенская область', 'Ульяновская область', 'Рязанская область', 'Белгородская область', 'Бурятия', 'Оренбургская область', 'Санкт-Петербург', 'Тульская область', 'Читинская область', 'Адыгея', 'Новосибирская область', 'Хабаровский край', 'Нижегородская область', 'Алтайский край', 'Тверская область', 'Камчатская область', 'Мордовская республика', 'Калининградская область', 'Кировская область', 'Владимирская область', 'Новгородская область', 'Коми', 'Смоленская область', 'Сахалинская область', 'Москва', 'Ивановская область', 'Горный Алтай', 'Вологодская область', 'Омская область', 'Брянская область', 'Удмуртия', 'Саратовская область', 'Чувашия', 'Костромская область', 'Кабардино-Балкария', 'Башкирия', 'Ханты-Мансийский АО', 'Челябинская область', 'Свердловская область', 'Карелия', 'Астраханская область', 'Тюменская область', 'Приморский край', 'Краснодарский край', 'Кемеровская область', 'Ставропольский край', 'Тамбовская область', 'Красноярский край', 'Архангельская область', 'Псковская область', 'Орловская область', 'Самарская область', 'Магаданская область', 'Мурманская область', 'Ярославская область', 'Воронежская область', 'Курская область', 'Иркутская область', 'Пермская область', 'Томская область', 'Еврейская АО', 'Липецкая область', 'Амурская область'}\n",
      "\n",
      "REGION_NM\n",
      "{'ЦЕНТРАЛЬНЫЙ ОФИС', nan, 'ЦЕНТРАЛЬНЫЙ 1', 'ДАЛЬНЕВОСТОЧНЫЙ', 'ПОВОЛЖСКИЙ', 'ЦЕНТРАЛЬНЫЙ 2', 'ЮЖНЫЙ', 'УРАЛЬСКИЙ', 'ЗАПАДНО-СИБИРСКИЙ', 'СЕВЕРО-ЗАПАДНЫЙ', 'ВОСТОЧНО-СИБИРСКИЙ', 'ПРИВОЛЖСКИЙ'}\n",
      "\n"
     ]
    }
   ],
   "source": [
    "for i in all_data.columns:\n",
    "    if str(all_data[i].dtype) == 'object':\n",
    "        print(i)\n",
    "        print(set(all_data[i]))\n",
    "        print()"
   ]
  },
  {
   "cell_type": "code",
   "execution_count": 31,
   "metadata": {},
   "outputs": [
    {
     "name": "stdout",
     "output_type": "stream",
     "text": [
      "EDUCATION\n",
      "MARITAL_STATUS\n",
      "GEN_INDUSTRY\n",
      "GEN_TITLE\n",
      "ORG_TP_STATE\n",
      "ORG_TP_FCAPITAL\n",
      "JOB_DIR\n",
      "FAMILY_INCOME\n",
      "REG_ADDRESS_PROVINCE\n",
      "FACT_ADDRESS_PROVINCE\n",
      "POSTAL_ADDRESS_PROVINCE\n",
      "TP_PROVINCE\n",
      "REGION_NM\n"
     ]
    }
   ],
   "source": [
    "#выводим только название колонок\n",
    "for i in all_data.columns:\n",
    "    if str(all_data[i].dtype) == 'object':\n",
    "        print(i)\n"
   ]
  },
  {
   "cell_type": "markdown",
   "metadata": {},
   "source": [
    "# Данные готовы, теперь вам предлагается начать решать задачу"
   ]
  },
  {
   "cell_type": "code",
   "execution_count": 32,
   "metadata": {
    "collapsed": true
   },
   "outputs": [],
   "source": [
    "# Есть ли пропуски в данных? что с ними сделать?\n",
    "\n",
    "# Ваш код :-)\n",
    "all_data.WORK_TIME = all_data.WORK_TIME.fillna(0)\n",
    "all_data.PREVIOUS_CARD_NUM_UTILIZED = all_data.PREVIOUS_CARD_NUM_UTILIZED.fillna(0)"
   ]
  },
  {
   "cell_type": "code",
   "execution_count": 196,
   "metadata": {
    "collapsed": true
   },
   "outputs": [],
   "source": [
    "#заменяем все пустые значения на нули - почему это не сработало?\n",
    "#all_data.update(\n",
    "#    all_data.loc[\n",
    "#        (all_data['PREVIOUS_CARD_NUM_UTILIZED'].isnull()), 'PREVIOUS_CARD_NUM_UTILIZED'\n",
    "#    ].fillna(0)\n",
    "#)"
   ]
  },
  {
   "cell_type": "code",
   "execution_count": 197,
   "metadata": {
    "collapsed": true
   },
   "outputs": [],
   "source": [
    "#заменяем все пустые значения, если статус работы = 0 (т.к не работает) на 0 - почему это не сработало?\n",
    "#all_data[\n",
    "#    all_data['WORK_TIME'].isnull() & (all_data['SOCSTATUS_WORK_FL'] == 0) \n",
    "#] = 0 "
   ]
  },
  {
   "cell_type": "code",
   "execution_count": 33,
   "metadata": {},
   "outputs": [
    {
     "name": "stdout",
     "output_type": "stream",
     "text": [
      "<class 'pandas.core.frame.DataFrame'>\n",
      "RangeIndex: 30133 entries, 0 to 30132\n",
      "Data columns (total 51 columns):\n",
      "AGREEMENT_RK                  30133 non-null int64\n",
      "AGE                           30133 non-null int64\n",
      "SOCSTATUS_WORK_FL             30133 non-null int64\n",
      "SOCSTATUS_PENS_FL             30133 non-null int64\n",
      "GENDER                        30133 non-null int64\n",
      "CHILD_TOTAL                   30133 non-null int64\n",
      "DEPENDANTS                    30133 non-null int64\n",
      "EDUCATION                     30133 non-null object\n",
      "MARITAL_STATUS                30133 non-null object\n",
      "GEN_INDUSTRY                  27420 non-null object\n",
      "GEN_TITLE                     27420 non-null object\n",
      "ORG_TP_STATE                  27420 non-null object\n",
      "ORG_TP_FCAPITAL               27425 non-null object\n",
      "JOB_DIR                       27420 non-null object\n",
      "FAMILY_INCOME                 30133 non-null object\n",
      "PERSONAL_INCOME               30133 non-null float64\n",
      "REG_ADDRESS_PROVINCE          30133 non-null object\n",
      "FACT_ADDRESS_PROVINCE         30133 non-null object\n",
      "POSTAL_ADDRESS_PROVINCE       30133 non-null object\n",
      "TP_PROVINCE                   29543 non-null object\n",
      "REGION_NM                     30131 non-null object\n",
      "REG_FACT_FL                   30133 non-null int64\n",
      "FACT_POST_FL                  30133 non-null int64\n",
      "REG_POST_FL                   30133 non-null int64\n",
      "REG_FACT_POST_FL              30133 non-null int64\n",
      "REG_FACT_POST_TP_FL           30133 non-null int64\n",
      "FL_PRESENCE_FL                30133 non-null int64\n",
      "OWN_AUTO                      30133 non-null int64\n",
      "AUTO_RUS_FL                   30133 non-null int64\n",
      "HS_PRESENCE_FL                30133 non-null int64\n",
      "COT_PRESENCE_FL               30133 non-null int64\n",
      "GAR_PRESENCE_FL               30133 non-null int64\n",
      "LAND_PRESENCE_FL              30133 non-null int64\n",
      "CREDIT                        30133 non-null float64\n",
      "TERM                          30133 non-null int64\n",
      "FST_PAYMENT                   30133 non-null float64\n",
      "DL_DOCUMENT_FL                30133 non-null int64\n",
      "GPF_DOCUMENT_FL               30133 non-null int64\n",
      "FACT_LIVING_TERM              30133 non-null int64\n",
      "WORK_TIME                     30133 non-null float64\n",
      "FACT_PHONE_FL                 30133 non-null int64\n",
      "REG_PHONE_FL                  30133 non-null int64\n",
      "GEN_PHONE_FL                  30133 non-null int64\n",
      "LOAN_NUM_TOTAL                30133 non-null int64\n",
      "LOAN_NUM_CLOSED               30133 non-null int64\n",
      "LOAN_NUM_PAYM                 30133 non-null int64\n",
      "LOAN_DLQ_NUM                  30133 non-null int64\n",
      "LOAN_MAX_DLQ                  30133 non-null int64\n",
      "LOAN_AVG_DLQ_AMT              30133 non-null float64\n",
      "LOAN_MAX_DLQ_AMT              30133 non-null float64\n",
      "PREVIOUS_CARD_NUM_UTILIZED    30133 non-null float64\n",
      "dtypes: float64(7), int64(31), object(13)\n",
      "memory usage: 11.7+ MB\n"
     ]
    }
   ],
   "source": [
    "all_data.info()"
   ]
  },
  {
   "cell_type": "code",
   "execution_count": 103,
   "metadata": {
    "collapsed": true
   },
   "outputs": [],
   "source": [
    "# Как поступить со строковыми переменными?\n",
    "\n",
    "# Ваш код :-)\n"
   ]
  },
  {
   "cell_type": "code",
   "execution_count": 34,
   "metadata": {
    "collapsed": true
   },
   "outputs": [],
   "source": [
    "#удаляем строковые переменные (я хочу их кодировать - но не умею)\n",
    "all_data = all_data.drop(['EDUCATION',\n",
    "                          'FACT_ADDRESS_PROVINCE',\n",
    "                          'FAMILY_INCOME',\n",
    "                          'GEN_INDUSTRY',\n",
    "                          'GEN_TITLE',\n",
    "                          'JOB_DIR',\n",
    "                          'MARITAL_STATUS',\n",
    "                          'ORG_TP_FCAPITAL',\n",
    "                          'ORG_TP_STATE',\n",
    "                          'POSTAL_ADDRESS_PROVINCE',\n",
    "                          'REGION_NM',\n",
    "                          'REG_ADDRESS_PROVINCE',\n",
    "                          'TP_PROVINCE',\n",
    "                         ], axis=1)"
   ]
  },
  {
   "cell_type": "code",
   "execution_count": 35,
   "metadata": {},
   "outputs": [
    {
     "name": "stdout",
     "output_type": "stream",
     "text": [
      "<class 'pandas.core.frame.DataFrame'>\n",
      "RangeIndex: 30133 entries, 0 to 30132\n",
      "Data columns (total 38 columns):\n",
      "AGREEMENT_RK                  30133 non-null int64\n",
      "AGE                           30133 non-null int64\n",
      "SOCSTATUS_WORK_FL             30133 non-null int64\n",
      "SOCSTATUS_PENS_FL             30133 non-null int64\n",
      "GENDER                        30133 non-null int64\n",
      "CHILD_TOTAL                   30133 non-null int64\n",
      "DEPENDANTS                    30133 non-null int64\n",
      "PERSONAL_INCOME               30133 non-null float64\n",
      "REG_FACT_FL                   30133 non-null int64\n",
      "FACT_POST_FL                  30133 non-null int64\n",
      "REG_POST_FL                   30133 non-null int64\n",
      "REG_FACT_POST_FL              30133 non-null int64\n",
      "REG_FACT_POST_TP_FL           30133 non-null int64\n",
      "FL_PRESENCE_FL                30133 non-null int64\n",
      "OWN_AUTO                      30133 non-null int64\n",
      "AUTO_RUS_FL                   30133 non-null int64\n",
      "HS_PRESENCE_FL                30133 non-null int64\n",
      "COT_PRESENCE_FL               30133 non-null int64\n",
      "GAR_PRESENCE_FL               30133 non-null int64\n",
      "LAND_PRESENCE_FL              30133 non-null int64\n",
      "CREDIT                        30133 non-null float64\n",
      "TERM                          30133 non-null int64\n",
      "FST_PAYMENT                   30133 non-null float64\n",
      "DL_DOCUMENT_FL                30133 non-null int64\n",
      "GPF_DOCUMENT_FL               30133 non-null int64\n",
      "FACT_LIVING_TERM              30133 non-null int64\n",
      "WORK_TIME                     30133 non-null float64\n",
      "FACT_PHONE_FL                 30133 non-null int64\n",
      "REG_PHONE_FL                  30133 non-null int64\n",
      "GEN_PHONE_FL                  30133 non-null int64\n",
      "LOAN_NUM_TOTAL                30133 non-null int64\n",
      "LOAN_NUM_CLOSED               30133 non-null int64\n",
      "LOAN_NUM_PAYM                 30133 non-null int64\n",
      "LOAN_DLQ_NUM                  30133 non-null int64\n",
      "LOAN_MAX_DLQ                  30133 non-null int64\n",
      "LOAN_AVG_DLQ_AMT              30133 non-null float64\n",
      "LOAN_MAX_DLQ_AMT              30133 non-null float64\n",
      "PREVIOUS_CARD_NUM_UTILIZED    30133 non-null float64\n",
      "dtypes: float64(7), int64(31)\n",
      "memory usage: 8.7 MB\n"
     ]
    }
   ],
   "source": [
    "#проверяем, что все нулевые значения заполненны, или удалены\n",
    "#проверяем, что все строковые переменные вырезанны \n",
    "all_data.info()"
   ]
  },
  {
   "cell_type": "code",
   "execution_count": 106,
   "metadata": {
    "collapsed": true
   },
   "outputs": [],
   "source": [
    "# В итоге должны получиться данные без пропусков и только числовые"
   ]
  },
  {
   "cell_type": "code",
   "execution_count": 107,
   "metadata": {
    "collapsed": true
   },
   "outputs": [],
   "source": [
    "# Вновь разделите на train и test (не мешая)\n",
    "\n",
    "# Ваш код :-)\n"
   ]
  },
  {
   "cell_type": "code",
   "execution_count": 36,
   "metadata": {
    "collapsed": true
   },
   "outputs": [],
   "source": [
    "#создала в новую переменную, чтобы все с нуля не начинать, если не получится разделить\n",
    "t = all_data"
   ]
  },
  {
   "cell_type": "code",
   "execution_count": 37,
   "metadata": {
    "collapsed": true
   },
   "outputs": [],
   "source": [
    "train = t.iloc[:15223]"
   ]
  },
  {
   "cell_type": "code",
   "execution_count": 38,
   "metadata": {},
   "outputs": [
    {
     "data": {
      "text/plain": [
       "(15223, 38)"
      ]
     },
     "execution_count": 38,
     "metadata": {},
     "output_type": "execute_result"
    }
   ],
   "source": [
    "train.shape"
   ]
  },
  {
   "cell_type": "code",
   "execution_count": 39,
   "metadata": {
    "collapsed": true
   },
   "outputs": [],
   "source": [
    "test = t.iloc[-14910:]"
   ]
  },
  {
   "cell_type": "code",
   "execution_count": 40,
   "metadata": {},
   "outputs": [
    {
     "data": {
      "text/plain": [
       "(14910, 38)"
      ]
     },
     "execution_count": 40,
     "metadata": {},
     "output_type": "execute_result"
    }
   ],
   "source": [
    "test.shape"
   ]
  },
  {
   "cell_type": "code",
   "execution_count": 45,
   "metadata": {
    "collapsed": true
   },
   "outputs": [],
   "source": [
    "import sklearn"
   ]
  },
  {
   "cell_type": "code",
   "execution_count": 46,
   "metadata": {},
   "outputs": [],
   "source": [
    "# Сделать hold-out sampling на train выборке\n",
    "from sklearn.cross_validation import train_test_split\n",
    "\n",
    "# test_size=0.3, random_state=42\n",
    "\n",
    "# Ваш код :-)\n"
   ]
  },
  {
   "cell_type": "code",
   "execution_count": 47,
   "metadata": {
    "collapsed": true
   },
   "outputs": [],
   "source": [
    "from sklearn.cross_validation import train_test_split\n",
    "X_train, X_test, y_train, y_test = train_test_split(train, y, test_size=0.33, random_state=42)"
   ]
  },
  {
   "cell_type": "code",
   "execution_count": 48,
   "metadata": {
    "collapsed": true
   },
   "outputs": [],
   "source": [
    "# Попробовать следующие \"черные ящики\": интерфейс одинаковый \n",
    "#     fit, \n",
    "#     predict, \n",
    "#     predict_proba\n",
    "\n",
    "# Посчитать метрики стандартные\n",
    "# accuracy, precision, recall\n",
    "\n",
    "# Ваш код :-)\n",
    "\n",
    "from sklearn.tree import DecisionTreeClassifier\n",
    "from sklearn.ensemble import RandomForestClassifier\n",
    "from sklearn.linear_model import LogisticRegression\n",
    "from sklearn.metrics import precision_score, recall_score\n",
    "from sklearn.metrics import accuracy_score, f1_score\n",
    "from sklearn.metrics import roc_auc_score, roc_curve\n",
    "from sklearn.metrics import precision_recall_curve\n",
    "from sklearn.cross_validation import cross_val_score\n",
    "# Ваш код :-)"
   ]
  },
  {
   "cell_type": "code",
   "execution_count": 49,
   "metadata": {},
   "outputs": [
    {
     "name": "stdout",
     "output_type": "stream",
     "text": [
      "precision_dtc 0.19373219373219372\n",
      "recall_dtc 0.22295081967213115\n",
      "accuracy_dtc 0.7929936305732485\n",
      "f1_dtc 0.2073170731707317\n"
     ]
    }
   ],
   "source": [
    "#деревья решений DecisionTreeClassifier  - черный ящик \n",
    "from sklearn.tree import DecisionTreeClassifier\n",
    "dtc = DecisionTreeClassifier()\n",
    "dtc.fit(X_train, y_train)\n",
    "predict_dtc = dtc.predict(X_test)\n",
    "\n",
    "print('precision_dtc', precision_score(y_test, predict_dtc))\n",
    "print('recall_dtc', recall_score(y_test, predict_dtc))\n",
    "print('accuracy_dtc', accuracy_score(y_test, predict_dtc))\n",
    "print('f1_dtc', f1_score(y_test, predict_dtc))\n"
   ]
  },
  {
   "cell_type": "code",
   "execution_count": 50,
   "metadata": {
    "collapsed": true
   },
   "outputs": [],
   "source": [
    "#по вероятности\n",
    "\n",
    "from sklearn.tree import DecisionTreeClassifier\n",
    "dtc = DecisionTreeClassifier()\n",
    "dtc.fit(X_train, y_train)\n",
    "predict_dtc_proba = dtc.predict_proba(X_test)\n"
   ]
  },
  {
   "cell_type": "code",
   "execution_count": 51,
   "metadata": {},
   "outputs": [
    {
     "data": {
      "text/plain": [
       "array([[1., 0.],\n",
       "       [1., 0.],\n",
       "       [1., 0.],\n",
       "       ...,\n",
       "       [1., 0.],\n",
       "       [1., 0.],\n",
       "       [1., 0.]])"
      ]
     },
     "execution_count": 51,
     "metadata": {},
     "output_type": "execute_result"
    }
   ],
   "source": [
    "predict_dtc_proba"
   ]
  },
  {
   "cell_type": "code",
   "execution_count": 52,
   "metadata": {},
   "outputs": [
    {
     "data": {
      "text/plain": [
       "0.5425501571007301"
      ]
     },
     "execution_count": 52,
     "metadata": {},
     "output_type": "execute_result"
    }
   ],
   "source": [
    "#roc_auc для DecisionTreeClassifier\n",
    "precision_dtc_proba, recall_dtc_proba, thresholds_dtc_proba = precision_recall_curve(y_test, predict_dtc_proba[:, 1])\n",
    "roc_auc_score(y_test, predict_dtc_proba[:,1])"
   ]
  },
  {
   "cell_type": "code",
   "execution_count": 53,
   "metadata": {},
   "outputs": [
    {
     "name": "stdout",
     "output_type": "stream",
     "text": [
      "precision_rfc 0.2647058823529412\n",
      "recall_rfc 0.014754098360655738\n",
      "accuracy_rfc 0.8753980891719745\n",
      "f1_rfc 0.027950310559006215\n"
     ]
    }
   ],
   "source": [
    "# RandomForestClassifier  - черный ящик \n",
    "from sklearn.ensemble import RandomForestClassifier\n",
    "rfc = RandomForestClassifier()\n",
    "rfc.fit(X_train, y_train)\n",
    "predict_rfc = rfc.predict(X_test)\n",
    "\n",
    "print('precision_rfc', precision_score(y_test, predict_rfc))\n",
    "print('recall_rfc', recall_score(y_test, predict_rfc))\n",
    "print('accuracy_rfc', accuracy_score(y_test, predict_rfc))\n",
    "print('f1_rfc', f1_score(y_test, predict_rfc))"
   ]
  },
  {
   "cell_type": "code",
   "execution_count": 54,
   "metadata": {
    "collapsed": true
   },
   "outputs": [],
   "source": [
    "# RandomForestClassifier  - черный ящик  с вероятностями\n",
    "dtc = RandomForestClassifier()\n",
    "rfc.fit(X_train, y_train)\n",
    "predict_rfc_proba = rfc.predict_proba(X_test)"
   ]
  },
  {
   "cell_type": "code",
   "execution_count": 55,
   "metadata": {},
   "outputs": [
    {
     "data": {
      "text/plain": [
       "0.6120635162337421"
      ]
     },
     "execution_count": 55,
     "metadata": {},
     "output_type": "execute_result"
    }
   ],
   "source": [
    "#roc_auc для RandomForestClassifier\n",
    "precision_rfc_proba, recall_rfc_proba, thresholds_rfc_proba = precision_recall_curve(y_test, predict_rfc_proba[:, 1])\n",
    "roc_auc_score(y_test, predict_rfc_proba[:,1])"
   ]
  },
  {
   "cell_type": "code",
   "execution_count": 56,
   "metadata": {
    "collapsed": true
   },
   "outputs": [],
   "source": [
    "#вариант с вероятностями LogisticRegression\n",
    "lr = LogisticRegression()\n",
    "lr.fit(X_train, y_train)\n",
    "predict_lr_proba = lr.predict_proba(X_test)"
   ]
  },
  {
   "cell_type": "code",
   "execution_count": 57,
   "metadata": {},
   "outputs": [
    {
     "data": {
      "text/plain": [
       "0.52248917379129"
      ]
     },
     "execution_count": 57,
     "metadata": {},
     "output_type": "execute_result"
    }
   ],
   "source": [
    "#roc_auc для LogisticRegression\n",
    "precision_lr_proba, recall_lr_proba, thresholds_lr_proba = precision_recall_curve(y_test, predict_lr_proba[:, 1])\n",
    "roc_auc_score(y_test, predict_lr_proba[:,1])"
   ]
  },
  {
   "cell_type": "code",
   "execution_count": null,
   "metadata": {
    "collapsed": true
   },
   "outputs": [],
   "source": [
    "# Визуалищировать эти метрики всех моделей на одном графике (чтоб визуально посмотреть)\n",
    "\n",
    "# Ваш код :-)"
   ]
  },
  {
   "cell_type": "code",
   "execution_count": 59,
   "metadata": {},
   "outputs": [
    {
     "data": {
      "text/plain": [
       "(-0.01, 1.01)"
      ]
     },
     "execution_count": 59,
     "metadata": {},
     "output_type": "execute_result"
    },
    {
     "data": {
      "image/png": "[encoded data removed]",
      "text/plain": [
       "<matplotlib.figure.Figure at 0x16963492c50>"
      ]
     },
     "metadata": {},
     "output_type": "display_data"
    }
   ],
   "source": [
    "%matplotlib inline\n",
    "from matplotlib import pyplot as plt\n",
    "plt.figure(figsize=(5, 5))\n",
    "\n",
    "plt.plot(precision_lr_proba, recall_lr_proba)\n",
    "plt.plot(precision_rfc_proba, recall_rfc_proba)\n",
    "plt.plot(precision_dtc_proba, recall_dtc_proba)\n",
    "\n",
    "plt.ylabel('recall')\n",
    "plt.xlabel('precision')\n",
    "plt.grid(True)\n",
    "plt.title('PR curve')\n",
    "plt.xlim((-0.01, 1.01))\n",
    "plt.ylim((-0.01, 1.01))"
   ]
  },
  {
   "cell_type": "code",
   "execution_count": null,
   "metadata": {
    "collapsed": true
   },
   "outputs": [],
   "source": [
    "# Потроить roc-кривые всех можелей на одном графике\n",
    "# Вывести roc_auc каждой моделе\n",
    "\n",
    "# Ваш код :-)"
   ]
  },
  {
   "cell_type": "code",
   "execution_count": 60,
   "metadata": {},
   "outputs": [
    {
     "name": "stdout",
     "output_type": "stream",
     "text": [
      "rfc_roc_auc =  0.6120635162337421\n",
      "dtc_roc_auc =  0.5425501571007301\n",
      "lr_roc_auc =  0.52248917379129\n"
     ]
    },
    {
     "data": {
      "image/png": "[encoded data removed]",
      "text/plain": [
       "<matplotlib.figure.Figure at 0x16963492668>"
      ]
     },
     "metadata": {},
     "output_type": "display_data"
    }
   ],
   "source": [
    "%matplotlib inline\n",
    "from matplotlib import pyplot as plt\n",
    "from sklearn.metrics import roc_auc_score, roc_curve\n",
    "\n",
    "\n",
    "fpr, tpr, thresholds = roc_curve(y_test, predict_rfc_proba[:,1])\n",
    "fpr2, tpr2, thresholds2 = roc_curve(y_test, predict_lr_proba[:,1])\n",
    "fpr3, tpr3, thresholds3 = roc_curve(y_test, predict_dtc_proba[:,1])\n",
    "\n",
    "plt.figure(figsize=(5, 5))\n",
    "plt.plot(fpr, tpr)\n",
    "plt.plot(fpr2, tpr2)\n",
    "plt.plot(fpr3, tpr3)\n",
    "plt.plot([0, 1], [0, 1])\n",
    "plt.ylabel('tpr')\n",
    "plt.xlabel('fpr')\n",
    "plt.grid(True)\n",
    "plt.title('ROC curve')\n",
    "plt.xlim((-0.01, 1.01))\n",
    "plt.ylim((-0.01, 1.01))\n",
    "\n",
    "rfc_roc_auc = roc_auc_score(y_test, predict_rfc_proba[:,1])\n",
    "print('rfc_roc_auc = ', rfc_roc_auc )\n",
    "dtc_roc_auc = roc_auc_score(y_test, predict_dtc_proba[:,1])\n",
    "print('dtc_roc_auc = ', dtc_roc_auc )\n",
    "lr_roc_auc = roc_auc_score(y_test, predict_lr_proba[:,1])\n",
    "print('lr_roc_auc = ', lr_roc_auc)"
   ]
  },
  {
   "cell_type": "code",
   "execution_count": 324,
   "metadata": {
    "collapsed": true
   },
   "outputs": [],
   "source": [
    "# Сделать k-fold (10 фолдов) кросс-валидацию каждой модели\n",
    "# И посчитать средний roc_auc\n",
    "\n",
    "# Ваш код :-)"
   ]
  },
  {
   "cell_type": "code",
   "execution_count": 61,
   "metadata": {},
   "outputs": [
    {
     "data": {
      "text/plain": [
       "array([0.54459475, 0.51232064, 0.51799597, 0.53631536, 0.57656527,\n",
       "       0.52053798, 0.50893001, 0.50914836, 0.53280721, 0.53708991])"
      ]
     },
     "execution_count": 61,
     "metadata": {},
     "output_type": "execute_result"
    }
   ],
   "source": [
    "# k-fold для DecisionTreeClassifier\n",
    "from sklearn.cross_validation import cross_val_score\n",
    "dtc = DecisionTreeClassifier()\n",
    "cross_val_score(\n",
    "    dtc,\n",
    "    train,\n",
    "    y,\n",
    "    scoring='roc_auc',\n",
    "    cv=10\n",
    ")"
   ]
  },
  {
   "cell_type": "code",
   "execution_count": 62,
   "metadata": {},
   "outputs": [
    {
     "name": "stdout",
     "output_type": "stream",
     "text": [
      "0.5303511526295244\n"
     ]
    }
   ],
   "source": [
    "# среднее для DecisionTreeClassifier\n",
    "dtc_k_fold = 0\n",
    "a = list(cross_val_score(\n",
    "    dtc,\n",
    "    train,\n",
    "    y,\n",
    "    scoring='roc_auc',\n",
    "    cv=10\n",
    "))\n",
    "for i in range(len(a)):\n",
    "      dtc_k_fold += a[i]\n",
    "dtc_k_fold = dtc_k_fold / 10\n",
    "print(dtc_k_fold)"
   ]
  },
  {
   "cell_type": "code",
   "execution_count": 63,
   "metadata": {},
   "outputs": [
    {
     "data": {
      "text/plain": [
       "array([0.5713037 , 0.54728512, 0.60451712, 0.60252512, 0.62351424,\n",
       "       0.55203505, 0.61371698, 0.64520993, 0.61291153, 0.63981897])"
      ]
     },
     "execution_count": 63,
     "metadata": {},
     "output_type": "execute_result"
    }
   ],
   "source": [
    "# k-fold для RandomForestClassifier\n",
    "from sklearn.cross_validation import cross_val_score\n",
    "rfc = RandomForestClassifier()\n",
    "cross_val_score(\n",
    "    rfc,\n",
    "    train,\n",
    "    y,\n",
    "    scoring='roc_auc',\n",
    "    cv=10\n",
    ")"
   ]
  },
  {
   "cell_type": "code",
   "execution_count": 64,
   "metadata": {},
   "outputs": [
    {
     "name": "stdout",
     "output_type": "stream",
     "text": [
      "0.5856561350294668\n"
     ]
    }
   ],
   "source": [
    "# среднее для RandomForestClassifier\n",
    "rfc_k_fold = 0\n",
    "a = list(cross_val_score(\n",
    "    rfc,\n",
    "    train,\n",
    "    y,\n",
    "    scoring='roc_auc',\n",
    "    cv=10\n",
    "))\n",
    "for i in range(len(a)):\n",
    "      rfc_k_fold += a[i]\n",
    "rfc_k_fold = rfc_k_fold / 10\n",
    "print(rfc_k_fold)"
   ]
  },
  {
   "cell_type": "code",
   "execution_count": 65,
   "metadata": {},
   "outputs": [
    {
     "data": {
      "text/plain": [
       "array([0.45696107, 0.49589039, 0.36226779, 0.3935877 , 0.56894541,\n",
       "       0.69316211, 0.54189378, 0.46996346, 0.56973233, 0.51795271])"
      ]
     },
     "execution_count": 65,
     "metadata": {},
     "output_type": "execute_result"
    }
   ],
   "source": [
    "# k-fold для LogisticRegression\n",
    "from sklearn.cross_validation import cross_val_score\n",
    "lr = LogisticRegression()\n",
    "cross_val_score(\n",
    "    lr,\n",
    "    train,\n",
    "    y,\n",
    "    scoring='roc_auc',\n",
    "    cv=10\n",
    ")"
   ]
  },
  {
   "cell_type": "code",
   "execution_count": 66,
   "metadata": {},
   "outputs": [
    {
     "name": "stdout",
     "output_type": "stream",
     "text": [
      "0.5070356744067422\n"
     ]
    }
   ],
   "source": [
    "# среднее для LogisticRegression\n",
    "lr_k_fold = 0\n",
    "a = list(cross_val_score(\n",
    "    lr,\n",
    "    train,\n",
    "    y,\n",
    "    scoring='roc_auc',\n",
    "    cv=10\n",
    "))\n",
    "for i in range(len(a)):\n",
    "      lr_k_fold += a[i]\n",
    "lr_k_fold = lr_k_fold / 10\n",
    "print(lr_k_fold)"
   ]
  },
  {
   "cell_type": "code",
   "execution_count": 67,
   "metadata": {},
   "outputs": [
    {
     "name": "stdout",
     "output_type": "stream",
     "text": [
      "Логиcтич регрессия = 0.5070356744067422\n",
      "Случайный лес = 0.5856561350294668\n",
      "Дерево решений = 0.5303511526295244\n"
     ]
    }
   ],
   "source": [
    "# смотрим, какая модель лучше\n",
    "print('Логиcтич регрессия =',lr_k_fold)\n",
    "print('Случайный лес =',rfc_k_fold)\n",
    "print('Дерево решений =',dtc_k_fold)"
   ]
  },
  {
   "cell_type": "markdown",
   "metadata": {},
   "source": [
    "### побеждает модель - Случайный лес"
   ]
  },
  {
   "cell_type": "code",
   "execution_count": 69,
   "metadata": {},
   "outputs": [
    {
     "name": "stdout",
     "output_type": "stream",
     "text": [
      "0.5425501571007301 0.52248917379129 0.6120635162337421\n"
     ]
    }
   ],
   "source": [
    "dtc = roc_auc_score(y_test, predict_dtc_proba[:,1])\n",
    "lr = roc_auc_score(y_test, predict_lr_proba[:,1])\n",
    "rfc = roc_auc_score(y_test, predict_rfc_proba[:,1])\n",
    "print( dtc, lr, rfc)\n",
    "\n",
    "#тут также подтверждается, что моель случайный лес лучше"
   ]
  },
  {
   "cell_type": "code",
   "execution_count": 37,
   "metadata": {
    "collapsed": true
   },
   "outputs": [],
   "source": [
    "# Взять лучшую модель и сделать predict (с вероятностями (!!!)) для test выборки\n",
    "\n",
    "# Ваш код :-)"
   ]
  },
  {
   "cell_type": "code",
   "execution_count": 73,
   "metadata": {},
   "outputs": [],
   "source": [
    "final = rfc.predict_proba(test)"
   ]
  },
  {
   "cell_type": "code",
   "execution_count": 74,
   "metadata": {},
   "outputs": [
    {
     "data": {
      "text/plain": [
       "(14910, 2)"
      ]
     },
     "execution_count": 74,
     "metadata": {},
     "output_type": "execute_result"
    }
   ],
   "source": [
    "final.shape"
   ]
  },
  {
   "cell_type": "code",
   "execution_count": 71,
   "metadata": {},
   "outputs": [
    {
     "data": {
      "text/plain": [
       "array([[1. , 0. ],\n",
       "       [1. , 0. ],\n",
       "       [0.6, 0.4],\n",
       "       ...,\n",
       "       [0.5, 0.5],\n",
       "       [0.9, 0.1],\n",
       "       [0.6, 0.4]])"
      ]
     },
     "execution_count": 71,
     "metadata": {},
     "output_type": "execute_result"
    }
   ],
   "source": [
    "rfc = RandomForestClassifier()\n",
    "rfc.fit(X_train, y_train)\n",
    "final1 = rfc.predict_proba(test)\n",
    "final1"
   ]
  },
  {
   "cell_type": "code",
   "execution_count": 72,
   "metadata": {},
   "outputs": [
    {
     "data": {
      "text/plain": [
       "(14910, 2)"
      ]
     },
     "execution_count": 72,
     "metadata": {},
     "output_type": "execute_result"
    }
   ],
   "source": [
    "final1.shape"
   ]
  }
 ],
 "metadata": {
  "kernelspec": {
   "display_name": "Python 3",
   "language": "python",
   "name": "python3"
  },
  "language_info": {
   "codemirror_mode": {
    "name": "ipython",
    "version": 3
   },
   "file_extension": ".py",
   "mimetype": "text/x-python",
   "name": "python",
   "nbconvert_exporter": "python",
   "pygments_lexer": "ipython3",
   "version": "3.6.3"
  }
 },
 "nbformat": 4,
 "nbformat_minor": 2
}
